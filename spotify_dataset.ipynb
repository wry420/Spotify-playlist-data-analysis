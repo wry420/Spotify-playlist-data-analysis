{
 "cells": [
  {
   "cell_type": "markdown",
   "id": "9954f0bc-cb2c-4a97-ab8c-67f77e79183a",
   "metadata": {},
   "source": [
    "## Importing Libraries "
   ]
  },
  {
   "cell_type": "code",
   "execution_count": 2,
   "id": "25fd00e1-eb62-4af5-8d68-22ed088cb44a",
   "metadata": {},
   "outputs": [],
   "source": [
    "import pandas as pd \n",
    "import numpy as np\n",
    "import plotly.express as px\n",
    "import plotly.subplots as sp"
   ]
  },
  {
   "cell_type": "markdown",
   "id": "86ee97e2-894a-44ce-a02a-9a071a3a344e",
   "metadata": {},
   "source": [
    "## Reading & cleaning playlist attribute CSV file  "
   ]
  },
  {
   "cell_type": "code",
   "execution_count": 3,
   "id": "bdb16221-45f4-4220-922e-6a06759ca8ef",
   "metadata": {},
   "outputs": [
    {
     "data": {
      "text/html": [
       "<div>\n",
       "<style scoped>\n",
       "    .dataframe tbody tr th:only-of-type {\n",
       "        vertical-align: middle;\n",
       "    }\n",
       "\n",
       "    .dataframe tbody tr th {\n",
       "        vertical-align: top;\n",
       "    }\n",
       "\n",
       "    .dataframe thead th {\n",
       "        text-align: right;\n",
       "    }\n",
       "</style>\n",
       "<table border=\"1\" class=\"dataframe\">\n",
       "  <thead>\n",
       "    <tr style=\"text-align: right;\">\n",
       "      <th></th>\n",
       "      <th>Name</th>\n",
       "      <th>Artist</th>\n",
       "      <th>Duration</th>\n",
       "      <th>Acousticness</th>\n",
       "      <th>Danceability</th>\n",
       "      <th>Energy</th>\n",
       "      <th>Instrumentalness</th>\n",
       "      <th>Liveness</th>\n",
       "      <th>Loudness</th>\n",
       "      <th>Speechiness</th>\n",
       "      <th>Tempo</th>\n",
       "      <th>Valence</th>\n",
       "    </tr>\n",
       "  </thead>\n",
       "  <tbody>\n",
       "    <tr>\n",
       "      <th>0</th>\n",
       "      <td>Like a Rolling Stone</td>\n",
       "      <td>Bob Dylan</td>\n",
       "      <td>6:09</td>\n",
       "      <td>0.7310</td>\n",
       "      <td>0.482</td>\n",
       "      <td>0.721</td>\n",
       "      <td>0.000000</td>\n",
       "      <td>0.1890</td>\n",
       "      <td>-6.839</td>\n",
       "      <td>0.0321</td>\n",
       "      <td>95.263</td>\n",
       "      <td>0.557</td>\n",
       "    </tr>\n",
       "    <tr>\n",
       "      <th>1</th>\n",
       "      <td>(I Can't Get No) Satisfaction - Mono Version /...</td>\n",
       "      <td>The Rolling Stones</td>\n",
       "      <td>3:42</td>\n",
       "      <td>0.0354</td>\n",
       "      <td>0.722</td>\n",
       "      <td>0.882</td>\n",
       "      <td>0.049600</td>\n",
       "      <td>0.1190</td>\n",
       "      <td>-6.763</td>\n",
       "      <td>0.0348</td>\n",
       "      <td>136.299</td>\n",
       "      <td>0.921</td>\n",
       "    </tr>\n",
       "    <tr>\n",
       "      <th>2</th>\n",
       "      <td>Imagine - Remastered 2010</td>\n",
       "      <td>John Lennon</td>\n",
       "      <td>3:07</td>\n",
       "      <td>0.9070</td>\n",
       "      <td>0.547</td>\n",
       "      <td>0.257</td>\n",
       "      <td>0.183000</td>\n",
       "      <td>0.0935</td>\n",
       "      <td>-12.358</td>\n",
       "      <td>0.0252</td>\n",
       "      <td>75.752</td>\n",
       "      <td>0.169</td>\n",
       "    </tr>\n",
       "    <tr>\n",
       "      <th>3</th>\n",
       "      <td>Purple Rain</td>\n",
       "      <td>Prince</td>\n",
       "      <td>8:40</td>\n",
       "      <td>0.0353</td>\n",
       "      <td>0.367</td>\n",
       "      <td>0.452</td>\n",
       "      <td>0.002280</td>\n",
       "      <td>0.6890</td>\n",
       "      <td>-10.422</td>\n",
       "      <td>0.0307</td>\n",
       "      <td>113.066</td>\n",
       "      <td>0.189</td>\n",
       "    </tr>\n",
       "    <tr>\n",
       "      <th>4</th>\n",
       "      <td>What's Going On</td>\n",
       "      <td>Marvin Gaye</td>\n",
       "      <td>3:53</td>\n",
       "      <td>0.4030</td>\n",
       "      <td>0.280</td>\n",
       "      <td>0.720</td>\n",
       "      <td>0.000001</td>\n",
       "      <td>0.3940</td>\n",
       "      <td>-9.668</td>\n",
       "      <td>0.1110</td>\n",
       "      <td>202.523</td>\n",
       "      <td>0.805</td>\n",
       "    </tr>\n",
       "  </tbody>\n",
       "</table>\n",
       "</div>"
      ],
      "text/plain": [
       "                                                Name              Artist  \\\n",
       "0                               Like a Rolling Stone           Bob Dylan   \n",
       "1  (I Can't Get No) Satisfaction - Mono Version /...  The Rolling Stones   \n",
       "2                          Imagine - Remastered 2010         John Lennon   \n",
       "3                                        Purple Rain              Prince   \n",
       "4                                    What's Going On         Marvin Gaye   \n",
       "\n",
       "  Duration  Acousticness  Danceability  Energy  Instrumentalness  Liveness  \\\n",
       "0     6:09        0.7310         0.482   0.721          0.000000    0.1890   \n",
       "1     3:42        0.0354         0.722   0.882          0.049600    0.1190   \n",
       "2     3:07        0.9070         0.547   0.257          0.183000    0.0935   \n",
       "3     8:40        0.0353         0.367   0.452          0.002280    0.6890   \n",
       "4     3:53        0.4030         0.280   0.720          0.000001    0.3940   \n",
       "\n",
       "   Loudness  Speechiness    Tempo  Valence  \n",
       "0    -6.839       0.0321   95.263    0.557  \n",
       "1    -6.763       0.0348  136.299    0.921  \n",
       "2   -12.358       0.0252   75.752    0.169  \n",
       "3   -10.422       0.0307  113.066    0.189  \n",
       "4    -9.668       0.1110  202.523    0.805  "
      ]
     },
     "execution_count": 3,
     "metadata": {},
     "output_type": "execute_result"
    }
   ],
   "source": [
    "dfOriginal = pd.read_csv('playlist_data.csv')\n",
    "# playlist link: https://open.spotify.com/playlist/5Rrf7mqN8uus2AaQQQNdc1?si=6bfa43c85b9a465f\n",
    "# playlist attribute data extracted using: https://skiley.net/ \n",
    "dfOriginal.head()"
   ]
  },
  {
   "cell_type": "code",
   "execution_count": 4,
   "id": "f28321a8-3b2d-46f8-ae85-2eaaad86a436",
   "metadata": {},
   "outputs": [
    {
     "data": {
      "text/html": [
       "<div>\n",
       "<style scoped>\n",
       "    .dataframe tbody tr th:only-of-type {\n",
       "        vertical-align: middle;\n",
       "    }\n",
       "\n",
       "    .dataframe tbody tr th {\n",
       "        vertical-align: top;\n",
       "    }\n",
       "\n",
       "    .dataframe thead th {\n",
       "        text-align: right;\n",
       "    }\n",
       "</style>\n",
       "<table border=\"1\" class=\"dataframe\">\n",
       "  <thead>\n",
       "    <tr style=\"text-align: right;\">\n",
       "      <th></th>\n",
       "      <th>Acousticness</th>\n",
       "      <th>Danceability</th>\n",
       "      <th>Energy</th>\n",
       "      <th>Instrumentalness</th>\n",
       "      <th>Liveness</th>\n",
       "      <th>Loudness</th>\n",
       "      <th>Speechiness</th>\n",
       "      <th>Tempo</th>\n",
       "      <th>Valence</th>\n",
       "    </tr>\n",
       "  </thead>\n",
       "  <tbody>\n",
       "    <tr>\n",
       "      <th>0</th>\n",
       "      <td>0.7310</td>\n",
       "      <td>0.482</td>\n",
       "      <td>0.721</td>\n",
       "      <td>0.000000</td>\n",
       "      <td>0.1890</td>\n",
       "      <td>-6.839</td>\n",
       "      <td>0.0321</td>\n",
       "      <td>95.263</td>\n",
       "      <td>0.557</td>\n",
       "    </tr>\n",
       "    <tr>\n",
       "      <th>1</th>\n",
       "      <td>0.0354</td>\n",
       "      <td>0.722</td>\n",
       "      <td>0.882</td>\n",
       "      <td>0.049600</td>\n",
       "      <td>0.1190</td>\n",
       "      <td>-6.763</td>\n",
       "      <td>0.0348</td>\n",
       "      <td>136.299</td>\n",
       "      <td>0.921</td>\n",
       "    </tr>\n",
       "    <tr>\n",
       "      <th>2</th>\n",
       "      <td>0.9070</td>\n",
       "      <td>0.547</td>\n",
       "      <td>0.257</td>\n",
       "      <td>0.183000</td>\n",
       "      <td>0.0935</td>\n",
       "      <td>-12.358</td>\n",
       "      <td>0.0252</td>\n",
       "      <td>75.752</td>\n",
       "      <td>0.169</td>\n",
       "    </tr>\n",
       "    <tr>\n",
       "      <th>3</th>\n",
       "      <td>0.0353</td>\n",
       "      <td>0.367</td>\n",
       "      <td>0.452</td>\n",
       "      <td>0.002280</td>\n",
       "      <td>0.6890</td>\n",
       "      <td>-10.422</td>\n",
       "      <td>0.0307</td>\n",
       "      <td>113.066</td>\n",
       "      <td>0.189</td>\n",
       "    </tr>\n",
       "    <tr>\n",
       "      <th>4</th>\n",
       "      <td>0.4030</td>\n",
       "      <td>0.280</td>\n",
       "      <td>0.720</td>\n",
       "      <td>0.000001</td>\n",
       "      <td>0.3940</td>\n",
       "      <td>-9.668</td>\n",
       "      <td>0.1110</td>\n",
       "      <td>202.523</td>\n",
       "      <td>0.805</td>\n",
       "    </tr>\n",
       "  </tbody>\n",
       "</table>\n",
       "</div>"
      ],
      "text/plain": [
       "   Acousticness  Danceability  Energy  Instrumentalness  Liveness  Loudness  \\\n",
       "0        0.7310         0.482   0.721          0.000000    0.1890    -6.839   \n",
       "1        0.0354         0.722   0.882          0.049600    0.1190    -6.763   \n",
       "2        0.9070         0.547   0.257          0.183000    0.0935   -12.358   \n",
       "3        0.0353         0.367   0.452          0.002280    0.6890   -10.422   \n",
       "4        0.4030         0.280   0.720          0.000001    0.3940    -9.668   \n",
       "\n",
       "   Speechiness    Tempo  Valence  \n",
       "0       0.0321   95.263    0.557  \n",
       "1       0.0348  136.299    0.921  \n",
       "2       0.0252   75.752    0.169  \n",
       "3       0.0307  113.066    0.189  \n",
       "4       0.1110  202.523    0.805  "
      ]
     },
     "execution_count": 4,
     "metadata": {},
     "output_type": "execute_result"
    }
   ],
   "source": [
    "#Creating a dataframe only of the attributes of tracks\n",
    "df = dfOriginal.drop(dfOriginal[['Name','Artist','Duration']],axis = 1,inplace=False)\n",
    "df.head()\n"
   ]
  },
  {
   "cell_type": "markdown",
   "id": "b4a72c09-d8ea-45ed-9160-4ae8aa5eb4f4",
   "metadata": {},
   "source": [
    "## Tempo and Loudness are the only variables whose values are not between 0 and 1"
   ]
  },
  {
   "cell_type": "code",
   "execution_count": 5,
   "id": "38c86cad-e5eb-46ae-b14e-e4712af46048",
   "metadata": {},
   "outputs": [
    {
     "data": {
      "text/html": [
       "<div>\n",
       "<style scoped>\n",
       "    .dataframe tbody tr th:only-of-type {\n",
       "        vertical-align: middle;\n",
       "    }\n",
       "\n",
       "    .dataframe tbody tr th {\n",
       "        vertical-align: top;\n",
       "    }\n",
       "\n",
       "    .dataframe thead th {\n",
       "        text-align: right;\n",
       "    }\n",
       "</style>\n",
       "<table border=\"1\" class=\"dataframe\">\n",
       "  <thead>\n",
       "    <tr style=\"text-align: right;\">\n",
       "      <th></th>\n",
       "      <th>Acousticness</th>\n",
       "      <th>Danceability</th>\n",
       "      <th>Energy</th>\n",
       "      <th>Instrumentalness</th>\n",
       "      <th>Liveness</th>\n",
       "      <th>Speechiness</th>\n",
       "      <th>Valence</th>\n",
       "    </tr>\n",
       "  </thead>\n",
       "  <tbody>\n",
       "    <tr>\n",
       "      <th>min</th>\n",
       "      <td>0.000016</td>\n",
       "      <td>0.184</td>\n",
       "      <td>0.0338</td>\n",
       "      <td>0.000</td>\n",
       "      <td>0.0273</td>\n",
       "      <td>0.0239</td>\n",
       "      <td>0.0574</td>\n",
       "    </tr>\n",
       "    <tr>\n",
       "      <th>max</th>\n",
       "      <td>0.989000</td>\n",
       "      <td>0.947</td>\n",
       "      <td>0.9800</td>\n",
       "      <td>0.949</td>\n",
       "      <td>0.9860</td>\n",
       "      <td>0.4050</td>\n",
       "      <td>0.9870</td>\n",
       "    </tr>\n",
       "  </tbody>\n",
       "</table>\n",
       "</div>"
      ],
      "text/plain": [
       "     Acousticness  Danceability  Energy  Instrumentalness  Liveness  \\\n",
       "min      0.000016         0.184  0.0338             0.000    0.0273   \n",
       "max      0.989000         0.947  0.9800             0.949    0.9860   \n",
       "\n",
       "     Speechiness  Valence  \n",
       "min       0.0239   0.0574  \n",
       "max       0.4050   0.9870  "
      ]
     },
     "execution_count": 5,
     "metadata": {},
     "output_type": "execute_result"
    }
   ],
   "source": [
    "#Table to see min/max values of other attributes\n",
    "df.drop(['Tempo','Loudness'],axis=1, inplace =False).describe().loc[['min','max']]"
   ]
  },
  {
   "cell_type": "code",
   "execution_count": 6,
   "id": "2e2825f4-b59b-4c55-a0cd-335a5d683909",
   "metadata": {},
   "outputs": [
    {
     "data": {
      "text/html": [
       "<div>\n",
       "<style scoped>\n",
       "    .dataframe tbody tr th:only-of-type {\n",
       "        vertical-align: middle;\n",
       "    }\n",
       "\n",
       "    .dataframe tbody tr th {\n",
       "        vertical-align: top;\n",
       "    }\n",
       "\n",
       "    .dataframe thead th {\n",
       "        text-align: right;\n",
       "    }\n",
       "</style>\n",
       "<table border=\"1\" class=\"dataframe\">\n",
       "  <thead>\n",
       "    <tr style=\"text-align: right;\">\n",
       "      <th></th>\n",
       "      <th>Tempo</th>\n",
       "      <th>Loudness</th>\n",
       "    </tr>\n",
       "  </thead>\n",
       "  <tbody>\n",
       "    <tr>\n",
       "      <th>min</th>\n",
       "      <td>63.993</td>\n",
       "      <td>-20.567</td>\n",
       "    </tr>\n",
       "    <tr>\n",
       "      <th>max</th>\n",
       "      <td>205.981</td>\n",
       "      <td>0.878</td>\n",
       "    </tr>\n",
       "  </tbody>\n",
       "</table>\n",
       "</div>"
      ],
      "text/plain": [
       "       Tempo  Loudness\n",
       "min   63.993   -20.567\n",
       "max  205.981     0.878"
      ]
     },
     "execution_count": 6,
     "metadata": {},
     "output_type": "execute_result"
    }
   ],
   "source": [
    "#Table to see min/max values of Tempo and Loudness\n",
    "df[['Tempo','Loudness']].describe().loc[['min','max']]"
   ]
  },
  {
   "cell_type": "markdown",
   "id": "a5c162b0-dda9-4527-b775-fcb7f33f0429",
   "metadata": {},
   "source": [
    "## Standardizing with MinMaxScaler()"
   ]
  },
  {
   "cell_type": "code",
   "execution_count": 7,
   "id": "3ebfc327-4fc3-40ff-9736-e20588b87179",
   "metadata": {},
   "outputs": [
    {
     "data": {
      "text/html": [
       "<div>\n",
       "<style scoped>\n",
       "    .dataframe tbody tr th:only-of-type {\n",
       "        vertical-align: middle;\n",
       "    }\n",
       "\n",
       "    .dataframe tbody tr th {\n",
       "        vertical-align: top;\n",
       "    }\n",
       "\n",
       "    .dataframe thead th {\n",
       "        text-align: right;\n",
       "    }\n",
       "</style>\n",
       "<table border=\"1\" class=\"dataframe\">\n",
       "  <thead>\n",
       "    <tr style=\"text-align: right;\">\n",
       "      <th></th>\n",
       "      <th>Tempo</th>\n",
       "      <th>Tempo_scaled</th>\n",
       "      <th>Loudness</th>\n",
       "      <th>Loudness_scaled</th>\n",
       "    </tr>\n",
       "  </thead>\n",
       "  <tbody>\n",
       "    <tr>\n",
       "      <th>min</th>\n",
       "      <td>63.993</td>\n",
       "      <td>0.0</td>\n",
       "      <td>-20.567</td>\n",
       "      <td>0.0</td>\n",
       "    </tr>\n",
       "    <tr>\n",
       "      <th>max</th>\n",
       "      <td>205.981</td>\n",
       "      <td>1.0</td>\n",
       "      <td>0.878</td>\n",
       "      <td>1.0</td>\n",
       "    </tr>\n",
       "  </tbody>\n",
       "</table>\n",
       "</div>"
      ],
      "text/plain": [
       "       Tempo  Tempo_scaled  Loudness  Loudness_scaled\n",
       "min   63.993           0.0   -20.567              0.0\n",
       "max  205.981           1.0     0.878              1.0"
      ]
     },
     "execution_count": 7,
     "metadata": {},
     "output_type": "execute_result"
    }
   ],
   "source": [
    "from sklearn.preprocessing import MinMaxScaler\n",
    "scaler =MinMaxScaler(feature_range=(0,1)) \n",
    "df['Tempo_scaled']=scaler.fit_transform(df[['Tempo']])\n",
    "df['Loudness_scaled']=scaler.fit_transform(df[['Loudness']])\n",
    "df[['Tempo','Tempo_scaled','Loudness','Loudness_scaled']].describe().loc[['min','max']]"
   ]
  },
  {
   "cell_type": "code",
   "execution_count": 8,
   "id": "4a6a387d-a86a-45d3-a94b-cce761a5793f",
   "metadata": {},
   "outputs": [],
   "source": [
    "df.drop(['Tempo','Loudness'],axis=1,inplace=True)"
   ]
  },
  {
   "cell_type": "code",
   "execution_count": 9,
   "id": "4ea14b7b-edc0-4469-80a8-caef80c85440",
   "metadata": {},
   "outputs": [
    {
     "data": {
      "text/html": [
       "<div>\n",
       "<style scoped>\n",
       "    .dataframe tbody tr th:only-of-type {\n",
       "        vertical-align: middle;\n",
       "    }\n",
       "\n",
       "    .dataframe tbody tr th {\n",
       "        vertical-align: top;\n",
       "    }\n",
       "\n",
       "    .dataframe thead th {\n",
       "        text-align: right;\n",
       "    }\n",
       "</style>\n",
       "<table border=\"1\" class=\"dataframe\">\n",
       "  <thead>\n",
       "    <tr style=\"text-align: right;\">\n",
       "      <th></th>\n",
       "      <th>Acousticness</th>\n",
       "      <th>Danceability</th>\n",
       "      <th>Energy</th>\n",
       "      <th>Instrumentalness</th>\n",
       "      <th>Liveness</th>\n",
       "      <th>Speechiness</th>\n",
       "      <th>Valence</th>\n",
       "      <th>Tempo_scaled</th>\n",
       "      <th>Loudness_scaled</th>\n",
       "    </tr>\n",
       "  </thead>\n",
       "  <tbody>\n",
       "    <tr>\n",
       "      <th>0</th>\n",
       "      <td>0.7310</td>\n",
       "      <td>0.482</td>\n",
       "      <td>0.721</td>\n",
       "      <td>0.000000</td>\n",
       "      <td>0.1890</td>\n",
       "      <td>0.0321</td>\n",
       "      <td>0.557</td>\n",
       "      <td>0.220230</td>\n",
       "      <td>0.640149</td>\n",
       "    </tr>\n",
       "    <tr>\n",
       "      <th>1</th>\n",
       "      <td>0.0354</td>\n",
       "      <td>0.722</td>\n",
       "      <td>0.882</td>\n",
       "      <td>0.049600</td>\n",
       "      <td>0.1190</td>\n",
       "      <td>0.0348</td>\n",
       "      <td>0.921</td>\n",
       "      <td>0.509240</td>\n",
       "      <td>0.643693</td>\n",
       "    </tr>\n",
       "    <tr>\n",
       "      <th>2</th>\n",
       "      <td>0.9070</td>\n",
       "      <td>0.547</td>\n",
       "      <td>0.257</td>\n",
       "      <td>0.183000</td>\n",
       "      <td>0.0935</td>\n",
       "      <td>0.0252</td>\n",
       "      <td>0.169</td>\n",
       "      <td>0.082817</td>\n",
       "      <td>0.382793</td>\n",
       "    </tr>\n",
       "    <tr>\n",
       "      <th>3</th>\n",
       "      <td>0.0353</td>\n",
       "      <td>0.367</td>\n",
       "      <td>0.452</td>\n",
       "      <td>0.002280</td>\n",
       "      <td>0.6890</td>\n",
       "      <td>0.0307</td>\n",
       "      <td>0.189</td>\n",
       "      <td>0.345614</td>\n",
       "      <td>0.473071</td>\n",
       "    </tr>\n",
       "    <tr>\n",
       "      <th>4</th>\n",
       "      <td>0.4030</td>\n",
       "      <td>0.280</td>\n",
       "      <td>0.720</td>\n",
       "      <td>0.000001</td>\n",
       "      <td>0.3940</td>\n",
       "      <td>0.1110</td>\n",
       "      <td>0.805</td>\n",
       "      <td>0.975646</td>\n",
       "      <td>0.508230</td>\n",
       "    </tr>\n",
       "  </tbody>\n",
       "</table>\n",
       "</div>"
      ],
      "text/plain": [
       "   Acousticness  Danceability  Energy  Instrumentalness  Liveness  \\\n",
       "0        0.7310         0.482   0.721          0.000000    0.1890   \n",
       "1        0.0354         0.722   0.882          0.049600    0.1190   \n",
       "2        0.9070         0.547   0.257          0.183000    0.0935   \n",
       "3        0.0353         0.367   0.452          0.002280    0.6890   \n",
       "4        0.4030         0.280   0.720          0.000001    0.3940   \n",
       "\n",
       "   Speechiness  Valence  Tempo_scaled  Loudness_scaled  \n",
       "0       0.0321    0.557      0.220230         0.640149  \n",
       "1       0.0348    0.921      0.509240         0.643693  \n",
       "2       0.0252    0.169      0.082817         0.382793  \n",
       "3       0.0307    0.189      0.345614         0.473071  \n",
       "4       0.1110    0.805      0.975646         0.508230  "
      ]
     },
     "execution_count": 9,
     "metadata": {},
     "output_type": "execute_result"
    }
   ],
   "source": [
    "#New table with scaled attributes\n",
    "df.head()"
   ]
  },
  {
   "cell_type": "markdown",
   "id": "7b352768-55cc-473d-92e0-4c944f77f6e6",
   "metadata": {},
   "source": [
    "## Using Principal Component Analysis (PCA), decomposing 9 attributes to 2 "
   ]
  },
  {
   "cell_type": "code",
   "execution_count": 75,
   "id": "8899461f-d68a-4524-8f73-723d66896ad2",
   "metadata": {},
   "outputs": [],
   "source": [
    "from sklearn.decomposition import PCA\n",
    "pca = PCA(n_components=2)\n",
    "df_2d = pca.fit_transform(df)"
   ]
  },
  {
   "cell_type": "markdown",
   "id": "8a06de6c-7d24-48a3-b802-879c9b44c936",
   "metadata": {},
   "source": [
    " ## Finding Sum of Squared Errors(SSE) and Silhoutte Scores"
   ]
  },
  {
   "cell_type": "code",
   "execution_count": 104,
   "id": "7f50d526-82d7-4c43-8b5c-ff673d52ac9d",
   "metadata": {},
   "outputs": [],
   "source": [
    "from sklearn.cluster import KMeans\n",
    "from sklearn.metrics import silhouette_score\n",
    "\n",
    "sse=[]\n",
    "s_score=[]\n",
    "#Finding SSE for number of clusters from 1-15\n",
    "#Additionally, finding the silhouette score at these cluster numbers to determine their quality\n",
    "for k in range(1, 15):\n",
    "    km = KMeans(n_clusters=k,n_init = 'auto',random_state=42)\n",
    "    if k>1:\n",
    "        cluster= km.fit_predict(df_2d)\n",
    "        s_score.append(silhouette_score(df_2d,cluster))\n",
    "    km.fit(df_2d)\n",
    "    sse.append(km.inertia_)\n"
   ]
  },
  {
   "cell_type": "markdown",
   "id": "0c4be1ad-784a-419a-a197-164809499584",
   "metadata": {},
   "source": [
    "## Plotting SSE for Elbow Point"
   ]
  },
  {
   "cell_type": "code",
   "execution_count": 130,
   "id": "f54e3859-6ea3-4da2-b986-375492a4280d",
   "metadata": {},
   "outputs": [
    {
     "data": {
      "application/vnd.plotly.v1+json": {
       "config": {
        "plotlyServerURL": "https://plot.ly"
       },
       "data": [
        {
         "hovertemplate": "x=%{x}<br>y=%{y}<extra></extra>",
         "legendgroup": "",
         "line": {
          "color": "#636efa",
          "dash": "solid"
         },
         "marker": {
          "symbol": "circle"
         },
         "mode": "lines",
         "name": "",
         "orientation": "v",
         "showlegend": false,
         "type": "scatter",
         "x": [
          1,
          2,
          3,
          4,
          5,
          6,
          7,
          8,
          9,
          10,
          11,
          12,
          13,
          14
         ],
         "xaxis": "x",
         "y": [
          92.96418183344237,
          49.80455031755295,
          34.42711857916302,
          24.877881178055617,
          20.27287273450318,
          17.489580838846702,
          15.860552450358187,
          13.421996397321632,
          11.922256225259373,
          10.569617834693574,
          9.26404983755642,
          8.35219638567558,
          7.762601634513788,
          7.317268326812402
         ],
         "yaxis": "y"
        }
       ],
       "layout": {
        "annotations": [
         {
          "arrowhead": 1,
          "arrowsize": 2,
          "ax": 0,
          "ay": -100,
          "showarrow": true,
          "text": "Elbow Point",
          "x": 5,
          "y": 20.3
         }
        ],
        "height": 500,
        "legend": {
         "tracegroupgap": 0
        },
        "margin": {
         "t": 60
        },
        "template": {
         "data": {
          "bar": [
           {
            "error_x": {
             "color": "#2a3f5f"
            },
            "error_y": {
             "color": "#2a3f5f"
            },
            "marker": {
             "line": {
              "color": "#E5ECF6",
              "width": 0.5
             },
             "pattern": {
              "fillmode": "overlay",
              "size": 10,
              "solidity": 0.2
             }
            },
            "type": "bar"
           }
          ],
          "barpolar": [
           {
            "marker": {
             "line": {
              "color": "#E5ECF6",
              "width": 0.5
             },
             "pattern": {
              "fillmode": "overlay",
              "size": 10,
              "solidity": 0.2
             }
            },
            "type": "barpolar"
           }
          ],
          "carpet": [
           {
            "aaxis": {
             "endlinecolor": "#2a3f5f",
             "gridcolor": "white",
             "linecolor": "white",
             "minorgridcolor": "white",
             "startlinecolor": "#2a3f5f"
            },
            "baxis": {
             "endlinecolor": "#2a3f5f",
             "gridcolor": "white",
             "linecolor": "white",
             "minorgridcolor": "white",
             "startlinecolor": "#2a3f5f"
            },
            "type": "carpet"
           }
          ],
          "choropleth": [
           {
            "colorbar": {
             "outlinewidth": 0,
             "ticks": ""
            },
            "type": "choropleth"
           }
          ],
          "contour": [
           {
            "colorbar": {
             "outlinewidth": 0,
             "ticks": ""
            },
            "colorscale": [
             [
              0,
              "#0d0887"
             ],
             [
              0.1111111111111111,
              "#46039f"
             ],
             [
              0.2222222222222222,
              "#7201a8"
             ],
             [
              0.3333333333333333,
              "#9c179e"
             ],
             [
              0.4444444444444444,
              "#bd3786"
             ],
             [
              0.5555555555555556,
              "#d8576b"
             ],
             [
              0.6666666666666666,
              "#ed7953"
             ],
             [
              0.7777777777777778,
              "#fb9f3a"
             ],
             [
              0.8888888888888888,
              "#fdca26"
             ],
             [
              1,
              "#f0f921"
             ]
            ],
            "type": "contour"
           }
          ],
          "contourcarpet": [
           {
            "colorbar": {
             "outlinewidth": 0,
             "ticks": ""
            },
            "type": "contourcarpet"
           }
          ],
          "heatmap": [
           {
            "colorbar": {
             "outlinewidth": 0,
             "ticks": ""
            },
            "colorscale": [
             [
              0,
              "#0d0887"
             ],
             [
              0.1111111111111111,
              "#46039f"
             ],
             [
              0.2222222222222222,
              "#7201a8"
             ],
             [
              0.3333333333333333,
              "#9c179e"
             ],
             [
              0.4444444444444444,
              "#bd3786"
             ],
             [
              0.5555555555555556,
              "#d8576b"
             ],
             [
              0.6666666666666666,
              "#ed7953"
             ],
             [
              0.7777777777777778,
              "#fb9f3a"
             ],
             [
              0.8888888888888888,
              "#fdca26"
             ],
             [
              1,
              "#f0f921"
             ]
            ],
            "type": "heatmap"
           }
          ],
          "heatmapgl": [
           {
            "colorbar": {
             "outlinewidth": 0,
             "ticks": ""
            },
            "colorscale": [
             [
              0,
              "#0d0887"
             ],
             [
              0.1111111111111111,
              "#46039f"
             ],
             [
              0.2222222222222222,
              "#7201a8"
             ],
             [
              0.3333333333333333,
              "#9c179e"
             ],
             [
              0.4444444444444444,
              "#bd3786"
             ],
             [
              0.5555555555555556,
              "#d8576b"
             ],
             [
              0.6666666666666666,
              "#ed7953"
             ],
             [
              0.7777777777777778,
              "#fb9f3a"
             ],
             [
              0.8888888888888888,
              "#fdca26"
             ],
             [
              1,
              "#f0f921"
             ]
            ],
            "type": "heatmapgl"
           }
          ],
          "histogram": [
           {
            "marker": {
             "pattern": {
              "fillmode": "overlay",
              "size": 10,
              "solidity": 0.2
             }
            },
            "type": "histogram"
           }
          ],
          "histogram2d": [
           {
            "colorbar": {
             "outlinewidth": 0,
             "ticks": ""
            },
            "colorscale": [
             [
              0,
              "#0d0887"
             ],
             [
              0.1111111111111111,
              "#46039f"
             ],
             [
              0.2222222222222222,
              "#7201a8"
             ],
             [
              0.3333333333333333,
              "#9c179e"
             ],
             [
              0.4444444444444444,
              "#bd3786"
             ],
             [
              0.5555555555555556,
              "#d8576b"
             ],
             [
              0.6666666666666666,
              "#ed7953"
             ],
             [
              0.7777777777777778,
              "#fb9f3a"
             ],
             [
              0.8888888888888888,
              "#fdca26"
             ],
             [
              1,
              "#f0f921"
             ]
            ],
            "type": "histogram2d"
           }
          ],
          "histogram2dcontour": [
           {
            "colorbar": {
             "outlinewidth": 0,
             "ticks": ""
            },
            "colorscale": [
             [
              0,
              "#0d0887"
             ],
             [
              0.1111111111111111,
              "#46039f"
             ],
             [
              0.2222222222222222,
              "#7201a8"
             ],
             [
              0.3333333333333333,
              "#9c179e"
             ],
             [
              0.4444444444444444,
              "#bd3786"
             ],
             [
              0.5555555555555556,
              "#d8576b"
             ],
             [
              0.6666666666666666,
              "#ed7953"
             ],
             [
              0.7777777777777778,
              "#fb9f3a"
             ],
             [
              0.8888888888888888,
              "#fdca26"
             ],
             [
              1,
              "#f0f921"
             ]
            ],
            "type": "histogram2dcontour"
           }
          ],
          "mesh3d": [
           {
            "colorbar": {
             "outlinewidth": 0,
             "ticks": ""
            },
            "type": "mesh3d"
           }
          ],
          "parcoords": [
           {
            "line": {
             "colorbar": {
              "outlinewidth": 0,
              "ticks": ""
             }
            },
            "type": "parcoords"
           }
          ],
          "pie": [
           {
            "automargin": true,
            "type": "pie"
           }
          ],
          "scatter": [
           {
            "fillpattern": {
             "fillmode": "overlay",
             "size": 10,
             "solidity": 0.2
            },
            "type": "scatter"
           }
          ],
          "scatter3d": [
           {
            "line": {
             "colorbar": {
              "outlinewidth": 0,
              "ticks": ""
             }
            },
            "marker": {
             "colorbar": {
              "outlinewidth": 0,
              "ticks": ""
             }
            },
            "type": "scatter3d"
           }
          ],
          "scattercarpet": [
           {
            "marker": {
             "colorbar": {
              "outlinewidth": 0,
              "ticks": ""
             }
            },
            "type": "scattercarpet"
           }
          ],
          "scattergeo": [
           {
            "marker": {
             "colorbar": {
              "outlinewidth": 0,
              "ticks": ""
             }
            },
            "type": "scattergeo"
           }
          ],
          "scattergl": [
           {
            "marker": {
             "colorbar": {
              "outlinewidth": 0,
              "ticks": ""
             }
            },
            "type": "scattergl"
           }
          ],
          "scattermapbox": [
           {
            "marker": {
             "colorbar": {
              "outlinewidth": 0,
              "ticks": ""
             }
            },
            "type": "scattermapbox"
           }
          ],
          "scatterpolar": [
           {
            "marker": {
             "colorbar": {
              "outlinewidth": 0,
              "ticks": ""
             }
            },
            "type": "scatterpolar"
           }
          ],
          "scatterpolargl": [
           {
            "marker": {
             "colorbar": {
              "outlinewidth": 0,
              "ticks": ""
             }
            },
            "type": "scatterpolargl"
           }
          ],
          "scatterternary": [
           {
            "marker": {
             "colorbar": {
              "outlinewidth": 0,
              "ticks": ""
             }
            },
            "type": "scatterternary"
           }
          ],
          "surface": [
           {
            "colorbar": {
             "outlinewidth": 0,
             "ticks": ""
            },
            "colorscale": [
             [
              0,
              "#0d0887"
             ],
             [
              0.1111111111111111,
              "#46039f"
             ],
             [
              0.2222222222222222,
              "#7201a8"
             ],
             [
              0.3333333333333333,
              "#9c179e"
             ],
             [
              0.4444444444444444,
              "#bd3786"
             ],
             [
              0.5555555555555556,
              "#d8576b"
             ],
             [
              0.6666666666666666,
              "#ed7953"
             ],
             [
              0.7777777777777778,
              "#fb9f3a"
             ],
             [
              0.8888888888888888,
              "#fdca26"
             ],
             [
              1,
              "#f0f921"
             ]
            ],
            "type": "surface"
           }
          ],
          "table": [
           {
            "cells": {
             "fill": {
              "color": "#EBF0F8"
             },
             "line": {
              "color": "white"
             }
            },
            "header": {
             "fill": {
              "color": "#C8D4E3"
             },
             "line": {
              "color": "white"
             }
            },
            "type": "table"
           }
          ]
         },
         "layout": {
          "annotationdefaults": {
           "arrowcolor": "#2a3f5f",
           "arrowhead": 0,
           "arrowwidth": 1
          },
          "autotypenumbers": "strict",
          "coloraxis": {
           "colorbar": {
            "outlinewidth": 0,
            "ticks": ""
           }
          },
          "colorscale": {
           "diverging": [
            [
             0,
             "#8e0152"
            ],
            [
             0.1,
             "#c51b7d"
            ],
            [
             0.2,
             "#de77ae"
            ],
            [
             0.3,
             "#f1b6da"
            ],
            [
             0.4,
             "#fde0ef"
            ],
            [
             0.5,
             "#f7f7f7"
            ],
            [
             0.6,
             "#e6f5d0"
            ],
            [
             0.7,
             "#b8e186"
            ],
            [
             0.8,
             "#7fbc41"
            ],
            [
             0.9,
             "#4d9221"
            ],
            [
             1,
             "#276419"
            ]
           ],
           "sequential": [
            [
             0,
             "#0d0887"
            ],
            [
             0.1111111111111111,
             "#46039f"
            ],
            [
             0.2222222222222222,
             "#7201a8"
            ],
            [
             0.3333333333333333,
             "#9c179e"
            ],
            [
             0.4444444444444444,
             "#bd3786"
            ],
            [
             0.5555555555555556,
             "#d8576b"
            ],
            [
             0.6666666666666666,
             "#ed7953"
            ],
            [
             0.7777777777777778,
             "#fb9f3a"
            ],
            [
             0.8888888888888888,
             "#fdca26"
            ],
            [
             1,
             "#f0f921"
            ]
           ],
           "sequentialminus": [
            [
             0,
             "#0d0887"
            ],
            [
             0.1111111111111111,
             "#46039f"
            ],
            [
             0.2222222222222222,
             "#7201a8"
            ],
            [
             0.3333333333333333,
             "#9c179e"
            ],
            [
             0.4444444444444444,
             "#bd3786"
            ],
            [
             0.5555555555555556,
             "#d8576b"
            ],
            [
             0.6666666666666666,
             "#ed7953"
            ],
            [
             0.7777777777777778,
             "#fb9f3a"
            ],
            [
             0.8888888888888888,
             "#fdca26"
            ],
            [
             1,
             "#f0f921"
            ]
           ]
          },
          "colorway": [
           "#636efa",
           "#EF553B",
           "#00cc96",
           "#ab63fa",
           "#FFA15A",
           "#19d3f3",
           "#FF6692",
           "#B6E880",
           "#FF97FF",
           "#FECB52"
          ],
          "font": {
           "color": "#2a3f5f"
          },
          "geo": {
           "bgcolor": "white",
           "lakecolor": "white",
           "landcolor": "#E5ECF6",
           "showlakes": true,
           "showland": true,
           "subunitcolor": "white"
          },
          "hoverlabel": {
           "align": "left"
          },
          "hovermode": "closest",
          "mapbox": {
           "style": "light"
          },
          "paper_bgcolor": "white",
          "plot_bgcolor": "#E5ECF6",
          "polar": {
           "angularaxis": {
            "gridcolor": "white",
            "linecolor": "white",
            "ticks": ""
           },
           "bgcolor": "#E5ECF6",
           "radialaxis": {
            "gridcolor": "white",
            "linecolor": "white",
            "ticks": ""
           }
          },
          "scene": {
           "xaxis": {
            "backgroundcolor": "#E5ECF6",
            "gridcolor": "white",
            "gridwidth": 2,
            "linecolor": "white",
            "showbackground": true,
            "ticks": "",
            "zerolinecolor": "white"
           },
           "yaxis": {
            "backgroundcolor": "#E5ECF6",
            "gridcolor": "white",
            "gridwidth": 2,
            "linecolor": "white",
            "showbackground": true,
            "ticks": "",
            "zerolinecolor": "white"
           },
           "zaxis": {
            "backgroundcolor": "#E5ECF6",
            "gridcolor": "white",
            "gridwidth": 2,
            "linecolor": "white",
            "showbackground": true,
            "ticks": "",
            "zerolinecolor": "white"
           }
          },
          "shapedefaults": {
           "line": {
            "color": "#2a3f5f"
           }
          },
          "ternary": {
           "aaxis": {
            "gridcolor": "white",
            "linecolor": "white",
            "ticks": ""
           },
           "baxis": {
            "gridcolor": "white",
            "linecolor": "white",
            "ticks": ""
           },
           "bgcolor": "#E5ECF6",
           "caxis": {
            "gridcolor": "white",
            "linecolor": "white",
            "ticks": ""
           }
          },
          "title": {
           "x": 0.05
          },
          "xaxis": {
           "automargin": true,
           "gridcolor": "white",
           "linecolor": "white",
           "ticks": "",
           "title": {
            "standoff": 15
           },
           "zerolinecolor": "white",
           "zerolinewidth": 2
          },
          "yaxis": {
           "automargin": true,
           "gridcolor": "white",
           "linecolor": "white",
           "ticks": "",
           "title": {
            "standoff": 15
           },
           "zerolinecolor": "white",
           "zerolinewidth": 2
          }
         }
        },
        "width": 700,
        "xaxis": {
         "anchor": "y",
         "autorange": true,
         "domain": [
          0,
          1
         ],
         "range": [
          1,
          14
         ],
         "title": {
          "text": "K Range"
         },
         "type": "linear"
        },
        "yaxis": {
         "anchor": "x",
         "autorange": true,
         "domain": [
          0,
          1
         ],
         "range": [
          2.5591064653329587,
          97.72234369492182
         ],
         "title": {
          "text": "Sum of Square Errors"
         },
         "type": "linear"
        }
       }
      },
      "image/png": "[encoded data removed]",
      "text/html": [
       "<div>                            <div id=\"153007ca-84f8-4cc3-a0cb-f8bd5cb0c4ba\" class=\"plotly-graph-div\" style=\"height:500px; width:700px;\"></div>            <script type=\"text/javascript\">                require([\"plotly\"], function(Plotly) {                    window.PLOTLYENV=window.PLOTLYENV || {};                                    if (document.getElementById(\"153007ca-84f8-4cc3-a0cb-f8bd5cb0c4ba\")) {                    Plotly.newPlot(                        \"153007ca-84f8-4cc3-a0cb-f8bd5cb0c4ba\",                        [{\"hovertemplate\":\"x=%{x}\\u003cbr\\u003ey=%{y}\\u003cextra\\u003e\\u003c\\u002fextra\\u003e\",\"legendgroup\":\"\",\"line\":{\"color\":\"#636efa\",\"dash\":\"solid\"},\"marker\":{\"symbol\":\"circle\"},\"mode\":\"lines\",\"name\":\"\",\"orientation\":\"v\",\"showlegend\":false,\"x\":[1,2,3,4,5,6,7,8,9,10,11,12,13,14],\"xaxis\":\"x\",\"y\":[92.96418183344237,49.80455031755295,34.42711857916302,24.877881178055617,20.27287273450318,17.489580838846702,15.860552450358187,13.421996397321632,11.922256225259373,10.569617834693574,9.26404983755642,8.35219638567558,7.762601634513788,7.317268326812402],\"yaxis\":\"y\",\"type\":\"scatter\"}],                        {\"template\":{\"data\":{\"histogram2dcontour\":[{\"type\":\"histogram2dcontour\",\"colorbar\":{\"outlinewidth\":0,\"ticks\":\"\"},\"colorscale\":[[0.0,\"#0d0887\"],[0.1111111111111111,\"#46039f\"],[0.2222222222222222,\"#7201a8\"],[0.3333333333333333,\"#9c179e\"],[0.4444444444444444,\"#bd3786\"],[0.5555555555555556,\"#d8576b\"],[0.6666666666666666,\"#ed7953\"],[0.7777777777777778,\"#fb9f3a\"],[0.8888888888888888,\"#fdca26\"],[1.0,\"#f0f921\"]]}],\"choropleth\":[{\"type\":\"choropleth\",\"colorbar\":{\"outlinewidth\":0,\"ticks\":\"\"}}],\"histogram2d\":[{\"type\":\"histogram2d\",\"colorbar\":{\"outlinewidth\":0,\"ticks\":\"\"},\"colorscale\":[[0.0,\"#0d0887\"],[0.1111111111111111,\"#46039f\"],[0.2222222222222222,\"#7201a8\"],[0.3333333333333333,\"#9c179e\"],[0.4444444444444444,\"#bd3786\"],[0.5555555555555556,\"#d8576b\"],[0.6666666666666666,\"#ed7953\"],[0.7777777777777778,\"#fb9f3a\"],[0.8888888888888888,\"#fdca26\"],[1.0,\"#f0f921\"]]}],\"heatmap\":[{\"type\":\"heatmap\",\"colorbar\":{\"outlinewidth\":0,\"ticks\":\"\"},\"colorscale\":[[0.0,\"#0d0887\"],[0.1111111111111111,\"#46039f\"],[0.2222222222222222,\"#7201a8\"],[0.3333333333333333,\"#9c179e\"],[0.4444444444444444,\"#bd3786\"],[0.5555555555555556,\"#d8576b\"],[0.6666666666666666,\"#ed7953\"],[0.7777777777777778,\"#fb9f3a\"],[0.8888888888888888,\"#fdca26\"],[1.0,\"#f0f921\"]]}],\"heatmapgl\":[{\"type\":\"heatmapgl\",\"colorbar\":{\"outlinewidth\":0,\"ticks\":\"\"},\"colorscale\":[[0.0,\"#0d0887\"],[0.1111111111111111,\"#46039f\"],[0.2222222222222222,\"#7201a8\"],[0.3333333333333333,\"#9c179e\"],[0.4444444444444444,\"#bd3786\"],[0.5555555555555556,\"#d8576b\"],[0.6666666666666666,\"#ed7953\"],[0.7777777777777778,\"#fb9f3a\"],[0.8888888888888888,\"#fdca26\"],[1.0,\"#f0f921\"]]}],\"contourcarpet\":[{\"type\":\"contourcarpet\",\"colorbar\":{\"outlinewidth\":0,\"ticks\":\"\"}}],\"contour\":[{\"type\":\"contour\",\"colorbar\":{\"outlinewidth\":0,\"ticks\":\"\"},\"colorscale\":[[0.0,\"#0d0887\"],[0.1111111111111111,\"#46039f\"],[0.2222222222222222,\"#7201a8\"],[0.3333333333333333,\"#9c179e\"],[0.4444444444444444,\"#bd3786\"],[0.5555555555555556,\"#d8576b\"],[0.6666666666666666,\"#ed7953\"],[0.7777777777777778,\"#fb9f3a\"],[0.8888888888888888,\"#fdca26\"],[1.0,\"#f0f921\"]]}],\"surface\":[{\"type\":\"surface\",\"colorbar\":{\"outlinewidth\":0,\"ticks\":\"\"},\"colorscale\":[[0.0,\"#0d0887\"],[0.1111111111111111,\"#46039f\"],[0.2222222222222222,\"#7201a8\"],[0.3333333333333333,\"#9c179e\"],[0.4444444444444444,\"#bd3786\"],[0.5555555555555556,\"#d8576b\"],[0.6666666666666666,\"#ed7953\"],[0.7777777777777778,\"#fb9f3a\"],[0.8888888888888888,\"#fdca26\"],[1.0,\"#f0f921\"]]}],\"mesh3d\":[{\"type\":\"mesh3d\",\"colorbar\":{\"outlinewidth\":0,\"ticks\":\"\"}}],\"scatter\":[{\"fillpattern\":{\"fillmode\":\"overlay\",\"size\":10,\"solidity\":0.2},\"type\":\"scatter\"}],\"parcoords\":[{\"type\":\"parcoords\",\"line\":{\"colorbar\":{\"outlinewidth\":0,\"ticks\":\"\"}}}],\"scatterpolargl\":[{\"type\":\"scatterpolargl\",\"marker\":{\"colorbar\":{\"outlinewidth\":0,\"ticks\":\"\"}}}],\"bar\":[{\"error_x\":{\"color\":\"#2a3f5f\"},\"error_y\":{\"color\":\"#2a3f5f\"},\"marker\":{\"line\":{\"color\":\"#E5ECF6\",\"width\":0.5},\"pattern\":{\"fillmode\":\"overlay\",\"size\":10,\"solidity\":0.2}},\"type\":\"bar\"}],\"scattergeo\":[{\"type\":\"scattergeo\",\"marker\":{\"colorbar\":{\"outlinewidth\":0,\"ticks\":\"\"}}}],\"scatterpolar\":[{\"type\":\"scatterpolar\",\"marker\":{\"colorbar\":{\"outlinewidth\":0,\"ticks\":\"\"}}}],\"histogram\":[{\"marker\":{\"pattern\":{\"fillmode\":\"overlay\",\"size\":10,\"solidity\":0.2}},\"type\":\"histogram\"}],\"scattergl\":[{\"type\":\"scattergl\",\"marker\":{\"colorbar\":{\"outlinewidth\":0,\"ticks\":\"\"}}}],\"scatter3d\":[{\"type\":\"scatter3d\",\"line\":{\"colorbar\":{\"outlinewidth\":0,\"ticks\":\"\"}},\"marker\":{\"colorbar\":{\"outlinewidth\":0,\"ticks\":\"\"}}}],\"scattermapbox\":[{\"type\":\"scattermapbox\",\"marker\":{\"colorbar\":{\"outlinewidth\":0,\"ticks\":\"\"}}}],\"scatterternary\":[{\"type\":\"scatterternary\",\"marker\":{\"colorbar\":{\"outlinewidth\":0,\"ticks\":\"\"}}}],\"scattercarpet\":[{\"type\":\"scattercarpet\",\"marker\":{\"colorbar\":{\"outlinewidth\":0,\"ticks\":\"\"}}}],\"carpet\":[{\"aaxis\":{\"endlinecolor\":\"#2a3f5f\",\"gridcolor\":\"white\",\"linecolor\":\"white\",\"minorgridcolor\":\"white\",\"startlinecolor\":\"#2a3f5f\"},\"baxis\":{\"endlinecolor\":\"#2a3f5f\",\"gridcolor\":\"white\",\"linecolor\":\"white\",\"minorgridcolor\":\"white\",\"startlinecolor\":\"#2a3f5f\"},\"type\":\"carpet\"}],\"table\":[{\"cells\":{\"fill\":{\"color\":\"#EBF0F8\"},\"line\":{\"color\":\"white\"}},\"header\":{\"fill\":{\"color\":\"#C8D4E3\"},\"line\":{\"color\":\"white\"}},\"type\":\"table\"}],\"barpolar\":[{\"marker\":{\"line\":{\"color\":\"#E5ECF6\",\"width\":0.5},\"pattern\":{\"fillmode\":\"overlay\",\"size\":10,\"solidity\":0.2}},\"type\":\"barpolar\"}],\"pie\":[{\"automargin\":true,\"type\":\"pie\"}]},\"layout\":{\"autotypenumbers\":\"strict\",\"colorway\":[\"#636efa\",\"#EF553B\",\"#00cc96\",\"#ab63fa\",\"#FFA15A\",\"#19d3f3\",\"#FF6692\",\"#B6E880\",\"#FF97FF\",\"#FECB52\"],\"font\":{\"color\":\"#2a3f5f\"},\"hovermode\":\"closest\",\"hoverlabel\":{\"align\":\"left\"},\"paper_bgcolor\":\"white\",\"plot_bgcolor\":\"#E5ECF6\",\"polar\":{\"bgcolor\":\"#E5ECF6\",\"angularaxis\":{\"gridcolor\":\"white\",\"linecolor\":\"white\",\"ticks\":\"\"},\"radialaxis\":{\"gridcolor\":\"white\",\"linecolor\":\"white\",\"ticks\":\"\"}},\"ternary\":{\"bgcolor\":\"#E5ECF6\",\"aaxis\":{\"gridcolor\":\"white\",\"linecolor\":\"white\",\"ticks\":\"\"},\"baxis\":{\"gridcolor\":\"white\",\"linecolor\":\"white\",\"ticks\":\"\"},\"caxis\":{\"gridcolor\":\"white\",\"linecolor\":\"white\",\"ticks\":\"\"}},\"coloraxis\":{\"colorbar\":{\"outlinewidth\":0,\"ticks\":\"\"}},\"colorscale\":{\"sequential\":[[0.0,\"#0d0887\"],[0.1111111111111111,\"#46039f\"],[0.2222222222222222,\"#7201a8\"],[0.3333333333333333,\"#9c179e\"],[0.4444444444444444,\"#bd3786\"],[0.5555555555555556,\"#d8576b\"],[0.6666666666666666,\"#ed7953\"],[0.7777777777777778,\"#fb9f3a\"],[0.8888888888888888,\"#fdca26\"],[1.0,\"#f0f921\"]],\"sequentialminus\":[[0.0,\"#0d0887\"],[0.1111111111111111,\"#46039f\"],[0.2222222222222222,\"#7201a8\"],[0.3333333333333333,\"#9c179e\"],[0.4444444444444444,\"#bd3786\"],[0.5555555555555556,\"#d8576b\"],[0.6666666666666666,\"#ed7953\"],[0.7777777777777778,\"#fb9f3a\"],[0.8888888888888888,\"#fdca26\"],[1.0,\"#f0f921\"]],\"diverging\":[[0,\"#8e0152\"],[0.1,\"#c51b7d\"],[0.2,\"#de77ae\"],[0.3,\"#f1b6da\"],[0.4,\"#fde0ef\"],[0.5,\"#f7f7f7\"],[0.6,\"#e6f5d0\"],[0.7,\"#b8e186\"],[0.8,\"#7fbc41\"],[0.9,\"#4d9221\"],[1,\"#276419\"]]},\"xaxis\":{\"gridcolor\":\"white\",\"linecolor\":\"white\",\"ticks\":\"\",\"title\":{\"standoff\":15},\"zerolinecolor\":\"white\",\"automargin\":true,\"zerolinewidth\":2},\"yaxis\":{\"gridcolor\":\"white\",\"linecolor\":\"white\",\"ticks\":\"\",\"title\":{\"standoff\":15},\"zerolinecolor\":\"white\",\"automargin\":true,\"zerolinewidth\":2},\"scene\":{\"xaxis\":{\"backgroundcolor\":\"#E5ECF6\",\"gridcolor\":\"white\",\"linecolor\":\"white\",\"showbackground\":true,\"ticks\":\"\",\"zerolinecolor\":\"white\",\"gridwidth\":2},\"yaxis\":{\"backgroundcolor\":\"#E5ECF6\",\"gridcolor\":\"white\",\"linecolor\":\"white\",\"showbackground\":true,\"ticks\":\"\",\"zerolinecolor\":\"white\",\"gridwidth\":2},\"zaxis\":{\"backgroundcolor\":\"#E5ECF6\",\"gridcolor\":\"white\",\"linecolor\":\"white\",\"showbackground\":true,\"ticks\":\"\",\"zerolinecolor\":\"white\",\"gridwidth\":2}},\"shapedefaults\":{\"line\":{\"color\":\"#2a3f5f\"}},\"annotationdefaults\":{\"arrowcolor\":\"#2a3f5f\",\"arrowhead\":0,\"arrowwidth\":1},\"geo\":{\"bgcolor\":\"white\",\"landcolor\":\"#E5ECF6\",\"subunitcolor\":\"white\",\"showland\":true,\"showlakes\":true,\"lakecolor\":\"white\"},\"title\":{\"x\":0.05},\"mapbox\":{\"style\":\"light\"}}},\"xaxis\":{\"anchor\":\"y\",\"domain\":[0.0,1.0],\"title\":{\"text\":\"K Range\"}},\"yaxis\":{\"anchor\":\"x\",\"domain\":[0.0,1.0],\"title\":{\"text\":\"Sum of Square Errors\"}},\"legend\":{\"tracegroupgap\":0},\"margin\":{\"t\":60},\"height\":500,\"width\":700,\"annotations\":[{\"arrowhead\":1,\"arrowsize\":2,\"ax\":0,\"ay\":-100,\"showarrow\":true,\"text\":\"Elbow Point\",\"x\":5,\"y\":20.3}]},                        {\"responsive\": true}                    ).then(function(){\n",
       "                            \n",
       "var gd = document.getElementById('153007ca-84f8-4cc3-a0cb-f8bd5cb0c4ba');\n",
       "var x = new MutationObserver(function (mutations, observer) {{\n",
       "        var display = window.getComputedStyle(gd).display;\n",
       "        if (!display || display === 'none') {{\n",
       "            console.log([gd, 'removed!']);\n",
       "            Plotly.purge(gd);\n",
       "            observer.disconnect();\n",
       "        }}\n",
       "}});\n",
       "\n",
       "// Listen for the removal of the full notebook cells\n",
       "var notebookContainer = gd.closest('#notebook-container');\n",
       "if (notebookContainer) {{\n",
       "    x.observe(notebookContainer, {childList: true});\n",
       "}}\n",
       "\n",
       "// Listen for the clearing of the current output cell\n",
       "var outputEl = gd.closest('.output');\n",
       "if (outputEl) {{\n",
       "    x.observe(outputEl, {childList: true});\n",
       "}}\n",
       "\n",
       "                        })                };                });            </script>        </div>"
      ]
     },
     "metadata": {},
     "output_type": "display_data"
    }
   ],
   "source": [
    "px.line(x=range(1,15),y=sse).update_layout(xaxis_title=\"K Range\",yaxis_title=\"Sum of Square Errors\",height=500,width=700).add_annotation(\n",
    "    x=5,y=20.3,showarrow=True,arrowhead=1,arrowsize=2,ax=0,ay=-100,text=\"Elbow Point\")\n",
    "                                        "
   ]
  },
  {
   "cell_type": "markdown",
   "id": "6c79c423-76fd-45c8-9414-3b465087a0f5",
   "metadata": {},
   "source": [
    " #####                     From above graph, we take no. of clusters as 5"
   ]
  },
  {
   "cell_type": "markdown",
   "id": "2db94043-0c20-478a-bcfc-8a800fe6cf12",
   "metadata": {},
   "source": [
    "## Plotting Silhouette Score for Verification\n"
   ]
  },
  {
   "cell_type": "code",
   "execution_count": 126,
   "id": "9df00202-5c2e-4ded-b3b2-c3294fdb12bb",
   "metadata": {},
   "outputs": [
    {
     "data": {
      "application/vnd.plotly.v1+json": {
       "config": {
        "plotlyServerURL": "https://plot.ly"
       },
       "data": [
        {
         "hovertemplate": "x=%{x}<br>y=%{y}<extra></extra>",
         "legendgroup": "",
         "line": {
          "color": "#636efa",
          "dash": "solid"
         },
         "marker": {
          "symbol": "circle"
         },
         "mode": "lines",
         "name": "",
         "orientation": "v",
         "showlegend": false,
         "type": "scatter",
         "x": [
          2,
          3,
          4,
          5,
          6,
          7,
          8,
          9,
          10,
          11,
          12,
          13,
          14
         ],
         "xaxis": "x",
         "y": [
          0.4161670130627272,
          0.3889547013825124,
          0.3797683524099284,
          0.39262897698504035,
          0.36233144288305025,
          0.3386259164592884,
          0.35257896181741033,
          0.34468626603303587,
          0.3447918107518185,
          0.3557519861662839,
          0.3530661684789057,
          0.34650238803071437,
          0.349226657718545
         ],
         "yaxis": "y"
        }
       ],
       "layout": {
        "annotations": [
         {
          "arrowhead": 1,
          "arrowsize": 2,
          "ax": 100,
          "ay": -20,
          "showarrow": true,
          "text": "Silhouette Score at 'n'=5",
          "x": 5.1,
          "y": 0.393
         }
        ],
        "autosize": true,
        "legend": {
         "tracegroupgap": 0
        },
        "margin": {
         "t": 60
        },
        "template": {
         "data": {
          "bar": [
           {
            "error_x": {
             "color": "#2a3f5f"
            },
            "error_y": {
             "color": "#2a3f5f"
            },
            "marker": {
             "line": {
              "color": "#E5ECF6",
              "width": 0.5
             },
             "pattern": {
              "fillmode": "overlay",
              "size": 10,
              "solidity": 0.2
             }
            },
            "type": "bar"
           }
          ],
          "barpolar": [
           {
            "marker": {
             "line": {
              "color": "#E5ECF6",
              "width": 0.5
             },
             "pattern": {
              "fillmode": "overlay",
              "size": 10,
              "solidity": 0.2
             }
            },
            "type": "barpolar"
           }
          ],
          "carpet": [
           {
            "aaxis": {
             "endlinecolor": "#2a3f5f",
             "gridcolor": "white",
             "linecolor": "white",
             "minorgridcolor": "white",
             "startlinecolor": "#2a3f5f"
            },
            "baxis": {
             "endlinecolor": "#2a3f5f",
             "gridcolor": "white",
             "linecolor": "white",
             "minorgridcolor": "white",
             "startlinecolor": "#2a3f5f"
            },
            "type": "carpet"
           }
          ],
          "choropleth": [
           {
            "colorbar": {
             "outlinewidth": 0,
             "ticks": ""
            },
            "type": "choropleth"
           }
          ],
          "contour": [
           {
            "colorbar": {
             "outlinewidth": 0,
             "ticks": ""
            },
            "colorscale": [
             [
              0,
              "#0d0887"
             ],
             [
              0.1111111111111111,
              "#46039f"
             ],
             [
              0.2222222222222222,
              "#7201a8"
             ],
             [
              0.3333333333333333,
              "#9c179e"
             ],
             [
              0.4444444444444444,
              "#bd3786"
             ],
             [
              0.5555555555555556,
              "#d8576b"
             ],
             [
              0.6666666666666666,
              "#ed7953"
             ],
             [
              0.7777777777777778,
              "#fb9f3a"
             ],
             [
              0.8888888888888888,
              "#fdca26"
             ],
             [
              1,
              "#f0f921"
             ]
            ],
            "type": "contour"
           }
          ],
          "contourcarpet": [
           {
            "colorbar": {
             "outlinewidth": 0,
             "ticks": ""
            },
            "type": "contourcarpet"
           }
          ],
          "heatmap": [
           {
            "colorbar": {
             "outlinewidth": 0,
             "ticks": ""
            },
            "colorscale": [
             [
              0,
              "#0d0887"
             ],
             [
              0.1111111111111111,
              "#46039f"
             ],
             [
              0.2222222222222222,
              "#7201a8"
             ],
             [
              0.3333333333333333,
              "#9c179e"
             ],
             [
              0.4444444444444444,
              "#bd3786"
             ],
             [
              0.5555555555555556,
              "#d8576b"
             ],
             [
              0.6666666666666666,
              "#ed7953"
             ],
             [
              0.7777777777777778,
              "#fb9f3a"
             ],
             [
              0.8888888888888888,
              "#fdca26"
             ],
             [
              1,
              "#f0f921"
             ]
            ],
            "type": "heatmap"
           }
          ],
          "heatmapgl": [
           {
            "colorbar": {
             "outlinewidth": 0,
             "ticks": ""
            },
            "colorscale": [
             [
              0,
              "#0d0887"
             ],
             [
              0.1111111111111111,
              "#46039f"
             ],
             [
              0.2222222222222222,
              "#7201a8"
             ],
             [
              0.3333333333333333,
              "#9c179e"
             ],
             [
              0.4444444444444444,
              "#bd3786"
             ],
             [
              0.5555555555555556,
              "#d8576b"
             ],
             [
              0.6666666666666666,
              "#ed7953"
             ],
             [
              0.7777777777777778,
              "#fb9f3a"
             ],
             [
              0.8888888888888888,
              "#fdca26"
             ],
             [
              1,
              "#f0f921"
             ]
            ],
            "type": "heatmapgl"
           }
          ],
          "histogram": [
           {
            "marker": {
             "pattern": {
              "fillmode": "overlay",
              "size": 10,
              "solidity": 0.2
             }
            },
            "type": "histogram"
           }
          ],
          "histogram2d": [
           {
            "colorbar": {
             "outlinewidth": 0,
             "ticks": ""
            },
            "colorscale": [
             [
              0,
              "#0d0887"
             ],
             [
              0.1111111111111111,
              "#46039f"
             ],
             [
              0.2222222222222222,
              "#7201a8"
             ],
             [
              0.3333333333333333,
              "#9c179e"
             ],
             [
              0.4444444444444444,
              "#bd3786"
             ],
             [
              0.5555555555555556,
              "#d8576b"
             ],
             [
              0.6666666666666666,
              "#ed7953"
             ],
             [
              0.7777777777777778,
              "#fb9f3a"
             ],
             [
              0.8888888888888888,
              "#fdca26"
             ],
             [
              1,
              "#f0f921"
             ]
            ],
            "type": "histogram2d"
           }
          ],
          "histogram2dcontour": [
           {
            "colorbar": {
             "outlinewidth": 0,
             "ticks": ""
            },
            "colorscale": [
             [
              0,
              "#0d0887"
             ],
             [
              0.1111111111111111,
              "#46039f"
             ],
             [
              0.2222222222222222,
              "#7201a8"
             ],
             [
              0.3333333333333333,
              "#9c179e"
             ],
             [
              0.4444444444444444,
              "#bd3786"
             ],
             [
              0.5555555555555556,
              "#d8576b"
             ],
             [
              0.6666666666666666,
              "#ed7953"
             ],
             [
              0.7777777777777778,
              "#fb9f3a"
             ],
             [
              0.8888888888888888,
              "#fdca26"
             ],
             [
              1,
              "#f0f921"
             ]
            ],
            "type": "histogram2dcontour"
           }
          ],
          "mesh3d": [
           {
            "colorbar": {
             "outlinewidth": 0,
             "ticks": ""
            },
            "type": "mesh3d"
           }
          ],
          "parcoords": [
           {
            "line": {
             "colorbar": {
              "outlinewidth": 0,
              "ticks": ""
             }
            },
            "type": "parcoords"
           }
          ],
          "pie": [
           {
            "automargin": true,
            "type": "pie"
           }
          ],
          "scatter": [
           {
            "fillpattern": {
             "fillmode": "overlay",
             "size": 10,
             "solidity": 0.2
            },
            "type": "scatter"
           }
          ],
          "scatter3d": [
           {
            "line": {
             "colorbar": {
              "outlinewidth": 0,
              "ticks": ""
             }
            },
            "marker": {
             "colorbar": {
              "outlinewidth": 0,
              "ticks": ""
             }
            },
            "type": "scatter3d"
           }
          ],
          "scattercarpet": [
           {
            "marker": {
             "colorbar": {
              "outlinewidth": 0,
              "ticks": ""
             }
            },
            "type": "scattercarpet"
           }
          ],
          "scattergeo": [
           {
            "marker": {
             "colorbar": {
              "outlinewidth": 0,
              "ticks": ""
             }
            },
            "type": "scattergeo"
           }
          ],
          "scattergl": [
           {
            "marker": {
             "colorbar": {
              "outlinewidth": 0,
              "ticks": ""
             }
            },
            "type": "scattergl"
           }
          ],
          "scattermapbox": [
           {
            "marker": {
             "colorbar": {
              "outlinewidth": 0,
              "ticks": ""
             }
            },
            "type": "scattermapbox"
           }
          ],
          "scatterpolar": [
           {
            "marker": {
             "colorbar": {
              "outlinewidth": 0,
              "ticks": ""
             }
            },
            "type": "scatterpolar"
           }
          ],
          "scatterpolargl": [
           {
            "marker": {
             "colorbar": {
              "outlinewidth": 0,
              "ticks": ""
             }
            },
            "type": "scatterpolargl"
           }
          ],
          "scatterternary": [
           {
            "marker": {
             "colorbar": {
              "outlinewidth": 0,
              "ticks": ""
             }
            },
            "type": "scatterternary"
           }
          ],
          "surface": [
           {
            "colorbar": {
             "outlinewidth": 0,
             "ticks": ""
            },
            "colorscale": [
             [
              0,
              "#0d0887"
             ],
             [
              0.1111111111111111,
              "#46039f"
             ],
             [
              0.2222222222222222,
              "#7201a8"
             ],
             [
              0.3333333333333333,
              "#9c179e"
             ],
             [
              0.4444444444444444,
              "#bd3786"
             ],
             [
              0.5555555555555556,
              "#d8576b"
             ],
             [
              0.6666666666666666,
              "#ed7953"
             ],
             [
              0.7777777777777778,
              "#fb9f3a"
             ],
             [
              0.8888888888888888,
              "#fdca26"
             ],
             [
              1,
              "#f0f921"
             ]
            ],
            "type": "surface"
           }
          ],
          "table": [
           {
            "cells": {
             "fill": {
              "color": "#EBF0F8"
             },
             "line": {
              "color": "white"
             }
            },
            "header": {
             "fill": {
              "color": "#C8D4E3"
             },
             "line": {
              "color": "white"
             }
            },
            "type": "table"
           }
          ]
         },
         "layout": {
          "annotationdefaults": {
           "arrowcolor": "#2a3f5f",
           "arrowhead": 0,
           "arrowwidth": 1
          },
          "autotypenumbers": "strict",
          "coloraxis": {
           "colorbar": {
            "outlinewidth": 0,
            "ticks": ""
           }
          },
          "colorscale": {
           "diverging": [
            [
             0,
             "#8e0152"
            ],
            [
             0.1,
             "#c51b7d"
            ],
            [
             0.2,
             "#de77ae"
            ],
            [
             0.3,
             "#f1b6da"
            ],
            [
             0.4,
             "#fde0ef"
            ],
            [
             0.5,
             "#f7f7f7"
            ],
            [
             0.6,
             "#e6f5d0"
            ],
            [
             0.7,
             "#b8e186"
            ],
            [
             0.8,
             "#7fbc41"
            ],
            [
             0.9,
             "#4d9221"
            ],
            [
             1,
             "#276419"
            ]
           ],
           "sequential": [
            [
             0,
             "#0d0887"
            ],
            [
             0.1111111111111111,
             "#46039f"
            ],
            [
             0.2222222222222222,
             "#7201a8"
            ],
            [
             0.3333333333333333,
             "#9c179e"
            ],
            [
             0.4444444444444444,
             "#bd3786"
            ],
            [
             0.5555555555555556,
             "#d8576b"
            ],
            [
             0.6666666666666666,
             "#ed7953"
            ],
            [
             0.7777777777777778,
             "#fb9f3a"
            ],
            [
             0.8888888888888888,
             "#fdca26"
            ],
            [
             1,
             "#f0f921"
            ]
           ],
           "sequentialminus": [
            [
             0,
             "#0d0887"
            ],
            [
             0.1111111111111111,
             "#46039f"
            ],
            [
             0.2222222222222222,
             "#7201a8"
            ],
            [
             0.3333333333333333,
             "#9c179e"
            ],
            [
             0.4444444444444444,
             "#bd3786"
            ],
            [
             0.5555555555555556,
             "#d8576b"
            ],
            [
             0.6666666666666666,
             "#ed7953"
            ],
            [
             0.7777777777777778,
             "#fb9f3a"
            ],
            [
             0.8888888888888888,
             "#fdca26"
            ],
            [
             1,
             "#f0f921"
            ]
           ]
          },
          "colorway": [
           "#636efa",
           "#EF553B",
           "#00cc96",
           "#ab63fa",
           "#FFA15A",
           "#19d3f3",
           "#FF6692",
           "#B6E880",
           "#FF97FF",
           "#FECB52"
          ],
          "font": {
           "color": "#2a3f5f"
          },
          "geo": {
           "bgcolor": "white",
           "lakecolor": "white",
           "landcolor": "#E5ECF6",
           "showlakes": true,
           "showland": true,
           "subunitcolor": "white"
          },
          "hoverlabel": {
           "align": "left"
          },
          "hovermode": "closest",
          "mapbox": {
           "style": "light"
          },
          "paper_bgcolor": "white",
          "plot_bgcolor": "#E5ECF6",
          "polar": {
           "angularaxis": {
            "gridcolor": "white",
            "linecolor": "white",
            "ticks": ""
           },
           "bgcolor": "#E5ECF6",
           "radialaxis": {
            "gridcolor": "white",
            "linecolor": "white",
            "ticks": ""
           }
          },
          "scene": {
           "xaxis": {
            "backgroundcolor": "#E5ECF6",
            "gridcolor": "white",
            "gridwidth": 2,
            "linecolor": "white",
            "showbackground": true,
            "ticks": "",
            "zerolinecolor": "white"
           },
           "yaxis": {
            "backgroundcolor": "#E5ECF6",
            "gridcolor": "white",
            "gridwidth": 2,
            "linecolor": "white",
            "showbackground": true,
            "ticks": "",
            "zerolinecolor": "white"
           },
           "zaxis": {
            "backgroundcolor": "#E5ECF6",
            "gridcolor": "white",
            "gridwidth": 2,
            "linecolor": "white",
            "showbackground": true,
            "ticks": "",
            "zerolinecolor": "white"
           }
          },
          "shapedefaults": {
           "line": {
            "color": "#2a3f5f"
           }
          },
          "ternary": {
           "aaxis": {
            "gridcolor": "white",
            "linecolor": "white",
            "ticks": ""
           },
           "baxis": {
            "gridcolor": "white",
            "linecolor": "white",
            "ticks": ""
           },
           "bgcolor": "#E5ECF6",
           "caxis": {
            "gridcolor": "white",
            "linecolor": "white",
            "ticks": ""
           }
          },
          "title": {
           "x": 0.05
          },
          "xaxis": {
           "automargin": true,
           "gridcolor": "white",
           "linecolor": "white",
           "ticks": "",
           "title": {
            "standoff": 15
           },
           "zerolinecolor": "white",
           "zerolinewidth": 2
          },
          "yaxis": {
           "automargin": true,
           "gridcolor": "white",
           "linecolor": "white",
           "ticks": "",
           "title": {
            "standoff": 15
           },
           "zerolinecolor": "white",
           "zerolinewidth": 2
          }
         }
        },
        "xaxis": {
         "anchor": "y",
         "autorange": true,
         "domain": [
          0,
          1
         ],
         "range": [
          2,
          14
         ],
         "title": {
          "text": "K Range"
         },
         "type": "linear"
        },
        "yaxis": {
         "anchor": "x",
         "autorange": true,
         "domain": [
          0,
          1
         ],
         "range": [
          0.3343180777590974,
          0.4204748517629182
         ],
         "title": {
          "text": "Silhouette Scores"
         },
         "type": "linear"
        }
       }
      },
      "image/png": "[encoded data removed]",
      "text/html": [
       "<div>                            <div id=\"1e859470-ac75-4112-b401-0c8cd2e43e54\" class=\"plotly-graph-div\" style=\"height:525px; width:100%;\"></div>            <script type=\"text/javascript\">                require([\"plotly\"], function(Plotly) {                    window.PLOTLYENV=window.PLOTLYENV || {};                                    if (document.getElementById(\"1e859470-ac75-4112-b401-0c8cd2e43e54\")) {                    Plotly.newPlot(                        \"1e859470-ac75-4112-b401-0c8cd2e43e54\",                        [{\"hovertemplate\":\"x=%{x}\\u003cbr\\u003ey=%{y}\\u003cextra\\u003e\\u003c\\u002fextra\\u003e\",\"legendgroup\":\"\",\"line\":{\"color\":\"#636efa\",\"dash\":\"solid\"},\"marker\":{\"symbol\":\"circle\"},\"mode\":\"lines\",\"name\":\"\",\"orientation\":\"v\",\"showlegend\":false,\"x\":[2,3,4,5,6,7,8,9,10,11,12,13,14],\"xaxis\":\"x\",\"y\":[0.4161670130627272,0.3889547013825124,0.3797683524099284,0.39262897698504035,0.36233144288305025,0.3386259164592884,0.35257896181741033,0.34468626603303587,0.3447918107518185,0.3557519861662839,0.3530661684789057,0.34650238803071437,0.349226657718545],\"yaxis\":\"y\",\"type\":\"scatter\"}],                        {\"template\":{\"data\":{\"histogram2dcontour\":[{\"type\":\"histogram2dcontour\",\"colorbar\":{\"outlinewidth\":0,\"ticks\":\"\"},\"colorscale\":[[0.0,\"#0d0887\"],[0.1111111111111111,\"#46039f\"],[0.2222222222222222,\"#7201a8\"],[0.3333333333333333,\"#9c179e\"],[0.4444444444444444,\"#bd3786\"],[0.5555555555555556,\"#d8576b\"],[0.6666666666666666,\"#ed7953\"],[0.7777777777777778,\"#fb9f3a\"],[0.8888888888888888,\"#fdca26\"],[1.0,\"#f0f921\"]]}],\"choropleth\":[{\"type\":\"choropleth\",\"colorbar\":{\"outlinewidth\":0,\"ticks\":\"\"}}],\"histogram2d\":[{\"type\":\"histogram2d\",\"colorbar\":{\"outlinewidth\":0,\"ticks\":\"\"},\"colorscale\":[[0.0,\"#0d0887\"],[0.1111111111111111,\"#46039f\"],[0.2222222222222222,\"#7201a8\"],[0.3333333333333333,\"#9c179e\"],[0.4444444444444444,\"#bd3786\"],[0.5555555555555556,\"#d8576b\"],[0.6666666666666666,\"#ed7953\"],[0.7777777777777778,\"#fb9f3a\"],[0.8888888888888888,\"#fdca26\"],[1.0,\"#f0f921\"]]}],\"heatmap\":[{\"type\":\"heatmap\",\"colorbar\":{\"outlinewidth\":0,\"ticks\":\"\"},\"colorscale\":[[0.0,\"#0d0887\"],[0.1111111111111111,\"#46039f\"],[0.2222222222222222,\"#7201a8\"],[0.3333333333333333,\"#9c179e\"],[0.4444444444444444,\"#bd3786\"],[0.5555555555555556,\"#d8576b\"],[0.6666666666666666,\"#ed7953\"],[0.7777777777777778,\"#fb9f3a\"],[0.8888888888888888,\"#fdca26\"],[1.0,\"#f0f921\"]]}],\"heatmapgl\":[{\"type\":\"heatmapgl\",\"colorbar\":{\"outlinewidth\":0,\"ticks\":\"\"},\"colorscale\":[[0.0,\"#0d0887\"],[0.1111111111111111,\"#46039f\"],[0.2222222222222222,\"#7201a8\"],[0.3333333333333333,\"#9c179e\"],[0.4444444444444444,\"#bd3786\"],[0.5555555555555556,\"#d8576b\"],[0.6666666666666666,\"#ed7953\"],[0.7777777777777778,\"#fb9f3a\"],[0.8888888888888888,\"#fdca26\"],[1.0,\"#f0f921\"]]}],\"contourcarpet\":[{\"type\":\"contourcarpet\",\"colorbar\":{\"outlinewidth\":0,\"ticks\":\"\"}}],\"contour\":[{\"type\":\"contour\",\"colorbar\":{\"outlinewidth\":0,\"ticks\":\"\"},\"colorscale\":[[0.0,\"#0d0887\"],[0.1111111111111111,\"#46039f\"],[0.2222222222222222,\"#7201a8\"],[0.3333333333333333,\"#9c179e\"],[0.4444444444444444,\"#bd3786\"],[0.5555555555555556,\"#d8576b\"],[0.6666666666666666,\"#ed7953\"],[0.7777777777777778,\"#fb9f3a\"],[0.8888888888888888,\"#fdca26\"],[1.0,\"#f0f921\"]]}],\"surface\":[{\"type\":\"surface\",\"colorbar\":{\"outlinewidth\":0,\"ticks\":\"\"},\"colorscale\":[[0.0,\"#0d0887\"],[0.1111111111111111,\"#46039f\"],[0.2222222222222222,\"#7201a8\"],[0.3333333333333333,\"#9c179e\"],[0.4444444444444444,\"#bd3786\"],[0.5555555555555556,\"#d8576b\"],[0.6666666666666666,\"#ed7953\"],[0.7777777777777778,\"#fb9f3a\"],[0.8888888888888888,\"#fdca26\"],[1.0,\"#f0f921\"]]}],\"mesh3d\":[{\"type\":\"mesh3d\",\"colorbar\":{\"outlinewidth\":0,\"ticks\":\"\"}}],\"scatter\":[{\"fillpattern\":{\"fillmode\":\"overlay\",\"size\":10,\"solidity\":0.2},\"type\":\"scatter\"}],\"parcoords\":[{\"type\":\"parcoords\",\"line\":{\"colorbar\":{\"outlinewidth\":0,\"ticks\":\"\"}}}],\"scatterpolargl\":[{\"type\":\"scatterpolargl\",\"marker\":{\"colorbar\":{\"outlinewidth\":0,\"ticks\":\"\"}}}],\"bar\":[{\"error_x\":{\"color\":\"#2a3f5f\"},\"error_y\":{\"color\":\"#2a3f5f\"},\"marker\":{\"line\":{\"color\":\"#E5ECF6\",\"width\":0.5},\"pattern\":{\"fillmode\":\"overlay\",\"size\":10,\"solidity\":0.2}},\"type\":\"bar\"}],\"scattergeo\":[{\"type\":\"scattergeo\",\"marker\":{\"colorbar\":{\"outlinewidth\":0,\"ticks\":\"\"}}}],\"scatterpolar\":[{\"type\":\"scatterpolar\",\"marker\":{\"colorbar\":{\"outlinewidth\":0,\"ticks\":\"\"}}}],\"histogram\":[{\"marker\":{\"pattern\":{\"fillmode\":\"overlay\",\"size\":10,\"solidity\":0.2}},\"type\":\"histogram\"}],\"scattergl\":[{\"type\":\"scattergl\",\"marker\":{\"colorbar\":{\"outlinewidth\":0,\"ticks\":\"\"}}}],\"scatter3d\":[{\"type\":\"scatter3d\",\"line\":{\"colorbar\":{\"outlinewidth\":0,\"ticks\":\"\"}},\"marker\":{\"colorbar\":{\"outlinewidth\":0,\"ticks\":\"\"}}}],\"scattermapbox\":[{\"type\":\"scattermapbox\",\"marker\":{\"colorbar\":{\"outlinewidth\":0,\"ticks\":\"\"}}}],\"scatterternary\":[{\"type\":\"scatterternary\",\"marker\":{\"colorbar\":{\"outlinewidth\":0,\"ticks\":\"\"}}}],\"scattercarpet\":[{\"type\":\"scattercarpet\",\"marker\":{\"colorbar\":{\"outlinewidth\":0,\"ticks\":\"\"}}}],\"carpet\":[{\"aaxis\":{\"endlinecolor\":\"#2a3f5f\",\"gridcolor\":\"white\",\"linecolor\":\"white\",\"minorgridcolor\":\"white\",\"startlinecolor\":\"#2a3f5f\"},\"baxis\":{\"endlinecolor\":\"#2a3f5f\",\"gridcolor\":\"white\",\"linecolor\":\"white\",\"minorgridcolor\":\"white\",\"startlinecolor\":\"#2a3f5f\"},\"type\":\"carpet\"}],\"table\":[{\"cells\":{\"fill\":{\"color\":\"#EBF0F8\"},\"line\":{\"color\":\"white\"}},\"header\":{\"fill\":{\"color\":\"#C8D4E3\"},\"line\":{\"color\":\"white\"}},\"type\":\"table\"}],\"barpolar\":[{\"marker\":{\"line\":{\"color\":\"#E5ECF6\",\"width\":0.5},\"pattern\":{\"fillmode\":\"overlay\",\"size\":10,\"solidity\":0.2}},\"type\":\"barpolar\"}],\"pie\":[{\"automargin\":true,\"type\":\"pie\"}]},\"layout\":{\"autotypenumbers\":\"strict\",\"colorway\":[\"#636efa\",\"#EF553B\",\"#00cc96\",\"#ab63fa\",\"#FFA15A\",\"#19d3f3\",\"#FF6692\",\"#B6E880\",\"#FF97FF\",\"#FECB52\"],\"font\":{\"color\":\"#2a3f5f\"},\"hovermode\":\"closest\",\"hoverlabel\":{\"align\":\"left\"},\"paper_bgcolor\":\"white\",\"plot_bgcolor\":\"#E5ECF6\",\"polar\":{\"bgcolor\":\"#E5ECF6\",\"angularaxis\":{\"gridcolor\":\"white\",\"linecolor\":\"white\",\"ticks\":\"\"},\"radialaxis\":{\"gridcolor\":\"white\",\"linecolor\":\"white\",\"ticks\":\"\"}},\"ternary\":{\"bgcolor\":\"#E5ECF6\",\"aaxis\":{\"gridcolor\":\"white\",\"linecolor\":\"white\",\"ticks\":\"\"},\"baxis\":{\"gridcolor\":\"white\",\"linecolor\":\"white\",\"ticks\":\"\"},\"caxis\":{\"gridcolor\":\"white\",\"linecolor\":\"white\",\"ticks\":\"\"}},\"coloraxis\":{\"colorbar\":{\"outlinewidth\":0,\"ticks\":\"\"}},\"colorscale\":{\"sequential\":[[0.0,\"#0d0887\"],[0.1111111111111111,\"#46039f\"],[0.2222222222222222,\"#7201a8\"],[0.3333333333333333,\"#9c179e\"],[0.4444444444444444,\"#bd3786\"],[0.5555555555555556,\"#d8576b\"],[0.6666666666666666,\"#ed7953\"],[0.7777777777777778,\"#fb9f3a\"],[0.8888888888888888,\"#fdca26\"],[1.0,\"#f0f921\"]],\"sequentialminus\":[[0.0,\"#0d0887\"],[0.1111111111111111,\"#46039f\"],[0.2222222222222222,\"#7201a8\"],[0.3333333333333333,\"#9c179e\"],[0.4444444444444444,\"#bd3786\"],[0.5555555555555556,\"#d8576b\"],[0.6666666666666666,\"#ed7953\"],[0.7777777777777778,\"#fb9f3a\"],[0.8888888888888888,\"#fdca26\"],[1.0,\"#f0f921\"]],\"diverging\":[[0,\"#8e0152\"],[0.1,\"#c51b7d\"],[0.2,\"#de77ae\"],[0.3,\"#f1b6da\"],[0.4,\"#fde0ef\"],[0.5,\"#f7f7f7\"],[0.6,\"#e6f5d0\"],[0.7,\"#b8e186\"],[0.8,\"#7fbc41\"],[0.9,\"#4d9221\"],[1,\"#276419\"]]},\"xaxis\":{\"gridcolor\":\"white\",\"linecolor\":\"white\",\"ticks\":\"\",\"title\":{\"standoff\":15},\"zerolinecolor\":\"white\",\"automargin\":true,\"zerolinewidth\":2},\"yaxis\":{\"gridcolor\":\"white\",\"linecolor\":\"white\",\"ticks\":\"\",\"title\":{\"standoff\":15},\"zerolinecolor\":\"white\",\"automargin\":true,\"zerolinewidth\":2},\"scene\":{\"xaxis\":{\"backgroundcolor\":\"#E5ECF6\",\"gridcolor\":\"white\",\"linecolor\":\"white\",\"showbackground\":true,\"ticks\":\"\",\"zerolinecolor\":\"white\",\"gridwidth\":2},\"yaxis\":{\"backgroundcolor\":\"#E5ECF6\",\"gridcolor\":\"white\",\"linecolor\":\"white\",\"showbackground\":true,\"ticks\":\"\",\"zerolinecolor\":\"white\",\"gridwidth\":2},\"zaxis\":{\"backgroundcolor\":\"#E5ECF6\",\"gridcolor\":\"white\",\"linecolor\":\"white\",\"showbackground\":true,\"ticks\":\"\",\"zerolinecolor\":\"white\",\"gridwidth\":2}},\"shapedefaults\":{\"line\":{\"color\":\"#2a3f5f\"}},\"annotationdefaults\":{\"arrowcolor\":\"#2a3f5f\",\"arrowhead\":0,\"arrowwidth\":1},\"geo\":{\"bgcolor\":\"white\",\"landcolor\":\"#E5ECF6\",\"subunitcolor\":\"white\",\"showland\":true,\"showlakes\":true,\"lakecolor\":\"white\"},\"title\":{\"x\":0.05},\"mapbox\":{\"style\":\"light\"}}},\"xaxis\":{\"anchor\":\"y\",\"domain\":[0.0,1.0],\"title\":{\"text\":\"K Range\"}},\"yaxis\":{\"anchor\":\"x\",\"domain\":[0.0,1.0],\"title\":{\"text\":\"Silhouette Scores\"}},\"legend\":{\"tracegroupgap\":0},\"margin\":{\"t\":60},\"annotations\":[{\"arrowhead\":1,\"arrowsize\":2,\"ax\":100,\"ay\":-20,\"showarrow\":true,\"text\":\"Silhouette Score at 'n'=5\",\"x\":5.1,\"y\":0.393}]},                        {\"responsive\": true}                    ).then(function(){\n",
       "                            \n",
       "var gd = document.getElementById('1e859470-ac75-4112-b401-0c8cd2e43e54');\n",
       "var x = new MutationObserver(function (mutations, observer) {{\n",
       "        var display = window.getComputedStyle(gd).display;\n",
       "        if (!display || display === 'none') {{\n",
       "            console.log([gd, 'removed!']);\n",
       "            Plotly.purge(gd);\n",
       "            observer.disconnect();\n",
       "        }}\n",
       "}});\n",
       "\n",
       "// Listen for the removal of the full notebook cells\n",
       "var notebookContainer = gd.closest('#notebook-container');\n",
       "if (notebookContainer) {{\n",
       "    x.observe(notebookContainer, {childList: true});\n",
       "}}\n",
       "\n",
       "// Listen for the clearing of the current output cell\n",
       "var outputEl = gd.closest('.output');\n",
       "if (outputEl) {{\n",
       "    x.observe(outputEl, {childList: true});\n",
       "}}\n",
       "\n",
       "                        })                };                });            </script>        </div>"
      ]
     },
     "metadata": {},
     "output_type": "display_data"
    }
   ],
   "source": [
    "px.line(x=range(2,15),y=s_score).update_layout(xaxis_title=\"K Range\",yaxis_title=\"Silhouette Scores\").add_annotation(\n",
    "    x=5.1,y=0.393,showarrow=True,arrowhead=1,arrowsize=2,ax=100,ay=-20,text=\"Silhouette Score at 'n'=5\")"
   ]
  },
  {
   "cell_type": "markdown",
   "id": "008895c6-2f64-48bc-8eb6-4f59b18e066c",
   "metadata": {},
   "source": [
    " #####                     From above graph, we can see that silhouette score is highest at 2, but dividing our playlist into 2 clusters only is not ideal.\n",
    " ##### So, our ideal option for no. of clusters is indeed 5"
   ]
  },
  {
   "cell_type": "markdown",
   "id": "f9837c29-66d5-4816-b160-a48ae380b294",
   "metadata": {},
   "source": [
    "## Generating clusters with K-Means algorithm"
   ]
  },
  {
   "cell_type": "code",
   "execution_count": 80,
   "id": "c0b8bcec-776d-445b-b9fa-459822a1f9f9",
   "metadata": {},
   "outputs": [
    {
     "name": "stdout",
     "output_type": "stream",
     "text": [
      "[1 3 2 4 0 3 0 0 1 3]\n"
     ]
    }
   ],
   "source": [
    "km = KMeans(n_clusters=5,n_init='auto',random_state=42)\n",
    "clusters = km.fit_predict(df_2d)\n",
    "print(clusters[:10])"
   ]
  },
  {
   "cell_type": "code",
   "execution_count": 55,
   "id": "639b25ca-2945-4778-ab1c-bbc53037dbe4",
   "metadata": {},
   "outputs": [
    {
     "data": {
      "application/vnd.plotly.v1+json": {
       "config": {
        "plotlyServerURL": "https://plot.ly"
       },
       "data": [
        {
         "hovertemplate": "Cluster(k)=1<br>x=%{x}<br>y=%{y}<extra></extra>",
         "legendgroup": "1",
         "marker": {
          "color": "#636efa",
          "symbol": "circle"
         },
         "mode": "markers",
         "name": "1",
         "orientation": "v",
         "showlegend": true,
         "type": "scatter",
         "x": [
          0.26116239285878795,
          -0.05360118643241915,
          0.24044883341179388,
          0.10612110144554976,
          0.5526555703616831,
          0.2196126604599794,
          -0.031246864711712317,
          0.1936706282226383,
          0.15121628816183316,
          0.15915889263117705,
          0.6279959754611939,
          0.038049282636268715,
          0.37573608089241944,
          0.12410189601913185,
          0.24474427086076114,
          0.0904338670926519,
          0.39325511616287717,
          -0.06963149875902369,
          0.3752217460296167,
          0.10016845164092136,
          0.3626233941586419,
          0.25550501792025354,
          0.2618489759523669,
          0.1732433432412666,
          0.2413342959331508,
          0.04287729988274823,
          0.08170506373938471,
          0.05720573327936551,
          0.09341578201139329,
          0.1692038766797662,
          0.31199699027396693,
          0.44883718375470405,
          0.36176977600447124,
          0.2355662121382283,
          0.23727023655931748,
          0.2171122358022191,
          0.4889175442285518,
          0.43942013134298075,
          -0.0232242018880583,
          0.13453181003259151,
          0.24017613233877821,
          0.2333744478201893,
          0.18451068965164116,
          0.33132948015607117,
          0.25268633730393364,
          0.2541535545136857,
          0.06520156102141708,
          0.33767356121788855,
          0.2430431733140476,
          0.3629621778449747,
          0.22949466090254608,
          0.3723371676510308,
          0.2695690806074816,
          0.4361092441651704,
          0.20158079029554218,
          0.14451361465203358,
          0.30286004392514415,
          0.24823887105446057,
          0.37799537890450624,
          0.1924918889677606,
          0.13388788718204975,
          0.3083938191267455,
          0.12380139529639445,
          -0.04124122939946944,
          0.004617035870462263,
          0.41044637223682995,
          0.20799624714995882,
          0.38639738714009103,
          0.04693858025549866,
          0.09100133071675284,
          -0.06189346436273903,
          0.33865966028279354,
          0.2368507782768871,
          0.22353278819266534,
          0.40099411529981005,
          0.03691230331695295,
          0.20112085600584934,
          0.08557518350725184,
          0.12339074950526792,
          -0.0016585019092119544,
          0.09875140907996831,
          0.424072760826155,
          0.332412128744707,
          0.055928221243804845,
          0.14313174327833503,
          0.11127493768190638,
          0.07291910441571887,
          0.3161348216158184,
          0.16067134133463895,
          0.138613612528943,
          0.4736811676484905,
          0.026284685545807814,
          0.21479499324666826,
          0.5279237420329322,
          0.3655400313399201,
          0.13113703470950636,
          -0.04338370701253114,
          0.3139374927295464,
          -0.004923268234193893,
          0.003550829367243333,
          0.3017186608778948,
          0.18331900180416677,
          0.18914146389161957,
          0.13553034723524546,
          0.10841942645734144,
          0.03557750998938681,
          0.6486436412134806
         ],
         "xaxis": "x",
         "y": [
          -0.06239589352147654,
          -0.31188692441669047,
          -0.06945005132317429,
          -0.3069801663328954,
          -0.3564799543447904,
          -0.1572211895009929,
          -0.22161132275161166,
          -0.3523809459330826,
          -0.2564320320664463,
          -0.33997364374439487,
          -0.3252643294491376,
          -0.14308826282905163,
          -0.14168930213291434,
          -0.19071574848277215,
          -0.18471306266830967,
          -0.2723509928499213,
          -0.22921431094277897,
          -0.38124325052900426,
          -0.19137484116174527,
          -0.12485015920425202,
          -0.24557944554704636,
          -0.3289813241408996,
          -0.009997343817835397,
          -0.16515294245379805,
          -0.13555686053588878,
          -0.27683483113803325,
          -0.27112040414390126,
          -0.3014758511107678,
          -0.3987195081423074,
          -0.23464950020496936,
          -0.283472353658816,
          -0.12353193347142435,
          -0.08205908162191568,
          -0.3128374118989003,
          -0.0689045384850922,
          -0.2926658074705059,
          -0.2765270958601212,
          -0.3986278770189513,
          -0.18941373033339834,
          -0.2270050108023523,
          -0.028485023045976016,
          -0.4104106794671476,
          -0.2715972868737808,
          -0.0868266556336871,
          -0.10758529222303462,
          -0.17342140275682144,
          -0.18457823496961995,
          -0.5202745368737884,
          -0.32385769397121017,
          -0.3727765916107462,
          -0.2719780771293841,
          -0.25737006324267997,
          -0.004980806700878803,
          -0.26415267987900115,
          -0.41639003993108065,
          -0.21163758264190138,
          -0.3068767191564767,
          -0.11537404604793357,
          -0.103331074279959,
          -0.14921007875749748,
          -0.36445111712838774,
          0.02583165801205899,
          -0.46544041484931736,
          -0.32797858730292406,
          -0.26838587904381767,
          -0.15828691566391437,
          -0.14702353933694054,
          -0.13265330233760997,
          -0.21992559180211804,
          -0.16517799431092797,
          -0.3889778669182241,
          -0.15200321557337484,
          -0.14846431505610758,
          -0.024686060949911822,
          -0.09695767959302265,
          -0.24662968026027585,
          -0.2979337235051338,
          -0.2763200909851192,
          -0.38330693440270525,
          -0.17806377903962084,
          -0.4156117640320964,
          -0.2691027309594723,
          -0.49308391834431015,
          -0.3074259156162478,
          -0.1659664842754951,
          -0.28705554979058934,
          -0.17782743599351222,
          0.03105267587976883,
          -0.020341815522979565,
          -0.272755775907697,
          -0.255629065794222,
          -0.3267459419627295,
          -0.06114732425506459,
          -0.24209031391471952,
          -0.06486396287481061,
          -0.3980708479827853,
          -0.40138073789295586,
          -0.017734165560221764,
          -0.2507638580007203,
          -0.2575396869030313,
          -0.13080386195477087,
          -0.2099480933575317,
          -0.04637515837030855,
          -0.19668607804250304,
          -0.2206990276583373,
          -0.3441614810959701,
          -0.3906809374686924
         ],
         "yaxis": "y"
        },
        {
         "hovertemplate": "Cluster(k)=3<br>x=%{x}<br>y=%{y}<extra></extra>",
         "legendgroup": "3",
         "marker": {
          "color": "#EF553B",
          "symbol": "circle"
         },
         "mode": "markers",
         "name": "3",
         "orientation": "v",
         "showlegend": true,
         "type": "scatter",
         "x": [
          -0.4781637572999837,
          -0.22400149256545965,
          -0.07357360509045034,
          -0.45547299515191925,
          -0.08205531786549031,
          -0.45734246667434963,
          -0.3353870379445595,
          -0.45309037952902176,
          -0.397502781802568,
          -0.27893402793028343,
          -0.42910382391138324,
          -0.17120614022190508,
          -0.051270346871784195,
          -0.23385606090744104,
          -0.31696144517522357,
          -0.2270850012786399,
          -0.37817965111046187,
          -0.4185985727536013,
          -0.39742838282227433,
          -0.24044459674516577,
          -0.4817749249813203,
          -0.08506449498938477,
          -0.35433103042714725,
          -0.27797239870197316,
          -0.41517990464740845,
          -0.5392378301912287,
          -0.35156469336628954,
          -0.20647041323922788,
          -0.190919168266723,
          -0.2184362987469598,
          -0.36611744763044524,
          -0.3052219603680535,
          -0.2898352395915822,
          -0.2826105942745529,
          -0.30766279211802045,
          -0.34087451049900225,
          -0.14342257684445378,
          -0.38043803210971966,
          -0.2388569420632073,
          -0.17455049297700798,
          -0.3318356139608453,
          -0.17651428959737622,
          -0.46591710775231004,
          -0.1753523671795896,
          -0.03749918673099932,
          -0.14034025838192188,
          -0.3405397909282984,
          -0.2083936901161347,
          -0.1686721474540139,
          -0.22621528611188974,
          -0.3486523649775665,
          -0.19387763030011376,
          -0.12015742346516298,
          -0.2553776715040658,
          -0.5021871165033005,
          -0.1753737332787771,
          -0.1938836301225339,
          -0.11948464328611488,
          -0.4361365742363174,
          -0.3948045910479844,
          -0.40748600502038806,
          -0.14412081254886605,
          -0.4271313869725662,
          -0.5862556377412804,
          -0.535231034475203,
          -0.3559459797456461,
          -0.4289369395896138,
          -0.3550091414672986,
          -0.2509736139073325,
          -0.24700552013307706,
          -0.5181312636166641,
          -0.39914871565956417,
          -0.382945620723403,
          -0.04770265948977637,
          -0.1904686810761941,
          -0.43471721101100985,
          -0.22343421676564923,
          -0.393148631351434,
          -0.14509093389106067,
          -0.1606878370111915,
          -0.47880721543358373,
          -0.41175542641237967,
          -0.16429326588309043,
          -0.39386467912305906,
          -0.2857474232977022,
          -0.04735432089148265,
          -0.1910480713299107,
          -0.36940348205805357,
          -0.1472474349705416,
          -0.17414836268426073,
          -0.19608881635881154,
          -0.2156439900873066,
          -0.2875588668143736,
          -0.41370211421891967,
          -0.16442157406061542,
          -0.323190788612121,
          -0.33400822551384085,
          -0.0932338598300411,
          -0.47615082988082474,
          -0.3092814242026144,
          -0.1338201951756537,
          -0.12329314750014121,
          -0.24164028833543943,
          -0.2142312256848205,
          -0.06716736142931237,
          -0.4537476493467298,
          -0.17154971188079243,
          -0.34817671236353726,
          -0.13973340797423403,
          -0.2768231364794996,
          -0.42115819440020796,
          -0.07081665421907209,
          -0.29667176560729214,
          -0.30720773162370657,
          -0.3799336371526969,
          -0.20786252310209424,
          -0.39573008233018997,
          -0.4055519037703268,
          -0.14315303121710343,
          -0.4400068611670179,
          -0.2535020102901786,
          -0.3000469764649903,
          -0.12201330821471029,
          -0.39390180345622755,
          -0.16072928300199654,
          -0.5142681116592694,
          -0.17607956975535868,
          -0.09526212281733985,
          -0.26546643069124093,
          -0.4441858759019388,
          -0.5099384622807991,
          -0.3177531057667636,
          -0.3186624831136075,
          -0.28284972594945273,
          -0.2820684768071501,
          -0.38155895954510627,
          -0.30221121677098195,
          -0.07112910455487886,
          -0.16005251887580318,
          -0.2139959694871569,
          -0.39363594838545257,
          -0.15570891742285245,
          -0.11861729933739387,
          -0.03391247423538331,
          -0.5324246656650546,
          -0.545215634054928,
          -0.25883453024050423,
          -0.3523959139122129,
          -0.3507694770250135,
          -0.2264835709159161,
          -0.277507219719591,
          -0.27688332283648526,
          -0.4015187768906544,
          -0.31295386398091257,
          -0.230018115034686,
          -0.23946337254969885,
          -0.10459604017408278,
          -0.41106843393592524,
          -0.07532831946022144,
          -0.41843397241520297,
          -0.2321742681595819,
          -0.20570931331322956,
          -0.35474985371705786,
          -0.09241642238111775,
          -0.35227284862539976,
          -0.48443315751723504,
          -0.4290828040236314,
          -0.124932770331577,
          -0.22445054775999465
         ],
         "xaxis": "x",
         "y": [
          -0.25318957238691,
          -0.38584763734622807,
          -0.2709377833413835,
          -0.09218252424728846,
          -0.10003683394126285,
          -8.959840566747801e-05,
          -0.10524329423930359,
          -0.26641784527643414,
          -0.04372101785710086,
          -0.19081859260955072,
          -0.19577854916145712,
          0.03697433970152627,
          -0.1794229310847042,
          -0.07091296365308004,
          -0.11042270365816902,
          -0.11469472361236202,
          -0.19466392797904794,
          -0.025914548488513475,
          -0.13880641772768515,
          -0.2539910707759821,
          0.08287212696715944,
          -0.215276313201158,
          -0.1482479313244114,
          0.08082013421025379,
          0.02096385896339358,
          -0.12932774152158294,
          0.07362022830927342,
          -0.14391996291747344,
          0.060017677180153536,
          -0.2349693943240252,
          -0.2277137538143559,
          -0.015918257496085005,
          -0.264654103749163,
          0.0931278221620355,
          -0.2998122357052746,
          -0.2728378269399055,
          -0.2642772967982037,
          -0.0022315953869241124,
          -0.36808709750037516,
          -0.14501017462163598,
          -0.22486115041082358,
          -0.3364084047532203,
          -0.2815400205958332,
          -0.042097467297891225,
          -0.1275792924489251,
          -0.09005622265065585,
          -0.3295359272916439,
          0.04098373743934218,
          -0.14935953990861667,
          -0.25936820214637896,
          -0.1249758521419115,
          -0.20182693153014028,
          -0.24587002051426843,
          0.04080009839355786,
          -0.023742098090270516,
          0.0795724383099926,
          -0.15663898995597328,
          -0.1606616252882498,
          -0.23742593097699952,
          -0.1718468355493513,
          -0.2742149206634373,
          -0.33137388292999626,
          -0.07810671237751295,
          -0.037365687500242106,
          -0.3018096633142003,
          -0.06804529768770862,
          -0.25674641638070905,
          0.01600335559093058,
          -0.018918399392423662,
          -0.04657512488783776,
          -0.1929769015826574,
          -0.0702880469586494,
          -0.043444249018412005,
          -0.15962443753785116,
          0.06745090600140438,
          -0.05560477424688784,
          -0.01846348631390236,
          -0.010744512792420925,
          -0.22432038573928534,
          -0.0691793827113743,
          -0.06290503131938567,
          -0.2118044553147462,
          -0.33056412275263974,
          -0.07632824515783074,
          -0.0028862082363573295,
          -0.1100427710994488,
          -0.19386786242698223,
          -0.15996513802104342,
          -0.18003158026277352,
          -0.2259627082196659,
          -0.2568453832969018,
          -0.04599048702959468,
          0.035959713528145074,
          -0.3139703505992946,
          0.029928930615845437,
          -0.32603769059445403,
          -0.014547558696243986,
          -0.3167872051223677,
          -0.07787099852690882,
          -0.2036543994178622,
          -0.26059497362389733,
          -0.2848537805029559,
          0.05628067196261985,
          0.018919847861275207,
          -0.10082907881411819,
          -0.23675424825930938,
          -0.07577848259949835,
          -0.023749361427669057,
          -0.252339484737861,
          -0.2070498641627361,
          -0.3457470487747339,
          -0.1588097177652498,
          -0.02987316107342534,
          -0.2485014808283639,
          -0.09009402362148647,
          -0.2272209075837747,
          -0.18672348661877844,
          -0.17199637753270286,
          -0.0872563015012721,
          0.08597408681684568,
          -0.11463641468543093,
          -0.12129137350129877,
          -0.232718356097617,
          0.0647352164578327,
          -0.14995262451705552,
          0.029136579185569635,
          -0.04608042263125872,
          -0.40655642268759395,
          -0.21216922831007923,
          -0.23042959346567077,
          -0.26721382991973225,
          -0.20795478777461085,
          0.05625829687683022,
          -0.343852846060462,
          -0.230420280899482,
          -0.025174919322570207,
          -0.08936447374311805,
          -0.17863427442807672,
          -0.1644603325163265,
          -0.18757919776874388,
          0.06541443228533005,
          -0.1143414316419844,
          -0.23063368634595605,
          -0.09808421394763771,
          -0.27004097970440427,
          -0.04602464447998539,
          -0.053897403504790956,
          0.024480011031414103,
          0.10469117640757838,
          -0.3079801409380722,
          -0.03911872512264751,
          -0.25872444382008386,
          -0.14163020107498708,
          0.06896526139208574,
          -0.3680579357166835,
          -0.14187917787796359,
          -0.19542919529551192,
          -0.1588609499508307,
          -0.17428918310242375,
          0.006012296546977587,
          -0.13417827109994077,
          -0.3611125023643671,
          -0.12989384676490284,
          -0.280405489490309,
          -0.1644638583205857,
          -0.07799554242471649,
          0.07519548228736024,
          -0.08973754858833692,
          -0.3468253052995779
         ],
         "yaxis": "y"
        },
        {
         "hovertemplate": "Cluster(k)=2<br>x=%{x}<br>y=%{y}<extra></extra>",
         "legendgroup": "2",
         "marker": {
          "color": "#00cc96",
          "symbol": "circle"
         },
         "mode": "markers",
         "name": "2",
         "orientation": "v",
         "showlegend": true,
         "type": "scatter",
         "x": [
          0.8285101431277462,
          0.5454785028178005,
          0.522537452125162,
          0.883577239243579,
          0.533128539094077,
          0.522827882023433,
          0.46969416983845763,
          0.6976946034750524,
          0.4725944476397355,
          0.4354261713291663,
          0.8375821855226361,
          0.770370759202281,
          0.8052971094086634,
          0.6520313254269748,
          0.38471787519094963,
          0.5118100329017659,
          0.35659818366289475,
          0.38278962929603777,
          0.6681100701176107,
          0.6237798003205753,
          0.8899221896833777,
          0.481862344932747,
          0.5404986325782358,
          0.6498049291703358,
          0.6589021755685167,
          0.6653323208110209,
          0.6043732413755769,
          0.5341303908467361,
          0.4996011243895067,
          0.7535550587592483,
          0.9037323017511374,
          0.5496471512201225,
          0.5022277136403879,
          0.40261772456655,
          0.6969327133199894,
          0.6849201954630643,
          0.8016885290714714,
          0.6276859746415064,
          0.6971319660860118,
          0.48105995698702064,
          0.5851910037962363,
          0.8285462176959166,
          0.6626673655222288,
          0.4888149886494032,
          0.8930057470838741,
          0.6548232297328889,
          0.8967392556928764,
          0.4727310030535908,
          0.6067067770025728,
          0.7753809054587342,
          0.8682024421634021,
          0.6741918540969382,
          0.4261908668468273,
          0.6624529557013484,
          0.5389749914477392,
          0.3982411226801936,
          0.674369999528681,
          0.7026442993820304,
          0.4026357871300159,
          0.4081431851988281,
          0.3641242869418305,
          0.4006202863326589,
          0.38453000206931637,
          0.5332260547840174,
          0.8710195569903667,
          0.412450777664468,
          0.9998722014804854,
          0.6726516489287168,
          0.4157787254232964,
          0.43328591262715677
         ],
         "xaxis": "x",
         "y": [
          0.13417086376283155,
          0.01980067443074968,
          0.09193472097068515,
          0.043416653208470865,
          0.30184581154567397,
          0.11740263111735784,
          0.24004077681196687,
          0.030663976358206304,
          -0.06310388433873322,
          0.18153466954610967,
          0.3227263848506813,
          0.060028439542117444,
          0.17668129753773196,
          -0.14743347417789296,
          0.6525159189983264,
          -0.07700588130047052,
          0.02972110700192427,
          0.22550329390922672,
          0.2601360361896668,
          0.255682115321962,
          0.02240010570578328,
          -0.09649388617256219,
          0.06256574968656776,
          0.25340047874229715,
          -0.22466825208073077,
          -0.07539346315517473,
          0.2617062228384004,
          -0.12594542245249743,
          0.035683350529197404,
          0.0029250308437638816,
          0.28190402692632605,
          -0.1900543378236103,
          0.07013098209843799,
          0.4576241107460025,
          -0.09721798480571034,
          0.08685948286092476,
          -0.21709305493354464,
          0.03363989567667043,
          0.08323252731463428,
          -0.019696746558423975,
          0.366088780754209,
          0.23328813852432137,
          0.3749094029834487,
          0.18396609007056275,
          0.30067604526213676,
          0.1711662152870611,
          -0.07292401607066193,
          -0.0331695974765845,
          0.2495131759999683,
          0.2321917272437652,
          0.25339520174146435,
          0.2625081348911428,
          -0.039941238777607004,
          0.15977346859858435,
          0.08623210908942243,
          0.38476990652281023,
          0.06260890621366948,
          0.04573302412650807,
          0.3035167005492939,
          0.14829350496976434,
          0.2644766277102373,
          0.21311859443405515,
          0.2290475204940974,
          0.33444230744862863,
          0.18627323018456268,
          0.07647481213773899,
          -0.1395138015253165,
          -0.10024914056891324,
          0.0445860000905598,
          0.18193087484107065
         ],
         "yaxis": "y"
        },
        {
         "hovertemplate": "Cluster(k)=4<br>x=%{x}<br>y=%{y}<extra></extra>",
         "legendgroup": "4",
         "marker": {
          "color": "#ab63fa",
          "symbol": "circle"
         },
         "mode": "markers",
         "name": "4",
         "orientation": "v",
         "showlegend": true,
         "type": "scatter",
         "x": [
          -0.014060563429765492,
          -0.30877123863704187,
          -0.39177148247346666,
          -0.3872068951762783,
          -0.3993862027786521,
          -0.21443925259280852,
          -0.34932892199061333,
          -0.326868649067241,
          -0.26822969729469825,
          -0.16423123673181947,
          -0.4707535745413971,
          -0.34047201806328126,
          -0.26098456340982734,
          -0.25998807236813737,
          -0.496995173954358,
          -0.4238037135023517,
          -0.10108262984141725,
          -0.28061737686928034,
          -0.2929243640313192,
          -0.22384046233384097,
          -0.35304022983829847,
          -0.4741744286795916,
          -0.36302776941557036,
          -0.34464107636473335,
          -0.2929917115279186,
          -0.3523655366992666,
          -0.2974548314405095,
          -0.30564788104619856,
          -0.4268865798177425,
          -0.18673462943816124,
          -0.264997694966879,
          -0.3041293495117261,
          -0.029353686898317275,
          -0.37410061653993465,
          -0.5520962143041246,
          -0.39428517846022126,
          -0.22112932285802764,
          -0.27391603450487856,
          -0.4116204022987545,
          -0.10554879690247604,
          -0.23884998032830687,
          -0.13959055520838703,
          -0.1538970741207263,
          -0.10327658549800868,
          -0.4453765686789966,
          -0.5348282870968514,
          -0.3692056843330859,
          -0.2557240699781219,
          -0.30847305392352714,
          -0.3238557194740341,
          -0.4914529483370513,
          -0.4120669534697601,
          -0.36238402049782864,
          -0.18404277382478873,
          -0.34388042071069774,
          -0.41049639430810053,
          -0.4231867098109852,
          -0.17216397894126795,
          -0.40120451076719676,
          -0.30946012655818744,
          -0.23020444637264806,
          -0.3399005658312849,
          -0.3303930799454509,
          -0.17194293660178026,
          -0.5683327195169625,
          -0.4037866728456907,
          -0.44420600270616284,
          -0.4749011690789277,
          -0.15455058381691322
         ],
         "xaxis": "x",
         "y": [
          0.6700932286864316,
          0.29407035699381073,
          0.21348232173625864,
          0.36439353447608774,
          0.6606984951912586,
          0.18465689035034036,
          0.1692018464398215,
          0.16137109751759302,
          0.35110007111937624,
          0.5356230774255906,
          0.28470644460887096,
          0.1337252517510231,
          0.7010764255005093,
          0.1526346484584036,
          0.1294928694091276,
          0.25421359933318133,
          0.42714213970646925,
          0.5774753288894334,
          0.1261513688380718,
          0.8116357424654006,
          0.3003829144827532,
          0.7769688065301408,
          0.1958919764364541,
          0.3126926812327141,
          0.37528343843414996,
          0.2615682373382753,
          0.15099607217987918,
          0.2104160272566536,
          0.8816225151720097,
          0.4295248228111981,
          0.41086184366813927,
          0.2906774624375937,
          0.6799203482743172,
          0.3862685461081671,
          0.3027291737321243,
          0.18045625096220144,
          0.23510709920299822,
          0.418712300915055,
          0.764359112493697,
          0.3675364090611308,
          0.5914364958214724,
          0.2525186645457595,
          0.36840349083602525,
          0.44452486366943966,
          0.36007391855129345,
          0.42024115245063143,
          0.22904160212624963,
          0.12274788676740991,
          0.4979789502536836,
          0.22965005348689385,
          0.26195437093027946,
          0.2494703949780185,
          0.16726249934388368,
          0.3789666345916891,
          0.15291938495443383,
          0.25618387376004076,
          0.2057507634830125,
          0.2659720848351411,
          0.23344161908139952,
          0.430019070531588,
          0.5354225416245443,
          0.23976694975503163,
          0.30951144808690967,
          0.36065036195947386,
          0.1321547873226735,
          0.4077752792343512,
          0.49180964755360745,
          0.37941206911898767,
          0.33724131137573476
         ],
         "yaxis": "y"
        },
        {
         "hovertemplate": "Cluster(k)=0<br>x=%{x}<br>y=%{y}<extra></extra>",
         "legendgroup": "0",
         "marker": {
          "color": "#FFA15A",
          "symbol": "circle"
         },
         "mode": "markers",
         "name": "0",
         "orientation": "v",
         "showlegend": true,
         "type": "scatter",
         "x": [
          -0.11008829569136708,
          0.04111470128372051,
          0.15985178214321977,
          0.3196555920471479,
          -0.05541003948931227,
          0.13660630318678169,
          0.141092158544175,
          0.02242103314030845,
          0.039654577153844524,
          0.11806272179356388,
          0.21560388987820983,
          -0.04219045050261436,
          -0.11701642548087453,
          0.31302452486288596,
          0.1512768093555812,
          0.12641434782147526,
          -0.07684475859781738,
          0.18798714738421218,
          -0.007919045948479253,
          -0.10358518685826322,
          0.1467309912746478,
          -0.003362836620638719,
          -0.011143999548795337,
          0.20124696909880557,
          0.049884860523114624,
          -0.10876817596456671,
          -0.05842595744958105,
          0.07792787791735868,
          -0.03295069405522168,
          -0.0871574211793609,
          -0.023140872578063534,
          -0.048063168784866814,
          0.23674726445846472,
          0.04233968973217061,
          0.15445121690639166,
          0.11817154243076543,
          0.1278268007398356,
          0.22780862606839133,
          -0.14579383530105905,
          0.2304803678758566,
          0.16494223666746868,
          0.1936879222311692,
          0.052771000312081616,
          0.0027413782510514384,
          0.12141623934300548,
          -0.04738165157459802,
          -0.12360063339457616,
          0.18428243663490007,
          0.19776739494189893,
          -0.05946197928703956,
          0.058483654754585855,
          -0.07758613368447187,
          -0.03072669164270634,
          0.038416654948648155,
          -0.0031761514269125386,
          -0.014263337243305071,
          0.2874551377857415,
          -0.04410561308337255,
          0.29419851485228965,
          0.05837572571302428,
          -0.02077660823447376,
          -0.06980593156159122,
          0.023122369283831892,
          0.1427835523212733,
          -0.022046194168678073,
          0.03019379489435426,
          -0.13878016659372763,
          0.31127310255580903,
          0.20130388269863567,
          -0.17642999844968965,
          0.030458033380200533,
          -0.007715241968337243,
          -0.19919117106320935,
          0.0384654290081935,
          -0.02940439411805361,
          0.1076650024469661,
          0.17729538732347463,
          0.0842652370799129,
          0.09722661063071725,
          -0.056972783045444356,
          0.09562712441674161,
          0.09245862111000311,
          0.04124343083309392,
          0.025997302180980668,
          0.08074017940140711
         ],
         "xaxis": "x",
         "y": [
          0.07525126546468094,
          0.4197030486706806,
          0.2058398730162019,
          0.051429824741425496,
          -0.021263151956013505,
          0.41822792256813757,
          0.5353050353175504,
          0.2555987156238729,
          0.24202661135554368,
          0.1511216977983059,
          0.38361086053801735,
          -0.04494573080019955,
          0.04893924365524309,
          0.1397769984581039,
          0.18625974260621156,
          0.03293485858509674,
          0.10491538555485541,
          0.08487555701637647,
          0.38220111635980814,
          0.10854658919826606,
          0.36807220064774443,
          0.244898059929608,
          0.02221146074340959,
          0.06879518653972484,
          0.052952507827798714,
          0.28151364818467056,
          0.14770151522031952,
          0.12341968434819565,
          0.21094028606685183,
          0.18988844902419896,
          0.32940224836326554,
          0.3803556967881941,
          0.1591425397630621,
          0.46939255665797625,
          0.2721697929589131,
          0.12304526137506992,
          0.2300590252137134,
          0.44754095247253006,
          0.05593391583361919,
          0.40965084096202586,
          0.2648256271709495,
          0.3762218611812388,
          0.13768898084776177,
          0.030038129826731385,
          0.010090004254754818,
          -0.0028607033946287308,
          0.06505272532469437,
          0.11594921510458142,
          0.11510156191897321,
          0.3511545223836954,
          0.13823446298400746,
          0.14747235787121235,
          0.2188526606972455,
          -0.002270068857614908,
          0.028262639312619443,
          0.2361187803220462,
          0.053465765825635406,
          -0.024436449343296356,
          0.5492649202848637,
          -0.018240581731158122,
          0.01490919176822827,
          0.1599744224211828,
          -0.02949850336572618,
          0.08326330776634785,
          -0.06202248923541539,
          0.06376651911551996,
          0.1527312734001749,
          0.4349987748401111,
          0.3057978586737979,
          0.11525206187133884,
          0.20218147598732478,
          -0.02515558565312727,
          0.11576356596325935,
          0.4888914536138927,
          0.09721657958173487,
          0.5125700453039227,
          0.4244157904127655,
          -0.006812540134738074,
          0.03550994379021841,
          0.06208245458634138,
          0.4267208172770445,
          0.16128688857462434,
          -0.03363381970177298,
          -0.011517741236471582,
          -0.04233564412054245
         ],
         "yaxis": "y"
        },
        {
         "marker": {
          "color": "Black",
          "size": 7,
          "symbol": "x"
         },
         "mode": "markers",
         "name": "Centroids",
         "type": "scatter",
         "x": [
          0.05491474478860376,
          0.21206787372976735,
          0.6091199458247686,
          -0.285159049412234,
          -0.3160222123649661
         ],
         "y": [
          0.17392686830796952,
          -0.2283534400834988,
          0.12035648075747635,
          -0.1374091261474722,
          0.35430757896603443
         ]
        }
       ],
       "layout": {
        "height": 600,
        "legend": {
         "title": {
          "text": "Cluster(k)"
         },
         "tracegroupgap": 0
        },
        "template": {
         "data": {
          "bar": [
           {
            "error_x": {
             "color": "#2a3f5f"
            },
            "error_y": {
             "color": "#2a3f5f"
            },
            "marker": {
             "line": {
              "color": "#E5ECF6",
              "width": 0.5
             },
             "pattern": {
              "fillmode": "overlay",
              "size": 10,
              "solidity": 0.2
             }
            },
            "type": "bar"
           }
          ],
          "barpolar": [
           {
            "marker": {
             "line": {
              "color": "#E5ECF6",
              "width": 0.5
             },
             "pattern": {
              "fillmode": "overlay",
              "size": 10,
              "solidity": 0.2
             }
            },
            "type": "barpolar"
           }
          ],
          "carpet": [
           {
            "aaxis": {
             "endlinecolor": "#2a3f5f",
             "gridcolor": "white",
             "linecolor": "white",
             "minorgridcolor": "white",
             "startlinecolor": "#2a3f5f"
            },
            "baxis": {
             "endlinecolor": "#2a3f5f",
             "gridcolor": "white",
             "linecolor": "white",
             "minorgridcolor": "white",
             "startlinecolor": "#2a3f5f"
            },
            "type": "carpet"
           }
          ],
          "choropleth": [
           {
            "colorbar": {
             "outlinewidth": 0,
             "ticks": ""
            },
            "type": "choropleth"
           }
          ],
          "contour": [
           {
            "colorbar": {
             "outlinewidth": 0,
             "ticks": ""
            },
            "colorscale": [
             [
              0,
              "#0d0887"
             ],
             [
              0.1111111111111111,
              "#46039f"
             ],
             [
              0.2222222222222222,
              "#7201a8"
             ],
             [
              0.3333333333333333,
              "#9c179e"
             ],
             [
              0.4444444444444444,
              "#bd3786"
             ],
             [
              0.5555555555555556,
              "#d8576b"
             ],
             [
              0.6666666666666666,
              "#ed7953"
             ],
             [
              0.7777777777777778,
              "#fb9f3a"
             ],
             [
              0.8888888888888888,
              "#fdca26"
             ],
             [
              1,
              "#f0f921"
             ]
            ],
            "type": "contour"
           }
          ],
          "contourcarpet": [
           {
            "colorbar": {
             "outlinewidth": 0,
             "ticks": ""
            },
            "type": "contourcarpet"
           }
          ],
          "heatmap": [
           {
            "colorbar": {
             "outlinewidth": 0,
             "ticks": ""
            },
            "colorscale": [
             [
              0,
              "#0d0887"
             ],
             [
              0.1111111111111111,
              "#46039f"
             ],
             [
              0.2222222222222222,
              "#7201a8"
             ],
             [
              0.3333333333333333,
              "#9c179e"
             ],
             [
              0.4444444444444444,
              "#bd3786"
             ],
             [
              0.5555555555555556,
              "#d8576b"
             ],
             [
              0.6666666666666666,
              "#ed7953"
             ],
             [
              0.7777777777777778,
              "#fb9f3a"
             ],
             [
              0.8888888888888888,
              "#fdca26"
             ],
             [
              1,
              "#f0f921"
             ]
            ],
            "type": "heatmap"
           }
          ],
          "heatmapgl": [
           {
            "colorbar": {
             "outlinewidth": 0,
             "ticks": ""
            },
            "colorscale": [
             [
              0,
              "#0d0887"
             ],
             [
              0.1111111111111111,
              "#46039f"
             ],
             [
              0.2222222222222222,
              "#7201a8"
             ],
             [
              0.3333333333333333,
              "#9c179e"
             ],
             [
              0.4444444444444444,
              "#bd3786"
             ],
             [
              0.5555555555555556,
              "#d8576b"
             ],
             [
              0.6666666666666666,
              "#ed7953"
             ],
             [
              0.7777777777777778,
              "#fb9f3a"
             ],
             [
              0.8888888888888888,
              "#fdca26"
             ],
             [
              1,
              "#f0f921"
             ]
            ],
            "type": "heatmapgl"
           }
          ],
          "histogram": [
           {
            "marker": {
             "pattern": {
              "fillmode": "overlay",
              "size": 10,
              "solidity": 0.2
             }
            },
            "type": "histogram"
           }
          ],
          "histogram2d": [
           {
            "colorbar": {
             "outlinewidth": 0,
             "ticks": ""
            },
            "colorscale": [
             [
              0,
              "#0d0887"
             ],
             [
              0.1111111111111111,
              "#46039f"
             ],
             [
              0.2222222222222222,
              "#7201a8"
             ],
             [
              0.3333333333333333,
              "#9c179e"
             ],
             [
              0.4444444444444444,
              "#bd3786"
             ],
             [
              0.5555555555555556,
              "#d8576b"
             ],
             [
              0.6666666666666666,
              "#ed7953"
             ],
             [
              0.7777777777777778,
              "#fb9f3a"
             ],
             [
              0.8888888888888888,
              "#fdca26"
             ],
             [
              1,
              "#f0f921"
             ]
            ],
            "type": "histogram2d"
           }
          ],
          "histogram2dcontour": [
           {
            "colorbar": {
             "outlinewidth": 0,
             "ticks": ""
            },
            "colorscale": [
             [
              0,
              "#0d0887"
             ],
             [
              0.1111111111111111,
              "#46039f"
             ],
             [
              0.2222222222222222,
              "#7201a8"
             ],
             [
              0.3333333333333333,
              "#9c179e"
             ],
             [
              0.4444444444444444,
              "#bd3786"
             ],
             [
              0.5555555555555556,
              "#d8576b"
             ],
             [
              0.6666666666666666,
              "#ed7953"
             ],
             [
              0.7777777777777778,
              "#fb9f3a"
             ],
             [
              0.8888888888888888,
              "#fdca26"
             ],
             [
              1,
              "#f0f921"
             ]
            ],
            "type": "histogram2dcontour"
           }
          ],
          "mesh3d": [
           {
            "colorbar": {
             "outlinewidth": 0,
             "ticks": ""
            },
            "type": "mesh3d"
           }
          ],
          "parcoords": [
           {
            "line": {
             "colorbar": {
              "outlinewidth": 0,
              "ticks": ""
             }
            },
            "type": "parcoords"
           }
          ],
          "pie": [
           {
            "automargin": true,
            "type": "pie"
           }
          ],
          "scatter": [
           {
            "fillpattern": {
             "fillmode": "overlay",
             "size": 10,
             "solidity": 0.2
            },
            "type": "scatter"
           }
          ],
          "scatter3d": [
           {
            "line": {
             "colorbar": {
              "outlinewidth": 0,
              "ticks": ""
             }
            },
            "marker": {
             "colorbar": {
              "outlinewidth": 0,
              "ticks": ""
             }
            },
            "type": "scatter3d"
           }
          ],
          "scattercarpet": [
           {
            "marker": {
             "colorbar": {
              "outlinewidth": 0,
              "ticks": ""
             }
            },
            "type": "scattercarpet"
           }
          ],
          "scattergeo": [
           {
            "marker": {
             "colorbar": {
              "outlinewidth": 0,
              "ticks": ""
             }
            },
            "type": "scattergeo"
           }
          ],
          "scattergl": [
           {
            "marker": {
             "colorbar": {
              "outlinewidth": 0,
              "ticks": ""
             }
            },
            "type": "scattergl"
           }
          ],
          "scattermapbox": [
           {
            "marker": {
             "colorbar": {
              "outlinewidth": 0,
              "ticks": ""
             }
            },
            "type": "scattermapbox"
           }
          ],
          "scatterpolar": [
           {
            "marker": {
             "colorbar": {
              "outlinewidth": 0,
              "ticks": ""
             }
            },
            "type": "scatterpolar"
           }
          ],
          "scatterpolargl": [
           {
            "marker": {
             "colorbar": {
              "outlinewidth": 0,
              "ticks": ""
             }
            },
            "type": "scatterpolargl"
           }
          ],
          "scatterternary": [
           {
            "marker": {
             "colorbar": {
              "outlinewidth": 0,
              "ticks": ""
             }
            },
            "type": "scatterternary"
           }
          ],
          "surface": [
           {
            "colorbar": {
             "outlinewidth": 0,
             "ticks": ""
            },
            "colorscale": [
             [
              0,
              "#0d0887"
             ],
             [
              0.1111111111111111,
              "#46039f"
             ],
             [
              0.2222222222222222,
              "#7201a8"
             ],
             [
              0.3333333333333333,
              "#9c179e"
             ],
             [
              0.4444444444444444,
              "#bd3786"
             ],
             [
              0.5555555555555556,
              "#d8576b"
             ],
             [
              0.6666666666666666,
              "#ed7953"
             ],
             [
              0.7777777777777778,
              "#fb9f3a"
             ],
             [
              0.8888888888888888,
              "#fdca26"
             ],
             [
              1,
              "#f0f921"
             ]
            ],
            "type": "surface"
           }
          ],
          "table": [
           {
            "cells": {
             "fill": {
              "color": "#EBF0F8"
             },
             "line": {
              "color": "white"
             }
            },
            "header": {
             "fill": {
              "color": "#C8D4E3"
             },
             "line": {
              "color": "white"
             }
            },
            "type": "table"
           }
          ]
         },
         "layout": {
          "annotationdefaults": {
           "arrowcolor": "#2a3f5f",
           "arrowhead": 0,
           "arrowwidth": 1
          },
          "autotypenumbers": "strict",
          "coloraxis": {
           "colorbar": {
            "outlinewidth": 0,
            "ticks": ""
           }
          },
          "colorscale": {
           "diverging": [
            [
             0,
             "#8e0152"
            ],
            [
             0.1,
             "#c51b7d"
            ],
            [
             0.2,
             "#de77ae"
            ],
            [
             0.3,
             "#f1b6da"
            ],
            [
             0.4,
             "#fde0ef"
            ],
            [
             0.5,
             "#f7f7f7"
            ],
            [
             0.6,
             "#e6f5d0"
            ],
            [
             0.7,
             "#b8e186"
            ],
            [
             0.8,
             "#7fbc41"
            ],
            [
             0.9,
             "#4d9221"
            ],
            [
             1,
             "#276419"
            ]
           ],
           "sequential": [
            [
             0,
             "#0d0887"
            ],
            [
             0.1111111111111111,
             "#46039f"
            ],
            [
             0.2222222222222222,
             "#7201a8"
            ],
            [
             0.3333333333333333,
             "#9c179e"
            ],
            [
             0.4444444444444444,
             "#bd3786"
            ],
            [
             0.5555555555555556,
             "#d8576b"
            ],
            [
             0.6666666666666666,
             "#ed7953"
            ],
            [
             0.7777777777777778,
             "#fb9f3a"
            ],
            [
             0.8888888888888888,
             "#fdca26"
            ],
            [
             1,
             "#f0f921"
            ]
           ],
           "sequentialminus": [
            [
             0,
             "#0d0887"
            ],
            [
             0.1111111111111111,
             "#46039f"
            ],
            [
             0.2222222222222222,
             "#7201a8"
            ],
            [
             0.3333333333333333,
             "#9c179e"
            ],
            [
             0.4444444444444444,
             "#bd3786"
            ],
            [
             0.5555555555555556,
             "#d8576b"
            ],
            [
             0.6666666666666666,
             "#ed7953"
            ],
            [
             0.7777777777777778,
             "#fb9f3a"
            ],
            [
             0.8888888888888888,
             "#fdca26"
            ],
            [
             1,
             "#f0f921"
            ]
           ]
          },
          "colorway": [
           "#636efa",
           "#EF553B",
           "#00cc96",
           "#ab63fa",
           "#FFA15A",
           "#19d3f3",
           "#FF6692",
           "#B6E880",
           "#FF97FF",
           "#FECB52"
          ],
          "font": {
           "color": "#2a3f5f"
          },
          "geo": {
           "bgcolor": "white",
           "lakecolor": "white",
           "landcolor": "#E5ECF6",
           "showlakes": true,
           "showland": true,
           "subunitcolor": "white"
          },
          "hoverlabel": {
           "align": "left"
          },
          "hovermode": "closest",
          "mapbox": {
           "style": "light"
          },
          "paper_bgcolor": "white",
          "plot_bgcolor": "#E5ECF6",
          "polar": {
           "angularaxis": {
            "gridcolor": "white",
            "linecolor": "white",
            "ticks": ""
           },
           "bgcolor": "#E5ECF6",
           "radialaxis": {
            "gridcolor": "white",
            "linecolor": "white",
            "ticks": ""
           }
          },
          "scene": {
           "xaxis": {
            "backgroundcolor": "#E5ECF6",
            "gridcolor": "white",
            "gridwidth": 2,
            "linecolor": "white",
            "showbackground": true,
            "ticks": "",
            "zerolinecolor": "white"
           },
           "yaxis": {
            "backgroundcolor": "#E5ECF6",
            "gridcolor": "white",
            "gridwidth": 2,
            "linecolor": "white",
            "showbackground": true,
            "ticks": "",
            "zerolinecolor": "white"
           },
           "zaxis": {
            "backgroundcolor": "#E5ECF6",
            "gridcolor": "white",
            "gridwidth": 2,
            "linecolor": "white",
            "showbackground": true,
            "ticks": "",
            "zerolinecolor": "white"
           }
          },
          "shapedefaults": {
           "line": {
            "color": "#2a3f5f"
           }
          },
          "ternary": {
           "aaxis": {
            "gridcolor": "white",
            "linecolor": "white",
            "ticks": ""
           },
           "baxis": {
            "gridcolor": "white",
            "linecolor": "white",
            "ticks": ""
           },
           "bgcolor": "#E5ECF6",
           "caxis": {
            "gridcolor": "white",
            "linecolor": "white",
            "ticks": ""
           }
          },
          "title": {
           "x": 0.05
          },
          "xaxis": {
           "automargin": true,
           "gridcolor": "white",
           "linecolor": "white",
           "ticks": "",
           "title": {
            "standoff": 15
           },
           "zerolinecolor": "white",
           "zerolinewidth": 2
          },
          "yaxis": {
           "automargin": true,
           "gridcolor": "white",
           "linecolor": "white",
           "ticks": "",
           "title": {
            "standoff": 15
           },
           "zerolinecolor": "white",
           "zerolinewidth": 2
          }
         }
        },
        "title": {
         "text": "Clustering of Songs"
        },
        "width": 800,
        "xaxis": {
         "anchor": "y",
         "autorange": true,
         "domain": [
          0,
          1
         ],
         "range": [
          -0.6869334595390892,
          1.100550023278294
         ],
         "title": {
          "text": "x"
         },
         "type": "linear"
        },
        "yaxis": {
         "anchor": "x",
         "autorange": true,
         "domain": [
          0,
          1
         ],
         "range": [
          -0.6139235302290745,
          0.9752715085272958
         ],
         "title": {
          "text": "y"
         },
         "type": "linear"
        }
       }
      },
      "image/png": "[encoded data removed]",
      "text/html": [
       "<div>                            <div id=\"e25f3382-157d-4e8a-8f9f-e4ed03d166b3\" class=\"plotly-graph-div\" style=\"height:600px; width:800px;\"></div>            <script type=\"text/javascript\">                require([\"plotly\"], function(Plotly) {                    window.PLOTLYENV=window.PLOTLYENV || {};                                    if (document.getElementById(\"e25f3382-157d-4e8a-8f9f-e4ed03d166b3\")) {                    Plotly.newPlot(                        \"e25f3382-157d-4e8a-8f9f-e4ed03d166b3\",                        [{\"hovertemplate\":\"Cluster(k)=1\\u003cbr\\u003ex=%{x}\\u003cbr\\u003ey=%{y}\\u003cextra\\u003e\\u003c\\u002fextra\\u003e\",\"legendgroup\":\"1\",\"marker\":{\"color\":\"#636efa\",\"symbol\":\"circle\"},\"mode\":\"markers\",\"name\":\"1\",\"orientation\":\"v\",\"showlegend\":true,\"x\":[0.26116239285878795,-0.05360118643241915,0.24044883341179388,0.10612110144554976,0.5526555703616831,0.2196126604599794,-0.031246864711712317,0.1936706282226383,0.15121628816183316,0.15915889263117705,0.6279959754611939,0.038049282636268715,0.37573608089241944,0.12410189601913185,0.24474427086076114,0.0904338670926519,0.39325511616287717,-0.06963149875902369,0.3752217460296167,0.10016845164092136,0.3626233941586419,0.25550501792025354,0.2618489759523669,0.1732433432412666,0.2413342959331508,0.04287729988274823,0.08170506373938471,0.05720573327936551,0.09341578201139329,0.1692038766797662,0.31199699027396693,0.44883718375470405,0.36176977600447124,0.2355662121382283,0.23727023655931748,0.2171122358022191,0.4889175442285518,0.43942013134298075,-0.0232242018880583,0.13453181003259151,0.24017613233877821,0.2333744478201893,0.18451068965164116,0.33132948015607117,0.25268633730393364,0.2541535545136857,0.06520156102141708,0.33767356121788855,0.2430431733140476,0.3629621778449747,0.22949466090254608,0.3723371676510308,0.2695690806074816,0.4361092441651704,0.20158079029554218,0.14451361465203358,0.30286004392514415,0.24823887105446057,0.37799537890450624,0.1924918889677606,0.13388788718204975,0.3083938191267455,0.12380139529639445,-0.04124122939946944,0.004617035870462263,0.41044637223682995,0.20799624714995882,0.38639738714009103,0.04693858025549866,0.09100133071675284,-0.06189346436273903,0.33865966028279354,0.2368507782768871,0.22353278819266534,0.40099411529981005,0.03691230331695295,0.20112085600584934,0.08557518350725184,0.12339074950526792,-0.0016585019092119544,0.09875140907996831,0.424072760826155,0.332412128744707,0.055928221243804845,0.14313174327833503,0.11127493768190638,0.07291910441571887,0.3161348216158184,0.16067134133463895,0.138613612528943,0.4736811676484905,0.026284685545807814,0.21479499324666826,0.5279237420329322,0.3655400313399201,0.13113703470950636,-0.04338370701253114,0.3139374927295464,-0.004923268234193893,0.003550829367243333,0.3017186608778948,0.18331900180416677,0.18914146389161957,0.13553034723524546,0.10841942645734144,0.03557750998938681,0.6486436412134806],\"xaxis\":\"x\",\"y\":[-0.06239589352147654,-0.31188692441669047,-0.06945005132317429,-0.3069801663328954,-0.3564799543447904,-0.1572211895009929,-0.22161132275161166,-0.3523809459330826,-0.2564320320664463,-0.33997364374439487,-0.3252643294491376,-0.14308826282905163,-0.14168930213291434,-0.19071574848277215,-0.18471306266830967,-0.2723509928499213,-0.22921431094277897,-0.38124325052900426,-0.19137484116174527,-0.12485015920425202,-0.24557944554704636,-0.3289813241408996,-0.009997343817835397,-0.16515294245379805,-0.13555686053588878,-0.27683483113803325,-0.27112040414390126,-0.3014758511107678,-0.3987195081423074,-0.23464950020496936,-0.283472353658816,-0.12353193347142435,-0.08205908162191568,-0.3128374118989003,-0.0689045384850922,-0.2926658074705059,-0.2765270958601212,-0.3986278770189513,-0.18941373033339834,-0.2270050108023523,-0.028485023045976016,-0.4104106794671476,-0.2715972868737808,-0.0868266556336871,-0.10758529222303462,-0.17342140275682144,-0.18457823496961995,-0.5202745368737884,-0.32385769397121017,-0.3727765916107462,-0.2719780771293841,-0.25737006324267997,-0.004980806700878803,-0.26415267987900115,-0.41639003993108065,-0.21163758264190138,-0.3068767191564767,-0.11537404604793357,-0.103331074279959,-0.14921007875749748,-0.36445111712838774,0.02583165801205899,-0.46544041484931736,-0.32797858730292406,-0.26838587904381767,-0.15828691566391437,-0.14702353933694054,-0.13265330233760997,-0.21992559180211804,-0.16517799431092797,-0.3889778669182241,-0.15200321557337484,-0.14846431505610758,-0.024686060949911822,-0.09695767959302265,-0.24662968026027585,-0.2979337235051338,-0.2763200909851192,-0.38330693440270525,-0.17806377903962084,-0.4156117640320964,-0.2691027309594723,-0.49308391834431015,-0.3074259156162478,-0.1659664842754951,-0.28705554979058934,-0.17782743599351222,0.03105267587976883,-0.020341815522979565,-0.272755775907697,-0.255629065794222,-0.3267459419627295,-0.06114732425506459,-0.24209031391471952,-0.06486396287481061,-0.3980708479827853,-0.40138073789295586,-0.017734165560221764,-0.2507638580007203,-0.2575396869030313,-0.13080386195477087,-0.2099480933575317,-0.04637515837030855,-0.19668607804250304,-0.2206990276583373,-0.3441614810959701,-0.3906809374686924],\"yaxis\":\"y\",\"type\":\"scatter\"},{\"hovertemplate\":\"Cluster(k)=3\\u003cbr\\u003ex=%{x}\\u003cbr\\u003ey=%{y}\\u003cextra\\u003e\\u003c\\u002fextra\\u003e\",\"legendgroup\":\"3\",\"marker\":{\"color\":\"#EF553B\",\"symbol\":\"circle\"},\"mode\":\"markers\",\"name\":\"3\",\"orientation\":\"v\",\"showlegend\":true,\"x\":[-0.4781637572999837,-0.22400149256545965,-0.07357360509045034,-0.45547299515191925,-0.08205531786549031,-0.45734246667434963,-0.3353870379445595,-0.45309037952902176,-0.397502781802568,-0.27893402793028343,-0.42910382391138324,-0.17120614022190508,-0.051270346871784195,-0.23385606090744104,-0.31696144517522357,-0.2270850012786399,-0.37817965111046187,-0.4185985727536013,-0.39742838282227433,-0.24044459674516577,-0.4817749249813203,-0.08506449498938477,-0.35433103042714725,-0.27797239870197316,-0.41517990464740845,-0.5392378301912287,-0.35156469336628954,-0.20647041323922788,-0.190919168266723,-0.2184362987469598,-0.36611744763044524,-0.3052219603680535,-0.2898352395915822,-0.2826105942745529,-0.30766279211802045,-0.34087451049900225,-0.14342257684445378,-0.38043803210971966,-0.2388569420632073,-0.17455049297700798,-0.3318356139608453,-0.17651428959737622,-0.46591710775231004,-0.1753523671795896,-0.03749918673099932,-0.14034025838192188,-0.3405397909282984,-0.2083936901161347,-0.1686721474540139,-0.22621528611188974,-0.3486523649775665,-0.19387763030011376,-0.12015742346516298,-0.2553776715040658,-0.5021871165033005,-0.1753737332787771,-0.1938836301225339,-0.11948464328611488,-0.4361365742363174,-0.3948045910479844,-0.40748600502038806,-0.14412081254886605,-0.4271313869725662,-0.5862556377412804,-0.535231034475203,-0.3559459797456461,-0.4289369395896138,-0.3550091414672986,-0.2509736139073325,-0.24700552013307706,-0.5181312636166641,-0.39914871565956417,-0.382945620723403,-0.04770265948977637,-0.1904686810761941,-0.43471721101100985,-0.22343421676564923,-0.393148631351434,-0.14509093389106067,-0.1606878370111915,-0.47880721543358373,-0.41175542641237967,-0.16429326588309043,-0.39386467912305906,-0.2857474232977022,-0.04735432089148265,-0.1910480713299107,-0.36940348205805357,-0.1472474349705416,-0.17414836268426073,-0.19608881635881154,-0.2156439900873066,-0.2875588668143736,-0.41370211421891967,-0.16442157406061542,-0.323190788612121,-0.33400822551384085,-0.0932338598300411,-0.47615082988082474,-0.3092814242026144,-0.1338201951756537,-0.12329314750014121,-0.24164028833543943,-0.2142312256848205,-0.06716736142931237,-0.4537476493467298,-0.17154971188079243,-0.34817671236353726,-0.13973340797423403,-0.2768231364794996,-0.42115819440020796,-0.07081665421907209,-0.29667176560729214,-0.30720773162370657,-0.3799336371526969,-0.20786252310209424,-0.39573008233018997,-0.4055519037703268,-0.14315303121710343,-0.4400068611670179,-0.2535020102901786,-0.3000469764649903,-0.12201330821471029,-0.39390180345622755,-0.16072928300199654,-0.5142681116592694,-0.17607956975535868,-0.09526212281733985,-0.26546643069124093,-0.4441858759019388,-0.5099384622807991,-0.3177531057667636,-0.3186624831136075,-0.28284972594945273,-0.2820684768071501,-0.38155895954510627,-0.30221121677098195,-0.07112910455487886,-0.16005251887580318,-0.2139959694871569,-0.39363594838545257,-0.15570891742285245,-0.11861729933739387,-0.03391247423538331,-0.5324246656650546,-0.545215634054928,-0.25883453024050423,-0.3523959139122129,-0.3507694770250135,-0.2264835709159161,-0.277507219719591,-0.27688332283648526,-0.4015187768906544,-0.31295386398091257,-0.230018115034686,-0.23946337254969885,-0.10459604017408278,-0.41106843393592524,-0.07532831946022144,-0.41843397241520297,-0.2321742681595819,-0.20570931331322956,-0.35474985371705786,-0.09241642238111775,-0.35227284862539976,-0.48443315751723504,-0.4290828040236314,-0.124932770331577,-0.22445054775999465],\"xaxis\":\"x\",\"y\":[-0.25318957238691,-0.38584763734622807,-0.2709377833413835,-0.09218252424728846,-0.10003683394126285,-8.959840566747801e-05,-0.10524329423930359,-0.26641784527643414,-0.04372101785710086,-0.19081859260955072,-0.19577854916145712,0.03697433970152627,-0.1794229310847042,-0.07091296365308004,-0.11042270365816902,-0.11469472361236202,-0.19466392797904794,-0.025914548488513475,-0.13880641772768515,-0.2539910707759821,0.08287212696715944,-0.215276313201158,-0.1482479313244114,0.08082013421025379,0.02096385896339358,-0.12932774152158294,0.07362022830927342,-0.14391996291747344,0.060017677180153536,-0.2349693943240252,-0.2277137538143559,-0.015918257496085005,-0.264654103749163,0.0931278221620355,-0.2998122357052746,-0.2728378269399055,-0.2642772967982037,-0.0022315953869241124,-0.36808709750037516,-0.14501017462163598,-0.22486115041082358,-0.3364084047532203,-0.2815400205958332,-0.042097467297891225,-0.1275792924489251,-0.09005622265065585,-0.3295359272916439,0.04098373743934218,-0.14935953990861667,-0.25936820214637896,-0.1249758521419115,-0.20182693153014028,-0.24587002051426843,0.04080009839355786,-0.023742098090270516,0.0795724383099926,-0.15663898995597328,-0.1606616252882498,-0.23742593097699952,-0.1718468355493513,-0.2742149206634373,-0.33137388292999626,-0.07810671237751295,-0.037365687500242106,-0.3018096633142003,-0.06804529768770862,-0.25674641638070905,0.01600335559093058,-0.018918399392423662,-0.04657512488783776,-0.1929769015826574,-0.0702880469586494,-0.043444249018412005,-0.15962443753785116,0.06745090600140438,-0.05560477424688784,-0.01846348631390236,-0.010744512792420925,-0.22432038573928534,-0.0691793827113743,-0.06290503131938567,-0.2118044553147462,-0.33056412275263974,-0.07632824515783074,-0.0028862082363573295,-0.1100427710994488,-0.19386786242698223,-0.15996513802104342,-0.18003158026277352,-0.2259627082196659,-0.2568453832969018,-0.04599048702959468,0.035959713528145074,-0.3139703505992946,0.029928930615845437,-0.32603769059445403,-0.014547558696243986,-0.3167872051223677,-0.07787099852690882,-0.2036543994178622,-0.26059497362389733,-0.2848537805029559,0.05628067196261985,0.018919847861275207,-0.10082907881411819,-0.23675424825930938,-0.07577848259949835,-0.023749361427669057,-0.252339484737861,-0.2070498641627361,-0.3457470487747339,-0.1588097177652498,-0.02987316107342534,-0.2485014808283639,-0.09009402362148647,-0.2272209075837747,-0.18672348661877844,-0.17199637753270286,-0.0872563015012721,0.08597408681684568,-0.11463641468543093,-0.12129137350129877,-0.232718356097617,0.0647352164578327,-0.14995262451705552,0.029136579185569635,-0.04608042263125872,-0.40655642268759395,-0.21216922831007923,-0.23042959346567077,-0.26721382991973225,-0.20795478777461085,0.05625829687683022,-0.343852846060462,-0.230420280899482,-0.025174919322570207,-0.08936447374311805,-0.17863427442807672,-0.1644603325163265,-0.18757919776874388,0.06541443228533005,-0.1143414316419844,-0.23063368634595605,-0.09808421394763771,-0.27004097970440427,-0.04602464447998539,-0.053897403504790956,0.024480011031414103,0.10469117640757838,-0.3079801409380722,-0.03911872512264751,-0.25872444382008386,-0.14163020107498708,0.06896526139208574,-0.3680579357166835,-0.14187917787796359,-0.19542919529551192,-0.1588609499508307,-0.17428918310242375,0.006012296546977587,-0.13417827109994077,-0.3611125023643671,-0.12989384676490284,-0.280405489490309,-0.1644638583205857,-0.07799554242471649,0.07519548228736024,-0.08973754858833692,-0.3468253052995779],\"yaxis\":\"y\",\"type\":\"scatter\"},{\"hovertemplate\":\"Cluster(k)=2\\u003cbr\\u003ex=%{x}\\u003cbr\\u003ey=%{y}\\u003cextra\\u003e\\u003c\\u002fextra\\u003e\",\"legendgroup\":\"2\",\"marker\":{\"color\":\"#00cc96\",\"symbol\":\"circle\"},\"mode\":\"markers\",\"name\":\"2\",\"orientation\":\"v\",\"showlegend\":true,\"x\":[0.8285101431277462,0.5454785028178005,0.522537452125162,0.883577239243579,0.533128539094077,0.522827882023433,0.46969416983845763,0.6976946034750524,0.4725944476397355,0.4354261713291663,0.8375821855226361,0.770370759202281,0.8052971094086634,0.6520313254269748,0.38471787519094963,0.5118100329017659,0.35659818366289475,0.38278962929603777,0.6681100701176107,0.6237798003205753,0.8899221896833777,0.481862344932747,0.5404986325782358,0.6498049291703358,0.6589021755685167,0.6653323208110209,0.6043732413755769,0.5341303908467361,0.4996011243895067,0.7535550587592483,0.9037323017511374,0.5496471512201225,0.5022277136403879,0.40261772456655,0.6969327133199894,0.6849201954630643,0.8016885290714714,0.6276859746415064,0.6971319660860118,0.48105995698702064,0.5851910037962363,0.8285462176959166,0.6626673655222288,0.4888149886494032,0.8930057470838741,0.6548232297328889,0.8967392556928764,0.4727310030535908,0.6067067770025728,0.7753809054587342,0.8682024421634021,0.6741918540969382,0.4261908668468273,0.6624529557013484,0.5389749914477392,0.3982411226801936,0.674369999528681,0.7026442993820304,0.4026357871300159,0.4081431851988281,0.3641242869418305,0.4006202863326589,0.38453000206931637,0.5332260547840174,0.8710195569903667,0.412450777664468,0.9998722014804854,0.6726516489287168,0.4157787254232964,0.43328591262715677],\"xaxis\":\"x\",\"y\":[0.13417086376283155,0.01980067443074968,0.09193472097068515,0.043416653208470865,0.30184581154567397,0.11740263111735784,0.24004077681196687,0.030663976358206304,-0.06310388433873322,0.18153466954610967,0.3227263848506813,0.060028439542117444,0.17668129753773196,-0.14743347417789296,0.6525159189983264,-0.07700588130047052,0.02972110700192427,0.22550329390922672,0.2601360361896668,0.255682115321962,0.02240010570578328,-0.09649388617256219,0.06256574968656776,0.25340047874229715,-0.22466825208073077,-0.07539346315517473,0.2617062228384004,-0.12594542245249743,0.035683350529197404,0.0029250308437638816,0.28190402692632605,-0.1900543378236103,0.07013098209843799,0.4576241107460025,-0.09721798480571034,0.08685948286092476,-0.21709305493354464,0.03363989567667043,0.08323252731463428,-0.019696746558423975,0.366088780754209,0.23328813852432137,0.3749094029834487,0.18396609007056275,0.30067604526213676,0.1711662152870611,-0.07292401607066193,-0.0331695974765845,0.2495131759999683,0.2321917272437652,0.25339520174146435,0.2625081348911428,-0.039941238777607004,0.15977346859858435,0.08623210908942243,0.38476990652281023,0.06260890621366948,0.04573302412650807,0.3035167005492939,0.14829350496976434,0.2644766277102373,0.21311859443405515,0.2290475204940974,0.33444230744862863,0.18627323018456268,0.07647481213773899,-0.1395138015253165,-0.10024914056891324,0.0445860000905598,0.18193087484107065],\"yaxis\":\"y\",\"type\":\"scatter\"},{\"hovertemplate\":\"Cluster(k)=4\\u003cbr\\u003ex=%{x}\\u003cbr\\u003ey=%{y}\\u003cextra\\u003e\\u003c\\u002fextra\\u003e\",\"legendgroup\":\"4\",\"marker\":{\"color\":\"#ab63fa\",\"symbol\":\"circle\"},\"mode\":\"markers\",\"name\":\"4\",\"orientation\":\"v\",\"showlegend\":true,\"x\":[-0.014060563429765492,-0.30877123863704187,-0.39177148247346666,-0.3872068951762783,-0.3993862027786521,-0.21443925259280852,-0.34932892199061333,-0.326868649067241,-0.26822969729469825,-0.16423123673181947,-0.4707535745413971,-0.34047201806328126,-0.26098456340982734,-0.25998807236813737,-0.496995173954358,-0.4238037135023517,-0.10108262984141725,-0.28061737686928034,-0.2929243640313192,-0.22384046233384097,-0.35304022983829847,-0.4741744286795916,-0.36302776941557036,-0.34464107636473335,-0.2929917115279186,-0.3523655366992666,-0.2974548314405095,-0.30564788104619856,-0.4268865798177425,-0.18673462943816124,-0.264997694966879,-0.3041293495117261,-0.029353686898317275,-0.37410061653993465,-0.5520962143041246,-0.39428517846022126,-0.22112932285802764,-0.27391603450487856,-0.4116204022987545,-0.10554879690247604,-0.23884998032830687,-0.13959055520838703,-0.1538970741207263,-0.10327658549800868,-0.4453765686789966,-0.5348282870968514,-0.3692056843330859,-0.2557240699781219,-0.30847305392352714,-0.3238557194740341,-0.4914529483370513,-0.4120669534697601,-0.36238402049782864,-0.18404277382478873,-0.34388042071069774,-0.41049639430810053,-0.4231867098109852,-0.17216397894126795,-0.40120451076719676,-0.30946012655818744,-0.23020444637264806,-0.3399005658312849,-0.3303930799454509,-0.17194293660178026,-0.5683327195169625,-0.4037866728456907,-0.44420600270616284,-0.4749011690789277,-0.15455058381691322],\"xaxis\":\"x\",\"y\":[0.6700932286864316,0.29407035699381073,0.21348232173625864,0.36439353447608774,0.6606984951912586,0.18465689035034036,0.1692018464398215,0.16137109751759302,0.35110007111937624,0.5356230774255906,0.28470644460887096,0.1337252517510231,0.7010764255005093,0.1526346484584036,0.1294928694091276,0.25421359933318133,0.42714213970646925,0.5774753288894334,0.1261513688380718,0.8116357424654006,0.3003829144827532,0.7769688065301408,0.1958919764364541,0.3126926812327141,0.37528343843414996,0.2615682373382753,0.15099607217987918,0.2104160272566536,0.8816225151720097,0.4295248228111981,0.41086184366813927,0.2906774624375937,0.6799203482743172,0.3862685461081671,0.3027291737321243,0.18045625096220144,0.23510709920299822,0.418712300915055,0.764359112493697,0.3675364090611308,0.5914364958214724,0.2525186645457595,0.36840349083602525,0.44452486366943966,0.36007391855129345,0.42024115245063143,0.22904160212624963,0.12274788676740991,0.4979789502536836,0.22965005348689385,0.26195437093027946,0.2494703949780185,0.16726249934388368,0.3789666345916891,0.15291938495443383,0.25618387376004076,0.2057507634830125,0.2659720848351411,0.23344161908139952,0.430019070531588,0.5354225416245443,0.23976694975503163,0.30951144808690967,0.36065036195947386,0.1321547873226735,0.4077752792343512,0.49180964755360745,0.37941206911898767,0.33724131137573476],\"yaxis\":\"y\",\"type\":\"scatter\"},{\"hovertemplate\":\"Cluster(k)=0\\u003cbr\\u003ex=%{x}\\u003cbr\\u003ey=%{y}\\u003cextra\\u003e\\u003c\\u002fextra\\u003e\",\"legendgroup\":\"0\",\"marker\":{\"color\":\"#FFA15A\",\"symbol\":\"circle\"},\"mode\":\"markers\",\"name\":\"0\",\"orientation\":\"v\",\"showlegend\":true,\"x\":[-0.11008829569136708,0.04111470128372051,0.15985178214321977,0.3196555920471479,-0.05541003948931227,0.13660630318678169,0.141092158544175,0.02242103314030845,0.039654577153844524,0.11806272179356388,0.21560388987820983,-0.04219045050261436,-0.11701642548087453,0.31302452486288596,0.1512768093555812,0.12641434782147526,-0.07684475859781738,0.18798714738421218,-0.007919045948479253,-0.10358518685826322,0.1467309912746478,-0.003362836620638719,-0.011143999548795337,0.20124696909880557,0.049884860523114624,-0.10876817596456671,-0.05842595744958105,0.07792787791735868,-0.03295069405522168,-0.0871574211793609,-0.023140872578063534,-0.048063168784866814,0.23674726445846472,0.04233968973217061,0.15445121690639166,0.11817154243076543,0.1278268007398356,0.22780862606839133,-0.14579383530105905,0.2304803678758566,0.16494223666746868,0.1936879222311692,0.052771000312081616,0.0027413782510514384,0.12141623934300548,-0.04738165157459802,-0.12360063339457616,0.18428243663490007,0.19776739494189893,-0.05946197928703956,0.058483654754585855,-0.07758613368447187,-0.03072669164270634,0.038416654948648155,-0.0031761514269125386,-0.014263337243305071,0.2874551377857415,-0.04410561308337255,0.29419851485228965,0.05837572571302428,-0.02077660823447376,-0.06980593156159122,0.023122369283831892,0.1427835523212733,-0.022046194168678073,0.03019379489435426,-0.13878016659372763,0.31127310255580903,0.20130388269863567,-0.17642999844968965,0.030458033380200533,-0.007715241968337243,-0.19919117106320935,0.0384654290081935,-0.02940439411805361,0.1076650024469661,0.17729538732347463,0.0842652370799129,0.09722661063071725,-0.056972783045444356,0.09562712441674161,0.09245862111000311,0.04124343083309392,0.025997302180980668,0.08074017940140711],\"xaxis\":\"x\",\"y\":[0.07525126546468094,0.4197030486706806,0.2058398730162019,0.051429824741425496,-0.021263151956013505,0.41822792256813757,0.5353050353175504,0.2555987156238729,0.24202661135554368,0.1511216977983059,0.38361086053801735,-0.04494573080019955,0.04893924365524309,0.1397769984581039,0.18625974260621156,0.03293485858509674,0.10491538555485541,0.08487555701637647,0.38220111635980814,0.10854658919826606,0.36807220064774443,0.244898059929608,0.02221146074340959,0.06879518653972484,0.052952507827798714,0.28151364818467056,0.14770151522031952,0.12341968434819565,0.21094028606685183,0.18988844902419896,0.32940224836326554,0.3803556967881941,0.1591425397630621,0.46939255665797625,0.2721697929589131,0.12304526137506992,0.2300590252137134,0.44754095247253006,0.05593391583361919,0.40965084096202586,0.2648256271709495,0.3762218611812388,0.13768898084776177,0.030038129826731385,0.010090004254754818,-0.0028607033946287308,0.06505272532469437,0.11594921510458142,0.11510156191897321,0.3511545223836954,0.13823446298400746,0.14747235787121235,0.2188526606972455,-0.002270068857614908,0.028262639312619443,0.2361187803220462,0.053465765825635406,-0.024436449343296356,0.5492649202848637,-0.018240581731158122,0.01490919176822827,0.1599744224211828,-0.02949850336572618,0.08326330776634785,-0.06202248923541539,0.06376651911551996,0.1527312734001749,0.4349987748401111,0.3057978586737979,0.11525206187133884,0.20218147598732478,-0.02515558565312727,0.11576356596325935,0.4888914536138927,0.09721657958173487,0.5125700453039227,0.4244157904127655,-0.006812540134738074,0.03550994379021841,0.06208245458634138,0.4267208172770445,0.16128688857462434,-0.03363381970177298,-0.011517741236471582,-0.04233564412054245],\"yaxis\":\"y\",\"type\":\"scatter\"},{\"marker\":{\"color\":\"Black\",\"size\":7,\"symbol\":\"x\"},\"mode\":\"markers\",\"name\":\"Centroids\",\"x\":[0.05491474478860376,0.21206787372976735,0.6091199458247686,-0.285159049412234,-0.3160222123649661],\"y\":[0.17392686830796952,-0.2283534400834988,0.12035648075747635,-0.1374091261474722,0.35430757896603443],\"type\":\"scatter\"}],                        {\"template\":{\"data\":{\"histogram2dcontour\":[{\"type\":\"histogram2dcontour\",\"colorbar\":{\"outlinewidth\":0,\"ticks\":\"\"},\"colorscale\":[[0.0,\"#0d0887\"],[0.1111111111111111,\"#46039f\"],[0.2222222222222222,\"#7201a8\"],[0.3333333333333333,\"#9c179e\"],[0.4444444444444444,\"#bd3786\"],[0.5555555555555556,\"#d8576b\"],[0.6666666666666666,\"#ed7953\"],[0.7777777777777778,\"#fb9f3a\"],[0.8888888888888888,\"#fdca26\"],[1.0,\"#f0f921\"]]}],\"choropleth\":[{\"type\":\"choropleth\",\"colorbar\":{\"outlinewidth\":0,\"ticks\":\"\"}}],\"histogram2d\":[{\"type\":\"histogram2d\",\"colorbar\":{\"outlinewidth\":0,\"ticks\":\"\"},\"colorscale\":[[0.0,\"#0d0887\"],[0.1111111111111111,\"#46039f\"],[0.2222222222222222,\"#7201a8\"],[0.3333333333333333,\"#9c179e\"],[0.4444444444444444,\"#bd3786\"],[0.5555555555555556,\"#d8576b\"],[0.6666666666666666,\"#ed7953\"],[0.7777777777777778,\"#fb9f3a\"],[0.8888888888888888,\"#fdca26\"],[1.0,\"#f0f921\"]]}],\"heatmap\":[{\"type\":\"heatmap\",\"colorbar\":{\"outlinewidth\":0,\"ticks\":\"\"},\"colorscale\":[[0.0,\"#0d0887\"],[0.1111111111111111,\"#46039f\"],[0.2222222222222222,\"#7201a8\"],[0.3333333333333333,\"#9c179e\"],[0.4444444444444444,\"#bd3786\"],[0.5555555555555556,\"#d8576b\"],[0.6666666666666666,\"#ed7953\"],[0.7777777777777778,\"#fb9f3a\"],[0.8888888888888888,\"#fdca26\"],[1.0,\"#f0f921\"]]}],\"heatmapgl\":[{\"type\":\"heatmapgl\",\"colorbar\":{\"outlinewidth\":0,\"ticks\":\"\"},\"colorscale\":[[0.0,\"#0d0887\"],[0.1111111111111111,\"#46039f\"],[0.2222222222222222,\"#7201a8\"],[0.3333333333333333,\"#9c179e\"],[0.4444444444444444,\"#bd3786\"],[0.5555555555555556,\"#d8576b\"],[0.6666666666666666,\"#ed7953\"],[0.7777777777777778,\"#fb9f3a\"],[0.8888888888888888,\"#fdca26\"],[1.0,\"#f0f921\"]]}],\"contourcarpet\":[{\"type\":\"contourcarpet\",\"colorbar\":{\"outlinewidth\":0,\"ticks\":\"\"}}],\"contour\":[{\"type\":\"contour\",\"colorbar\":{\"outlinewidth\":0,\"ticks\":\"\"},\"colorscale\":[[0.0,\"#0d0887\"],[0.1111111111111111,\"#46039f\"],[0.2222222222222222,\"#7201a8\"],[0.3333333333333333,\"#9c179e\"],[0.4444444444444444,\"#bd3786\"],[0.5555555555555556,\"#d8576b\"],[0.6666666666666666,\"#ed7953\"],[0.7777777777777778,\"#fb9f3a\"],[0.8888888888888888,\"#fdca26\"],[1.0,\"#f0f921\"]]}],\"surface\":[{\"type\":\"surface\",\"colorbar\":{\"outlinewidth\":0,\"ticks\":\"\"},\"colorscale\":[[0.0,\"#0d0887\"],[0.1111111111111111,\"#46039f\"],[0.2222222222222222,\"#7201a8\"],[0.3333333333333333,\"#9c179e\"],[0.4444444444444444,\"#bd3786\"],[0.5555555555555556,\"#d8576b\"],[0.6666666666666666,\"#ed7953\"],[0.7777777777777778,\"#fb9f3a\"],[0.8888888888888888,\"#fdca26\"],[1.0,\"#f0f921\"]]}],\"mesh3d\":[{\"type\":\"mesh3d\",\"colorbar\":{\"outlinewidth\":0,\"ticks\":\"\"}}],\"scatter\":[{\"fillpattern\":{\"fillmode\":\"overlay\",\"size\":10,\"solidity\":0.2},\"type\":\"scatter\"}],\"parcoords\":[{\"type\":\"parcoords\",\"line\":{\"colorbar\":{\"outlinewidth\":0,\"ticks\":\"\"}}}],\"scatterpolargl\":[{\"type\":\"scatterpolargl\",\"marker\":{\"colorbar\":{\"outlinewidth\":0,\"ticks\":\"\"}}}],\"bar\":[{\"error_x\":{\"color\":\"#2a3f5f\"},\"error_y\":{\"color\":\"#2a3f5f\"},\"marker\":{\"line\":{\"color\":\"#E5ECF6\",\"width\":0.5},\"pattern\":{\"fillmode\":\"overlay\",\"size\":10,\"solidity\":0.2}},\"type\":\"bar\"}],\"scattergeo\":[{\"type\":\"scattergeo\",\"marker\":{\"colorbar\":{\"outlinewidth\":0,\"ticks\":\"\"}}}],\"scatterpolar\":[{\"type\":\"scatterpolar\",\"marker\":{\"colorbar\":{\"outlinewidth\":0,\"ticks\":\"\"}}}],\"histogram\":[{\"marker\":{\"pattern\":{\"fillmode\":\"overlay\",\"size\":10,\"solidity\":0.2}},\"type\":\"histogram\"}],\"scattergl\":[{\"type\":\"scattergl\",\"marker\":{\"colorbar\":{\"outlinewidth\":0,\"ticks\":\"\"}}}],\"scatter3d\":[{\"type\":\"scatter3d\",\"line\":{\"colorbar\":{\"outlinewidth\":0,\"ticks\":\"\"}},\"marker\":{\"colorbar\":{\"outlinewidth\":0,\"ticks\":\"\"}}}],\"scattermapbox\":[{\"type\":\"scattermapbox\",\"marker\":{\"colorbar\":{\"outlinewidth\":0,\"ticks\":\"\"}}}],\"scatterternary\":[{\"type\":\"scatterternary\",\"marker\":{\"colorbar\":{\"outlinewidth\":0,\"ticks\":\"\"}}}],\"scattercarpet\":[{\"type\":\"scattercarpet\",\"marker\":{\"colorbar\":{\"outlinewidth\":0,\"ticks\":\"\"}}}],\"carpet\":[{\"aaxis\":{\"endlinecolor\":\"#2a3f5f\",\"gridcolor\":\"white\",\"linecolor\":\"white\",\"minorgridcolor\":\"white\",\"startlinecolor\":\"#2a3f5f\"},\"baxis\":{\"endlinecolor\":\"#2a3f5f\",\"gridcolor\":\"white\",\"linecolor\":\"white\",\"minorgridcolor\":\"white\",\"startlinecolor\":\"#2a3f5f\"},\"type\":\"carpet\"}],\"table\":[{\"cells\":{\"fill\":{\"color\":\"#EBF0F8\"},\"line\":{\"color\":\"white\"}},\"header\":{\"fill\":{\"color\":\"#C8D4E3\"},\"line\":{\"color\":\"white\"}},\"type\":\"table\"}],\"barpolar\":[{\"marker\":{\"line\":{\"color\":\"#E5ECF6\",\"width\":0.5},\"pattern\":{\"fillmode\":\"overlay\",\"size\":10,\"solidity\":0.2}},\"type\":\"barpolar\"}],\"pie\":[{\"automargin\":true,\"type\":\"pie\"}]},\"layout\":{\"autotypenumbers\":\"strict\",\"colorway\":[\"#636efa\",\"#EF553B\",\"#00cc96\",\"#ab63fa\",\"#FFA15A\",\"#19d3f3\",\"#FF6692\",\"#B6E880\",\"#FF97FF\",\"#FECB52\"],\"font\":{\"color\":\"#2a3f5f\"},\"hovermode\":\"closest\",\"hoverlabel\":{\"align\":\"left\"},\"paper_bgcolor\":\"white\",\"plot_bgcolor\":\"#E5ECF6\",\"polar\":{\"bgcolor\":\"#E5ECF6\",\"angularaxis\":{\"gridcolor\":\"white\",\"linecolor\":\"white\",\"ticks\":\"\"},\"radialaxis\":{\"gridcolor\":\"white\",\"linecolor\":\"white\",\"ticks\":\"\"}},\"ternary\":{\"bgcolor\":\"#E5ECF6\",\"aaxis\":{\"gridcolor\":\"white\",\"linecolor\":\"white\",\"ticks\":\"\"},\"baxis\":{\"gridcolor\":\"white\",\"linecolor\":\"white\",\"ticks\":\"\"},\"caxis\":{\"gridcolor\":\"white\",\"linecolor\":\"white\",\"ticks\":\"\"}},\"coloraxis\":{\"colorbar\":{\"outlinewidth\":0,\"ticks\":\"\"}},\"colorscale\":{\"sequential\":[[0.0,\"#0d0887\"],[0.1111111111111111,\"#46039f\"],[0.2222222222222222,\"#7201a8\"],[0.3333333333333333,\"#9c179e\"],[0.4444444444444444,\"#bd3786\"],[0.5555555555555556,\"#d8576b\"],[0.6666666666666666,\"#ed7953\"],[0.7777777777777778,\"#fb9f3a\"],[0.8888888888888888,\"#fdca26\"],[1.0,\"#f0f921\"]],\"sequentialminus\":[[0.0,\"#0d0887\"],[0.1111111111111111,\"#46039f\"],[0.2222222222222222,\"#7201a8\"],[0.3333333333333333,\"#9c179e\"],[0.4444444444444444,\"#bd3786\"],[0.5555555555555556,\"#d8576b\"],[0.6666666666666666,\"#ed7953\"],[0.7777777777777778,\"#fb9f3a\"],[0.8888888888888888,\"#fdca26\"],[1.0,\"#f0f921\"]],\"diverging\":[[0,\"#8e0152\"],[0.1,\"#c51b7d\"],[0.2,\"#de77ae\"],[0.3,\"#f1b6da\"],[0.4,\"#fde0ef\"],[0.5,\"#f7f7f7\"],[0.6,\"#e6f5d0\"],[0.7,\"#b8e186\"],[0.8,\"#7fbc41\"],[0.9,\"#4d9221\"],[1,\"#276419\"]]},\"xaxis\":{\"gridcolor\":\"white\",\"linecolor\":\"white\",\"ticks\":\"\",\"title\":{\"standoff\":15},\"zerolinecolor\":\"white\",\"automargin\":true,\"zerolinewidth\":2},\"yaxis\":{\"gridcolor\":\"white\",\"linecolor\":\"white\",\"ticks\":\"\",\"title\":{\"standoff\":15},\"zerolinecolor\":\"white\",\"automargin\":true,\"zerolinewidth\":2},\"scene\":{\"xaxis\":{\"backgroundcolor\":\"#E5ECF6\",\"gridcolor\":\"white\",\"linecolor\":\"white\",\"showbackground\":true,\"ticks\":\"\",\"zerolinecolor\":\"white\",\"gridwidth\":2},\"yaxis\":{\"backgroundcolor\":\"#E5ECF6\",\"gridcolor\":\"white\",\"linecolor\":\"white\",\"showbackground\":true,\"ticks\":\"\",\"zerolinecolor\":\"white\",\"gridwidth\":2},\"zaxis\":{\"backgroundcolor\":\"#E5ECF6\",\"gridcolor\":\"white\",\"linecolor\":\"white\",\"showbackground\":true,\"ticks\":\"\",\"zerolinecolor\":\"white\",\"gridwidth\":2}},\"shapedefaults\":{\"line\":{\"color\":\"#2a3f5f\"}},\"annotationdefaults\":{\"arrowcolor\":\"#2a3f5f\",\"arrowhead\":0,\"arrowwidth\":1},\"geo\":{\"bgcolor\":\"white\",\"landcolor\":\"#E5ECF6\",\"subunitcolor\":\"white\",\"showland\":true,\"showlakes\":true,\"lakecolor\":\"white\"},\"title\":{\"x\":0.05},\"mapbox\":{\"style\":\"light\"}}},\"xaxis\":{\"anchor\":\"y\",\"domain\":[0.0,1.0],\"title\":{\"text\":\"x\"}},\"yaxis\":{\"anchor\":\"x\",\"domain\":[0.0,1.0],\"title\":{\"text\":\"y\"}},\"legend\":{\"title\":{\"text\":\"Cluster(k)\"},\"tracegroupgap\":0},\"title\":{\"text\":\"Clustering of Songs\"},\"height\":600,\"width\":800},                        {\"responsive\": true}                    ).then(function(){\n",
       "                            \n",
       "var gd = document.getElementById('e25f3382-157d-4e8a-8f9f-e4ed03d166b3');\n",
       "var x = new MutationObserver(function (mutations, observer) {{\n",
       "        var display = window.getComputedStyle(gd).display;\n",
       "        if (!display || display === 'none') {{\n",
       "            console.log([gd, 'removed!']);\n",
       "            Plotly.purge(gd);\n",
       "            observer.disconnect();\n",
       "        }}\n",
       "}});\n",
       "\n",
       "// Listen for the removal of the full notebook cells\n",
       "var notebookContainer = gd.closest('#notebook-container');\n",
       "if (notebookContainer) {{\n",
       "    x.observe(notebookContainer, {childList: true});\n",
       "}}\n",
       "\n",
       "// Listen for the clearing of the current output cell\n",
       "var outputEl = gd.closest('.output');\n",
       "if (outputEl) {{\n",
       "    x.observe(outputEl, {childList: true});\n",
       "}}\n",
       "\n",
       "                        })                };                });            </script>        </div>"
      ]
     },
     "metadata": {},
     "output_type": "display_data"
    }
   ],
   "source": [
    "df_clusters = pd.DataFrame({'x': df_2d[:, 0], 'y': df_2d[:, 1], 'Cluster(k)': clusters.astype(str)})\n",
    "\n",
    "#Plotting the df and centroids evaluated by k-means algorithm\n",
    "fig_cluster=px.scatter(df_clusters,x='x',y='y',color='Cluster(k)',title = \"Clustering of Songs\",height=600,width=800)\n",
    "fig_cluster.add_scatter(x=km.cluster_centers_[:,0],y=km.cluster_centers_[:,1],mode='markers',name='Centroids',marker=dict(color='Black',size=7,symbol='x'))\n",
    "fig_cluster.show()\n"
   ]
  },
  {
   "cell_type": "markdown",
   "id": "477cf0e1-1d83-4f35-80e4-120881a7028c",
   "metadata": {},
   "source": [
    "## Grouping tracks with their respective clusters "
   ]
  },
  {
   "cell_type": "code",
   "execution_count": 127,
   "id": "feaa9ee1-7e0d-4cf8-b902-f51adb20be3e",
   "metadata": {},
   "outputs": [
    {
     "data": {
      "text/html": [
       "<div>\n",
       "<style scoped>\n",
       "    .dataframe tbody tr th:only-of-type {\n",
       "        vertical-align: middle;\n",
       "    }\n",
       "\n",
       "    .dataframe tbody tr th {\n",
       "        vertical-align: top;\n",
       "    }\n",
       "\n",
       "    .dataframe thead th {\n",
       "        text-align: right;\n",
       "    }\n",
       "</style>\n",
       "<table border=\"1\" class=\"dataframe\">\n",
       "  <thead>\n",
       "    <tr style=\"text-align: right;\">\n",
       "      <th></th>\n",
       "      <th>Name</th>\n",
       "      <th>Artist</th>\n",
       "      <th>Duration</th>\n",
       "      <th>Acousticness</th>\n",
       "      <th>Danceability</th>\n",
       "      <th>Energy</th>\n",
       "      <th>Instrumentalness</th>\n",
       "      <th>Liveness</th>\n",
       "      <th>Loudness</th>\n",
       "      <th>Speechiness</th>\n",
       "      <th>Tempo</th>\n",
       "      <th>Valence</th>\n",
       "      <th>Cluster</th>\n",
       "    </tr>\n",
       "  </thead>\n",
       "  <tbody>\n",
       "    <tr>\n",
       "      <th>0</th>\n",
       "      <td>Like a Rolling Stone</td>\n",
       "      <td>Bob Dylan</td>\n",
       "      <td>6:09</td>\n",
       "      <td>0.7310</td>\n",
       "      <td>0.482</td>\n",
       "      <td>0.721</td>\n",
       "      <td>0.000000</td>\n",
       "      <td>0.1890</td>\n",
       "      <td>0.640149</td>\n",
       "      <td>0.0321</td>\n",
       "      <td>0.220230</td>\n",
       "      <td>0.557</td>\n",
       "      <td>1</td>\n",
       "    </tr>\n",
       "    <tr>\n",
       "      <th>1</th>\n",
       "      <td>(I Can't Get No) Satisfaction - Mono Version /...</td>\n",
       "      <td>The Rolling Stones</td>\n",
       "      <td>3:42</td>\n",
       "      <td>0.0354</td>\n",
       "      <td>0.722</td>\n",
       "      <td>0.882</td>\n",
       "      <td>0.049600</td>\n",
       "      <td>0.1190</td>\n",
       "      <td>0.643693</td>\n",
       "      <td>0.0348</td>\n",
       "      <td>0.509240</td>\n",
       "      <td>0.921</td>\n",
       "      <td>3</td>\n",
       "    </tr>\n",
       "    <tr>\n",
       "      <th>2</th>\n",
       "      <td>Imagine - Remastered 2010</td>\n",
       "      <td>John Lennon</td>\n",
       "      <td>3:07</td>\n",
       "      <td>0.9070</td>\n",
       "      <td>0.547</td>\n",
       "      <td>0.257</td>\n",
       "      <td>0.183000</td>\n",
       "      <td>0.0935</td>\n",
       "      <td>0.382793</td>\n",
       "      <td>0.0252</td>\n",
       "      <td>0.082817</td>\n",
       "      <td>0.169</td>\n",
       "      <td>2</td>\n",
       "    </tr>\n",
       "    <tr>\n",
       "      <th>3</th>\n",
       "      <td>Purple Rain</td>\n",
       "      <td>Prince</td>\n",
       "      <td>8:40</td>\n",
       "      <td>0.0353</td>\n",
       "      <td>0.367</td>\n",
       "      <td>0.452</td>\n",
       "      <td>0.002280</td>\n",
       "      <td>0.6890</td>\n",
       "      <td>0.473071</td>\n",
       "      <td>0.0307</td>\n",
       "      <td>0.345614</td>\n",
       "      <td>0.189</td>\n",
       "      <td>4</td>\n",
       "    </tr>\n",
       "    <tr>\n",
       "      <th>4</th>\n",
       "      <td>What's Going On</td>\n",
       "      <td>Marvin Gaye</td>\n",
       "      <td>3:53</td>\n",
       "      <td>0.4030</td>\n",
       "      <td>0.280</td>\n",
       "      <td>0.720</td>\n",
       "      <td>0.000001</td>\n",
       "      <td>0.3940</td>\n",
       "      <td>0.508230</td>\n",
       "      <td>0.1110</td>\n",
       "      <td>0.975646</td>\n",
       "      <td>0.805</td>\n",
       "      <td>0</td>\n",
       "    </tr>\n",
       "  </tbody>\n",
       "</table>\n",
       "</div>"
      ],
      "text/plain": [
       "                                                Name              Artist  \\\n",
       "0                               Like a Rolling Stone           Bob Dylan   \n",
       "1  (I Can't Get No) Satisfaction - Mono Version /...  The Rolling Stones   \n",
       "2                          Imagine - Remastered 2010         John Lennon   \n",
       "3                                        Purple Rain              Prince   \n",
       "4                                    What's Going On         Marvin Gaye   \n",
       "\n",
       "  Duration  Acousticness  Danceability  Energy  Instrumentalness  Liveness  \\\n",
       "0     6:09        0.7310         0.482   0.721          0.000000    0.1890   \n",
       "1     3:42        0.0354         0.722   0.882          0.049600    0.1190   \n",
       "2     3:07        0.9070         0.547   0.257          0.183000    0.0935   \n",
       "3     8:40        0.0353         0.367   0.452          0.002280    0.6890   \n",
       "4     3:53        0.4030         0.280   0.720          0.000001    0.3940   \n",
       "\n",
       "   Loudness  Speechiness     Tempo  Valence  Cluster  \n",
       "0  0.640149       0.0321  0.220230    0.557        1  \n",
       "1  0.643693       0.0348  0.509240    0.921        3  \n",
       "2  0.382793       0.0252  0.082817    0.169        2  \n",
       "3  0.473071       0.0307  0.345614    0.189        4  \n",
       "4  0.508230       0.1110  0.975646    0.805        0  "
      ]
     },
     "execution_count": 127,
     "metadata": {},
     "output_type": "execute_result"
    }
   ],
   "source": [
    "dfGrouped = dfOriginal.copy()\n",
    "# Assigning cluster value to tracks in original df \n",
    "dfGrouped['Cluster'] = clusters\n",
    "# Changing tempo and loudness to their scaled counterparts for convenient plotting  \n",
    "dfGrouped[['Tempo','Loudness']] = df[['Tempo_scaled','Loudness_scaled']]\n",
    "dfGrouped.head()\n"
   ]
  },
  {
   "cell_type": "markdown",
   "id": "d6beb94e-df1a-43a2-b422-548255250489",
   "metadata": {},
   "source": [
    "## Mean table of attribute values "
   ]
  },
  {
   "cell_type": "code",
   "execution_count": 128,
   "id": "93791f34-79fe-491e-8dfc-4ad9efdfbf6e",
   "metadata": {},
   "outputs": [
    {
     "data": {
      "text/html": [
       "<div>\n",
       "<style scoped>\n",
       "    .dataframe tbody tr th:only-of-type {\n",
       "        vertical-align: middle;\n",
       "    }\n",
       "\n",
       "    .dataframe tbody tr th {\n",
       "        vertical-align: top;\n",
       "    }\n",
       "\n",
       "    .dataframe thead th {\n",
       "        text-align: right;\n",
       "    }\n",
       "</style>\n",
       "<table border=\"1\" class=\"dataframe\">\n",
       "  <thead>\n",
       "    <tr style=\"text-align: right;\">\n",
       "      <th></th>\n",
       "      <th>Acousticness</th>\n",
       "      <th>Danceability</th>\n",
       "      <th>Energy</th>\n",
       "      <th>Instrumentalness</th>\n",
       "      <th>Liveness</th>\n",
       "      <th>Loudness</th>\n",
       "      <th>Speechiness</th>\n",
       "      <th>Tempo</th>\n",
       "      <th>Valence</th>\n",
       "    </tr>\n",
       "    <tr>\n",
       "      <th>Cluster</th>\n",
       "      <th></th>\n",
       "      <th></th>\n",
       "      <th></th>\n",
       "      <th></th>\n",
       "      <th></th>\n",
       "      <th></th>\n",
       "      <th></th>\n",
       "      <th></th>\n",
       "      <th></th>\n",
       "    </tr>\n",
       "  </thead>\n",
       "  <tbody>\n",
       "    <tr>\n",
       "      <th>0</th>\n",
       "      <td>0.273905</td>\n",
       "      <td>0.487800</td>\n",
       "      <td>0.541447</td>\n",
       "      <td>0.037384</td>\n",
       "      <td>0.271947</td>\n",
       "      <td>0.484878</td>\n",
       "      <td>0.049369</td>\n",
       "      <td>0.390359</td>\n",
       "      <td>0.479798</td>\n",
       "    </tr>\n",
       "    <tr>\n",
       "      <th>1</th>\n",
       "      <td>0.604453</td>\n",
       "      <td>0.623888</td>\n",
       "      <td>0.547178</td>\n",
       "      <td>0.026570</td>\n",
       "      <td>0.167400</td>\n",
       "      <td>0.501519</td>\n",
       "      <td>0.063051</td>\n",
       "      <td>0.404327</td>\n",
       "      <td>0.762065</td>\n",
       "    </tr>\n",
       "    <tr>\n",
       "      <th>2</th>\n",
       "      <td>0.745243</td>\n",
       "      <td>0.470729</td>\n",
       "      <td>0.302706</td>\n",
       "      <td>0.023963</td>\n",
       "      <td>0.191610</td>\n",
       "      <td>0.365859</td>\n",
       "      <td>0.040506</td>\n",
       "      <td>0.355888</td>\n",
       "      <td>0.352723</td>\n",
       "    </tr>\n",
       "    <tr>\n",
       "      <th>3</th>\n",
       "      <td>0.123680</td>\n",
       "      <td>0.638195</td>\n",
       "      <td>0.748249</td>\n",
       "      <td>0.054673</td>\n",
       "      <td>0.169601</td>\n",
       "      <td>0.586571</td>\n",
       "      <td>0.058970</td>\n",
       "      <td>0.409753</td>\n",
       "      <td>0.803669</td>\n",
       "    </tr>\n",
       "    <tr>\n",
       "      <th>4</th>\n",
       "      <td>0.055055</td>\n",
       "      <td>0.404725</td>\n",
       "      <td>0.825986</td>\n",
       "      <td>0.079189</td>\n",
       "      <td>0.447671</td>\n",
       "      <td>0.612584</td>\n",
       "      <td>0.072881</td>\n",
       "      <td>0.511335</td>\n",
       "      <td>0.468014</td>\n",
       "    </tr>\n",
       "  </tbody>\n",
       "</table>\n",
       "</div>"
      ],
      "text/plain": [
       "         Acousticness  Danceability    Energy  Instrumentalness  Liveness  \\\n",
       "Cluster                                                                     \n",
       "0            0.273905      0.487800  0.541447          0.037384  0.271947   \n",
       "1            0.604453      0.623888  0.547178          0.026570  0.167400   \n",
       "2            0.745243      0.470729  0.302706          0.023963  0.191610   \n",
       "3            0.123680      0.638195  0.748249          0.054673  0.169601   \n",
       "4            0.055055      0.404725  0.825986          0.079189  0.447671   \n",
       "\n",
       "         Loudness  Speechiness     Tempo   Valence  \n",
       "Cluster                                             \n",
       "0        0.484878     0.049369  0.390359  0.479798  \n",
       "1        0.501519     0.063051  0.404327  0.762065  \n",
       "2        0.365859     0.040506  0.355888  0.352723  \n",
       "3        0.586571     0.058970  0.409753  0.803669  \n",
       "4        0.612584     0.072881  0.511335  0.468014  "
      ]
     },
     "execution_count": 128,
     "metadata": {},
     "output_type": "execute_result"
    }
   ],
   "source": [
    "#Finding mean of all attributes of the grouped df and grouping them by Cluster\n",
    "dfGrouped_mean = dfGrouped.drop(['Name','Duration','Artist'],axis=1,inplace = False).groupby('Cluster').mean()\n",
    "dfGrouped_mean"
   ]
  },
  {
   "cell_type": "markdown",
   "id": "2d764525-3964-4362-9968-f208a0945483",
   "metadata": {},
   "source": [
    "## Visualizing the means of attribute values in each cluster "
   ]
  },
  {
   "cell_type": "code",
   "execution_count": 129,
   "id": "6dd93fab-0d9b-47df-b38a-9a79809db5ed",
   "metadata": {},
   "outputs": [
    {
     "data": {
      "application/vnd.plotly.v1+json": {
       "config": {
        "plotlyServerURL": "https://plot.ly"
       },
       "data": [
        {
         "alignmentgroup": "True",
         "hovertemplate": "variable=Acousticness<br>Cluster=%{x}<br>value=%{y}<extra></extra>",
         "legendgroup": "Acousticness",
         "marker": {
          "color": "#636efa",
          "pattern": {
           "shape": ""
          }
         },
         "name": "Acousticness",
         "offsetgroup": "Acousticness",
         "orientation": "v",
         "showlegend": true,
         "textposition": "auto",
         "type": "bar",
         "x": [
          0,
          1,
          2,
          3,
          4
         ],
         "xaxis": "x",
         "y": [
          0.2739052823529412,
          0.6044532710280375,
          0.7452428571428572,
          0.12368002544378699,
          0.0550546115942029
         ],
         "yaxis": "y"
        },
        {
         "alignmentgroup": "True",
         "hovertemplate": "variable=Danceability<br>Cluster=%{x}<br>value=%{y}<extra></extra>",
         "legendgroup": "Danceability",
         "marker": {
          "color": "#EF553B",
          "pattern": {
           "shape": ""
          }
         },
         "name": "Danceability",
         "offsetgroup": "Danceability",
         "orientation": "v",
         "showlegend": true,
         "textposition": "auto",
         "type": "bar",
         "x": [
          0,
          1,
          2,
          3,
          4
         ],
         "xaxis": "x",
         "y": [
          0.4878,
          0.6238878504672897,
          0.47072857142857144,
          0.6381952662721894,
          0.4047246376811594
         ],
         "yaxis": "y"
        },
        {
         "alignmentgroup": "True",
         "hovertemplate": "variable=Energy<br>Cluster=%{x}<br>value=%{y}<extra></extra>",
         "legendgroup": "Energy",
         "marker": {
          "color": "#00cc96",
          "pattern": {
           "shape": ""
          }
         },
         "name": "Energy",
         "offsetgroup": "Energy",
         "orientation": "v",
         "showlegend": true,
         "textposition": "auto",
         "type": "bar",
         "x": [
          0,
          1,
          2,
          3,
          4
         ],
         "xaxis": "x",
         "y": [
          0.5414470588235295,
          0.5471775700934579,
          0.3027057142857143,
          0.7482485207100591,
          0.8259855072463769
         ],
         "yaxis": "y"
        },
        {
         "alignmentgroup": "True",
         "hovertemplate": "variable=Instrumentalness<br>Cluster=%{x}<br>value=%{y}<extra></extra>",
         "legendgroup": "Instrumentalness",
         "marker": {
          "color": "#ab63fa",
          "pattern": {
           "shape": ""
          }
         },
         "name": "Instrumentalness",
         "offsetgroup": "Instrumentalness",
         "orientation": "v",
         "showlegend": true,
         "textposition": "auto",
         "type": "bar",
         "x": [
          0,
          1,
          2,
          3,
          4
         ],
         "xaxis": "x",
         "y": [
          0.03738428823529411,
          0.02656968813084112,
          0.023962616142857145,
          0.05467328781065088,
          0.07918899463768116
         ],
         "yaxis": "y"
        },
        {
         "alignmentgroup": "True",
         "hovertemplate": "variable=Liveness<br>Cluster=%{x}<br>value=%{y}<extra></extra>",
         "legendgroup": "Liveness",
         "marker": {
          "color": "#FFA15A",
          "pattern": {
           "shape": ""
          }
         },
         "name": "Liveness",
         "offsetgroup": "Liveness",
         "orientation": "v",
         "showlegend": true,
         "textposition": "auto",
         "type": "bar",
         "x": [
          0,
          1,
          2,
          3,
          4
         ],
         "xaxis": "x",
         "y": [
          0.27194705882352943,
          0.1674,
          0.19160999999999997,
          0.16960059171597633,
          0.4476710144927536
         ],
         "yaxis": "y"
        },
        {
         "alignmentgroup": "True",
         "hovertemplate": "variable=Loudness<br>Cluster=%{x}<br>value=%{y}<extra></extra>",
         "legendgroup": "Loudness",
         "marker": {
          "color": "#19d3f3",
          "pattern": {
           "shape": ""
          }
         },
         "name": "Loudness",
         "offsetgroup": "Loudness",
         "orientation": "v",
         "showlegend": true,
         "textposition": "auto",
         "type": "bar",
         "x": [
          0,
          1,
          2,
          3,
          4
         ],
         "xaxis": "x",
         "y": [
          0.48487759384471907,
          0.5015189912033173,
          0.36585884155480797,
          0.5865705720289002,
          0.6125835892965151
         ],
         "yaxis": "y"
        },
        {
         "alignmentgroup": "True",
         "hovertemplate": "variable=Speechiness<br>Cluster=%{x}<br>value=%{y}<extra></extra>",
         "legendgroup": "Speechiness",
         "marker": {
          "color": "#FF6692",
          "pattern": {
           "shape": ""
          }
         },
         "name": "Speechiness",
         "offsetgroup": "Speechiness",
         "orientation": "v",
         "showlegend": true,
         "textposition": "auto",
         "type": "bar",
         "x": [
          0,
          1,
          2,
          3,
          4
         ],
         "xaxis": "x",
         "y": [
          0.04936941176470588,
          0.06305140186915888,
          0.040505714285714284,
          0.05897041420118343,
          0.07288115942028986
         ],
         "yaxis": "y"
        },
        {
         "alignmentgroup": "True",
         "hovertemplate": "variable=Tempo<br>Cluster=%{x}<br>value=%{y}<extra></extra>",
         "legendgroup": "Tempo",
         "marker": {
          "color": "#B6E880",
          "pattern": {
           "shape": ""
          }
         },
         "name": "Tempo",
         "offsetgroup": "Tempo",
         "orientation": "v",
         "showlegend": true,
         "textposition": "auto",
         "type": "bar",
         "x": [
          0,
          1,
          2,
          3,
          4
         ],
         "xaxis": "x",
         "y": [
          0.39035883728368104,
          0.4043269156087694,
          0.35588822395453945,
          0.4097533952781742,
          0.5113350056526517
         ],
         "yaxis": "y"
        },
        {
         "alignmentgroup": "True",
         "hovertemplate": "variable=Valence<br>Cluster=%{x}<br>value=%{y}<extra></extra>",
         "legendgroup": "Valence",
         "marker": {
          "color": "#FF97FF",
          "pattern": {
           "shape": ""
          }
         },
         "name": "Valence",
         "offsetgroup": "Valence",
         "orientation": "v",
         "showlegend": true,
         "textposition": "auto",
         "type": "bar",
         "x": [
          0,
          1,
          2,
          3,
          4
         ],
         "xaxis": "x",
         "y": [
          0.47979764705882355,
          0.7620654205607477,
          0.3527228571428571,
          0.8036686390532544,
          0.46801449275362317
         ],
         "yaxis": "y"
        }
       ],
       "layout": {
        "autosize": true,
        "barmode": "group",
        "legend": {
         "title": {
          "text": "Attributes"
         },
         "tracegroupgap": 0
        },
        "margin": {
         "t": 60
        },
        "template": {
         "data": {
          "bar": [
           {
            "error_x": {
             "color": "#2a3f5f"
            },
            "error_y": {
             "color": "#2a3f5f"
            },
            "marker": {
             "line": {
              "color": "#E5ECF6",
              "width": 0.5
             },
             "pattern": {
              "fillmode": "overlay",
              "size": 10,
              "solidity": 0.2
             }
            },
            "type": "bar"
           }
          ],
          "barpolar": [
           {
            "marker": {
             "line": {
              "color": "#E5ECF6",
              "width": 0.5
             },
             "pattern": {
              "fillmode": "overlay",
              "size": 10,
              "solidity": 0.2
             }
            },
            "type": "barpolar"
           }
          ],
          "carpet": [
           {
            "aaxis": {
             "endlinecolor": "#2a3f5f",
             "gridcolor": "white",
             "linecolor": "white",
             "minorgridcolor": "white",
             "startlinecolor": "#2a3f5f"
            },
            "baxis": {
             "endlinecolor": "#2a3f5f",
             "gridcolor": "white",
             "linecolor": "white",
             "minorgridcolor": "white",
             "startlinecolor": "#2a3f5f"
            },
            "type": "carpet"
           }
          ],
          "choropleth": [
           {
            "colorbar": {
             "outlinewidth": 0,
             "ticks": ""
            },
            "type": "choropleth"
           }
          ],
          "contour": [
           {
            "colorbar": {
             "outlinewidth": 0,
             "ticks": ""
            },
            "colorscale": [
             [
              0,
              "#0d0887"
             ],
             [
              0.1111111111111111,
              "#46039f"
             ],
             [
              0.2222222222222222,
              "#7201a8"
             ],
             [
              0.3333333333333333,
              "#9c179e"
             ],
             [
              0.4444444444444444,
              "#bd3786"
             ],
             [
              0.5555555555555556,
              "#d8576b"
             ],
             [
              0.6666666666666666,
              "#ed7953"
             ],
             [
              0.7777777777777778,
              "#fb9f3a"
             ],
             [
              0.8888888888888888,
              "#fdca26"
             ],
             [
              1,
              "#f0f921"
             ]
            ],
            "type": "contour"
           }
          ],
          "contourcarpet": [
           {
            "colorbar": {
             "outlinewidth": 0,
             "ticks": ""
            },
            "type": "contourcarpet"
           }
          ],
          "heatmap": [
           {
            "colorbar": {
             "outlinewidth": 0,
             "ticks": ""
            },
            "colorscale": [
             [
              0,
              "#0d0887"
             ],
             [
              0.1111111111111111,
              "#46039f"
             ],
             [
              0.2222222222222222,
              "#7201a8"
             ],
             [
              0.3333333333333333,
              "#9c179e"
             ],
             [
              0.4444444444444444,
              "#bd3786"
             ],
             [
              0.5555555555555556,
              "#d8576b"
             ],
             [
              0.6666666666666666,
              "#ed7953"
             ],
             [
              0.7777777777777778,
              "#fb9f3a"
             ],
             [
              0.8888888888888888,
              "#fdca26"
             ],
             [
              1,
              "#f0f921"
             ]
            ],
            "type": "heatmap"
           }
          ],
          "heatmapgl": [
           {
            "colorbar": {
             "outlinewidth": 0,
             "ticks": ""
            },
            "colorscale": [
             [
              0,
              "#0d0887"
             ],
             [
              0.1111111111111111,
              "#46039f"
             ],
             [
              0.2222222222222222,
              "#7201a8"
             ],
             [
              0.3333333333333333,
              "#9c179e"
             ],
             [
              0.4444444444444444,
              "#bd3786"
             ],
             [
              0.5555555555555556,
              "#d8576b"
             ],
             [
              0.6666666666666666,
              "#ed7953"
             ],
             [
              0.7777777777777778,
              "#fb9f3a"
             ],
             [
              0.8888888888888888,
              "#fdca26"
             ],
             [
              1,
              "#f0f921"
             ]
            ],
            "type": "heatmapgl"
           }
          ],
          "histogram": [
           {
            "marker": {
             "pattern": {
              "fillmode": "overlay",
              "size": 10,
              "solidity": 0.2
             }
            },
            "type": "histogram"
           }
          ],
          "histogram2d": [
           {
            "colorbar": {
             "outlinewidth": 0,
             "ticks": ""
            },
            "colorscale": [
             [
              0,
              "#0d0887"
             ],
             [
              0.1111111111111111,
              "#46039f"
             ],
             [
              0.2222222222222222,
              "#7201a8"
             ],
             [
              0.3333333333333333,
              "#9c179e"
             ],
             [
              0.4444444444444444,
              "#bd3786"
             ],
             [
              0.5555555555555556,
              "#d8576b"
             ],
             [
              0.6666666666666666,
              "#ed7953"
             ],
             [
              0.7777777777777778,
              "#fb9f3a"
             ],
             [
              0.8888888888888888,
              "#fdca26"
             ],
             [
              1,
              "#f0f921"
             ]
            ],
            "type": "histogram2d"
           }
          ],
          "histogram2dcontour": [
           {
            "colorbar": {
             "outlinewidth": 0,
             "ticks": ""
            },
            "colorscale": [
             [
              0,
              "#0d0887"
             ],
             [
              0.1111111111111111,
              "#46039f"
             ],
             [
              0.2222222222222222,
              "#7201a8"
             ],
             [
              0.3333333333333333,
              "#9c179e"
             ],
             [
              0.4444444444444444,
              "#bd3786"
             ],
             [
              0.5555555555555556,
              "#d8576b"
             ],
             [
              0.6666666666666666,
              "#ed7953"
             ],
             [
              0.7777777777777778,
              "#fb9f3a"
             ],
             [
              0.8888888888888888,
              "#fdca26"
             ],
             [
              1,
              "#f0f921"
             ]
            ],
            "type": "histogram2dcontour"
           }
          ],
          "mesh3d": [
           {
            "colorbar": {
             "outlinewidth": 0,
             "ticks": ""
            },
            "type": "mesh3d"
           }
          ],
          "parcoords": [
           {
            "line": {
             "colorbar": {
              "outlinewidth": 0,
              "ticks": ""
             }
            },
            "type": "parcoords"
           }
          ],
          "pie": [
           {
            "automargin": true,
            "type": "pie"
           }
          ],
          "scatter": [
           {
            "fillpattern": {
             "fillmode": "overlay",
             "size": 10,
             "solidity": 0.2
            },
            "type": "scatter"
           }
          ],
          "scatter3d": [
           {
            "line": {
             "colorbar": {
              "outlinewidth": 0,
              "ticks": ""
             }
            },
            "marker": {
             "colorbar": {
              "outlinewidth": 0,
              "ticks": ""
             }
            },
            "type": "scatter3d"
           }
          ],
          "scattercarpet": [
           {
            "marker": {
             "colorbar": {
              "outlinewidth": 0,
              "ticks": ""
             }
            },
            "type": "scattercarpet"
           }
          ],
          "scattergeo": [
           {
            "marker": {
             "colorbar": {
              "outlinewidth": 0,
              "ticks": ""
             }
            },
            "type": "scattergeo"
           }
          ],
          "scattergl": [
           {
            "marker": {
             "colorbar": {
              "outlinewidth": 0,
              "ticks": ""
             }
            },
            "type": "scattergl"
           }
          ],
          "scattermapbox": [
           {
            "marker": {
             "colorbar": {
              "outlinewidth": 0,
              "ticks": ""
             }
            },
            "type": "scattermapbox"
           }
          ],
          "scatterpolar": [
           {
            "marker": {
             "colorbar": {
              "outlinewidth": 0,
              "ticks": ""
             }
            },
            "type": "scatterpolar"
           }
          ],
          "scatterpolargl": [
           {
            "marker": {
             "colorbar": {
              "outlinewidth": 0,
              "ticks": ""
             }
            },
            "type": "scatterpolargl"
           }
          ],
          "scatterternary": [
           {
            "marker": {
             "colorbar": {
              "outlinewidth": 0,
              "ticks": ""
             }
            },
            "type": "scatterternary"
           }
          ],
          "surface": [
           {
            "colorbar": {
             "outlinewidth": 0,
             "ticks": ""
            },
            "colorscale": [
             [
              0,
              "#0d0887"
             ],
             [
              0.1111111111111111,
              "#46039f"
             ],
             [
              0.2222222222222222,
              "#7201a8"
             ],
             [
              0.3333333333333333,
              "#9c179e"
             ],
             [
              0.4444444444444444,
              "#bd3786"
             ],
             [
              0.5555555555555556,
              "#d8576b"
             ],
             [
              0.6666666666666666,
              "#ed7953"
             ],
             [
              0.7777777777777778,
              "#fb9f3a"
             ],
             [
              0.8888888888888888,
              "#fdca26"
             ],
             [
              1,
              "#f0f921"
             ]
            ],
            "type": "surface"
           }
          ],
          "table": [
           {
            "cells": {
             "fill": {
              "color": "#EBF0F8"
             },
             "line": {
              "color": "white"
             }
            },
            "header": {
             "fill": {
              "color": "#C8D4E3"
             },
             "line": {
              "color": "white"
             }
            },
            "type": "table"
           }
          ]
         },
         "layout": {
          "annotationdefaults": {
           "arrowcolor": "#2a3f5f",
           "arrowhead": 0,
           "arrowwidth": 1
          },
          "autotypenumbers": "strict",
          "coloraxis": {
           "colorbar": {
            "outlinewidth": 0,
            "ticks": ""
           }
          },
          "colorscale": {
           "diverging": [
            [
             0,
             "#8e0152"
            ],
            [
             0.1,
             "#c51b7d"
            ],
            [
             0.2,
             "#de77ae"
            ],
            [
             0.3,
             "#f1b6da"
            ],
            [
             0.4,
             "#fde0ef"
            ],
            [
             0.5,
             "#f7f7f7"
            ],
            [
             0.6,
             "#e6f5d0"
            ],
            [
             0.7,
             "#b8e186"
            ],
            [
             0.8,
             "#7fbc41"
            ],
            [
             0.9,
             "#4d9221"
            ],
            [
             1,
             "#276419"
            ]
           ],
           "sequential": [
            [
             0,
             "#0d0887"
            ],
            [
             0.1111111111111111,
             "#46039f"
            ],
            [
             0.2222222222222222,
             "#7201a8"
            ],
            [
             0.3333333333333333,
             "#9c179e"
            ],
            [
             0.4444444444444444,
             "#bd3786"
            ],
            [
             0.5555555555555556,
             "#d8576b"
            ],
            [
             0.6666666666666666,
             "#ed7953"
            ],
            [
             0.7777777777777778,
             "#fb9f3a"
            ],
            [
             0.8888888888888888,
             "#fdca26"
            ],
            [
             1,
             "#f0f921"
            ]
           ],
           "sequentialminus": [
            [
             0,
             "#0d0887"
            ],
            [
             0.1111111111111111,
             "#46039f"
            ],
            [
             0.2222222222222222,
             "#7201a8"
            ],
            [
             0.3333333333333333,
             "#9c179e"
            ],
            [
             0.4444444444444444,
             "#bd3786"
            ],
            [
             0.5555555555555556,
             "#d8576b"
            ],
            [
             0.6666666666666666,
             "#ed7953"
            ],
            [
             0.7777777777777778,
             "#fb9f3a"
            ],
            [
             0.8888888888888888,
             "#fdca26"
            ],
            [
             1,
             "#f0f921"
            ]
           ]
          },
          "colorway": [
           "#636efa",
           "#EF553B",
           "#00cc96",
           "#ab63fa",
           "#FFA15A",
           "#19d3f3",
           "#FF6692",
           "#B6E880",
           "#FF97FF",
           "#FECB52"
          ],
          "font": {
           "color": "#2a3f5f"
          },
          "geo": {
           "bgcolor": "white",
           "lakecolor": "white",
           "landcolor": "#E5ECF6",
           "showlakes": true,
           "showland": true,
           "subunitcolor": "white"
          },
          "hoverlabel": {
           "align": "left"
          },
          "hovermode": "closest",
          "mapbox": {
           "style": "light"
          },
          "paper_bgcolor": "white",
          "plot_bgcolor": "#E5ECF6",
          "polar": {
           "angularaxis": {
            "gridcolor": "white",
            "linecolor": "white",
            "ticks": ""
           },
           "bgcolor": "#E5ECF6",
           "radialaxis": {
            "gridcolor": "white",
            "linecolor": "white",
            "ticks": ""
           }
          },
          "scene": {
           "xaxis": {
            "backgroundcolor": "#E5ECF6",
            "gridcolor": "white",
            "gridwidth": 2,
            "linecolor": "white",
            "showbackground": true,
            "ticks": "",
            "zerolinecolor": "white"
           },
           "yaxis": {
            "backgroundcolor": "#E5ECF6",
            "gridcolor": "white",
            "gridwidth": 2,
            "linecolor": "white",
            "showbackground": true,
            "ticks": "",
            "zerolinecolor": "white"
           },
           "zaxis": {
            "backgroundcolor": "#E5ECF6",
            "gridcolor": "white",
            "gridwidth": 2,
            "linecolor": "white",
            "showbackground": true,
            "ticks": "",
            "zerolinecolor": "white"
           }
          },
          "shapedefaults": {
           "line": {
            "color": "#2a3f5f"
           }
          },
          "ternary": {
           "aaxis": {
            "gridcolor": "white",
            "linecolor": "white",
            "ticks": ""
           },
           "baxis": {
            "gridcolor": "white",
            "linecolor": "white",
            "ticks": ""
           },
           "bgcolor": "#E5ECF6",
           "caxis": {
            "gridcolor": "white",
            "linecolor": "white",
            "ticks": ""
           }
          },
          "title": {
           "x": 0.05
          },
          "xaxis": {
           "automargin": true,
           "gridcolor": "white",
           "linecolor": "white",
           "ticks": "",
           "title": {
            "standoff": 15
           },
           "zerolinecolor": "white",
           "zerolinewidth": 2
          },
          "yaxis": {
           "automargin": true,
           "gridcolor": "white",
           "linecolor": "white",
           "ticks": "",
           "title": {
            "standoff": 15
           },
           "zerolinecolor": "white",
           "zerolinewidth": 2
          }
         }
        },
        "title": {
         "text": "Cluster Characteristics 1",
         "x": 0.5
        },
        "xaxis": {
         "anchor": "y",
         "autorange": true,
         "domain": [
          0,
          1
         ],
         "range": [
          -0.5,
          4.5
         ],
         "title": {
          "text": "Cluster"
         },
         "type": "linear"
        },
        "yaxis": {
         "anchor": "x",
         "autorange": true,
         "domain": [
          0,
          1
         ],
         "range": [
          0,
          0.8694584286803967
         ],
         "title": {
          "text": "value"
         },
         "type": "linear"
        }
       }
      },
      "image/png": "[encoded data removed]",
      "text/html": [
       "<div>                            <div id=\"d062fbda-bce5-45ce-a316-862c53a3703f\" class=\"plotly-graph-div\" style=\"height:525px; width:100%;\"></div>            <script type=\"text/javascript\">                require([\"plotly\"], function(Plotly) {                    window.PLOTLYENV=window.PLOTLYENV || {};                                    if (document.getElementById(\"d062fbda-bce5-45ce-a316-862c53a3703f\")) {                    Plotly.newPlot(                        \"d062fbda-bce5-45ce-a316-862c53a3703f\",                        [{\"alignmentgroup\":\"True\",\"hovertemplate\":\"variable=Acousticness\\u003cbr\\u003eCluster=%{x}\\u003cbr\\u003evalue=%{y}\\u003cextra\\u003e\\u003c\\u002fextra\\u003e\",\"legendgroup\":\"Acousticness\",\"marker\":{\"color\":\"#636efa\",\"pattern\":{\"shape\":\"\"}},\"name\":\"Acousticness\",\"offsetgroup\":\"Acousticness\",\"orientation\":\"v\",\"showlegend\":true,\"textposition\":\"auto\",\"x\":[0,1,2,3,4],\"xaxis\":\"x\",\"y\":[0.2739052823529412,0.6044532710280375,0.7452428571428572,0.12368002544378699,0.0550546115942029],\"yaxis\":\"y\",\"type\":\"bar\"},{\"alignmentgroup\":\"True\",\"hovertemplate\":\"variable=Danceability\\u003cbr\\u003eCluster=%{x}\\u003cbr\\u003evalue=%{y}\\u003cextra\\u003e\\u003c\\u002fextra\\u003e\",\"legendgroup\":\"Danceability\",\"marker\":{\"color\":\"#EF553B\",\"pattern\":{\"shape\":\"\"}},\"name\":\"Danceability\",\"offsetgroup\":\"Danceability\",\"orientation\":\"v\",\"showlegend\":true,\"textposition\":\"auto\",\"x\":[0,1,2,3,4],\"xaxis\":\"x\",\"y\":[0.4878,0.6238878504672897,0.47072857142857144,0.6381952662721894,0.4047246376811594],\"yaxis\":\"y\",\"type\":\"bar\"},{\"alignmentgroup\":\"True\",\"hovertemplate\":\"variable=Energy\\u003cbr\\u003eCluster=%{x}\\u003cbr\\u003evalue=%{y}\\u003cextra\\u003e\\u003c\\u002fextra\\u003e\",\"legendgroup\":\"Energy\",\"marker\":{\"color\":\"#00cc96\",\"pattern\":{\"shape\":\"\"}},\"name\":\"Energy\",\"offsetgroup\":\"Energy\",\"orientation\":\"v\",\"showlegend\":true,\"textposition\":\"auto\",\"x\":[0,1,2,3,4],\"xaxis\":\"x\",\"y\":[0.5414470588235295,0.5471775700934579,0.3027057142857143,0.7482485207100591,0.8259855072463769],\"yaxis\":\"y\",\"type\":\"bar\"},{\"alignmentgroup\":\"True\",\"hovertemplate\":\"variable=Instrumentalness\\u003cbr\\u003eCluster=%{x}\\u003cbr\\u003evalue=%{y}\\u003cextra\\u003e\\u003c\\u002fextra\\u003e\",\"legendgroup\":\"Instrumentalness\",\"marker\":{\"color\":\"#ab63fa\",\"pattern\":{\"shape\":\"\"}},\"name\":\"Instrumentalness\",\"offsetgroup\":\"Instrumentalness\",\"orientation\":\"v\",\"showlegend\":true,\"textposition\":\"auto\",\"x\":[0,1,2,3,4],\"xaxis\":\"x\",\"y\":[0.03738428823529411,0.02656968813084112,0.023962616142857145,0.05467328781065088,0.07918899463768116],\"yaxis\":\"y\",\"type\":\"bar\"},{\"alignmentgroup\":\"True\",\"hovertemplate\":\"variable=Liveness\\u003cbr\\u003eCluster=%{x}\\u003cbr\\u003evalue=%{y}\\u003cextra\\u003e\\u003c\\u002fextra\\u003e\",\"legendgroup\":\"Liveness\",\"marker\":{\"color\":\"#FFA15A\",\"pattern\":{\"shape\":\"\"}},\"name\":\"Liveness\",\"offsetgroup\":\"Liveness\",\"orientation\":\"v\",\"showlegend\":true,\"textposition\":\"auto\",\"x\":[0,1,2,3,4],\"xaxis\":\"x\",\"y\":[0.27194705882352943,0.1674,0.19160999999999997,0.16960059171597633,0.4476710144927536],\"yaxis\":\"y\",\"type\":\"bar\"},{\"alignmentgroup\":\"True\",\"hovertemplate\":\"variable=Loudness\\u003cbr\\u003eCluster=%{x}\\u003cbr\\u003evalue=%{y}\\u003cextra\\u003e\\u003c\\u002fextra\\u003e\",\"legendgroup\":\"Loudness\",\"marker\":{\"color\":\"#19d3f3\",\"pattern\":{\"shape\":\"\"}},\"name\":\"Loudness\",\"offsetgroup\":\"Loudness\",\"orientation\":\"v\",\"showlegend\":true,\"textposition\":\"auto\",\"x\":[0,1,2,3,4],\"xaxis\":\"x\",\"y\":[0.48487759384471907,0.5015189912033173,0.36585884155480797,0.5865705720289002,0.6125835892965151],\"yaxis\":\"y\",\"type\":\"bar\"},{\"alignmentgroup\":\"True\",\"hovertemplate\":\"variable=Speechiness\\u003cbr\\u003eCluster=%{x}\\u003cbr\\u003evalue=%{y}\\u003cextra\\u003e\\u003c\\u002fextra\\u003e\",\"legendgroup\":\"Speechiness\",\"marker\":{\"color\":\"#FF6692\",\"pattern\":{\"shape\":\"\"}},\"name\":\"Speechiness\",\"offsetgroup\":\"Speechiness\",\"orientation\":\"v\",\"showlegend\":true,\"textposition\":\"auto\",\"x\":[0,1,2,3,4],\"xaxis\":\"x\",\"y\":[0.04936941176470588,0.06305140186915888,0.040505714285714284,0.05897041420118343,0.07288115942028986],\"yaxis\":\"y\",\"type\":\"bar\"},{\"alignmentgroup\":\"True\",\"hovertemplate\":\"variable=Tempo\\u003cbr\\u003eCluster=%{x}\\u003cbr\\u003evalue=%{y}\\u003cextra\\u003e\\u003c\\u002fextra\\u003e\",\"legendgroup\":\"Tempo\",\"marker\":{\"color\":\"#B6E880\",\"pattern\":{\"shape\":\"\"}},\"name\":\"Tempo\",\"offsetgroup\":\"Tempo\",\"orientation\":\"v\",\"showlegend\":true,\"textposition\":\"auto\",\"x\":[0,1,2,3,4],\"xaxis\":\"x\",\"y\":[0.39035883728368104,0.4043269156087694,0.35588822395453945,0.4097533952781742,0.5113350056526517],\"yaxis\":\"y\",\"type\":\"bar\"},{\"alignmentgroup\":\"True\",\"hovertemplate\":\"variable=Valence\\u003cbr\\u003eCluster=%{x}\\u003cbr\\u003evalue=%{y}\\u003cextra\\u003e\\u003c\\u002fextra\\u003e\",\"legendgroup\":\"Valence\",\"marker\":{\"color\":\"#FF97FF\",\"pattern\":{\"shape\":\"\"}},\"name\":\"Valence\",\"offsetgroup\":\"Valence\",\"orientation\":\"v\",\"showlegend\":true,\"textposition\":\"auto\",\"x\":[0,1,2,3,4],\"xaxis\":\"x\",\"y\":[0.47979764705882355,0.7620654205607477,0.3527228571428571,0.8036686390532544,0.46801449275362317],\"yaxis\":\"y\",\"type\":\"bar\"}],                        {\"template\":{\"data\":{\"histogram2dcontour\":[{\"type\":\"histogram2dcontour\",\"colorbar\":{\"outlinewidth\":0,\"ticks\":\"\"},\"colorscale\":[[0.0,\"#0d0887\"],[0.1111111111111111,\"#46039f\"],[0.2222222222222222,\"#7201a8\"],[0.3333333333333333,\"#9c179e\"],[0.4444444444444444,\"#bd3786\"],[0.5555555555555556,\"#d8576b\"],[0.6666666666666666,\"#ed7953\"],[0.7777777777777778,\"#fb9f3a\"],[0.8888888888888888,\"#fdca26\"],[1.0,\"#f0f921\"]]}],\"choropleth\":[{\"type\":\"choropleth\",\"colorbar\":{\"outlinewidth\":0,\"ticks\":\"\"}}],\"histogram2d\":[{\"type\":\"histogram2d\",\"colorbar\":{\"outlinewidth\":0,\"ticks\":\"\"},\"colorscale\":[[0.0,\"#0d0887\"],[0.1111111111111111,\"#46039f\"],[0.2222222222222222,\"#7201a8\"],[0.3333333333333333,\"#9c179e\"],[0.4444444444444444,\"#bd3786\"],[0.5555555555555556,\"#d8576b\"],[0.6666666666666666,\"#ed7953\"],[0.7777777777777778,\"#fb9f3a\"],[0.8888888888888888,\"#fdca26\"],[1.0,\"#f0f921\"]]}],\"heatmap\":[{\"type\":\"heatmap\",\"colorbar\":{\"outlinewidth\":0,\"ticks\":\"\"},\"colorscale\":[[0.0,\"#0d0887\"],[0.1111111111111111,\"#46039f\"],[0.2222222222222222,\"#7201a8\"],[0.3333333333333333,\"#9c179e\"],[0.4444444444444444,\"#bd3786\"],[0.5555555555555556,\"#d8576b\"],[0.6666666666666666,\"#ed7953\"],[0.7777777777777778,\"#fb9f3a\"],[0.8888888888888888,\"#fdca26\"],[1.0,\"#f0f921\"]]}],\"heatmapgl\":[{\"type\":\"heatmapgl\",\"colorbar\":{\"outlinewidth\":0,\"ticks\":\"\"},\"colorscale\":[[0.0,\"#0d0887\"],[0.1111111111111111,\"#46039f\"],[0.2222222222222222,\"#7201a8\"],[0.3333333333333333,\"#9c179e\"],[0.4444444444444444,\"#bd3786\"],[0.5555555555555556,\"#d8576b\"],[0.6666666666666666,\"#ed7953\"],[0.7777777777777778,\"#fb9f3a\"],[0.8888888888888888,\"#fdca26\"],[1.0,\"#f0f921\"]]}],\"contourcarpet\":[{\"type\":\"contourcarpet\",\"colorbar\":{\"outlinewidth\":0,\"ticks\":\"\"}}],\"contour\":[{\"type\":\"contour\",\"colorbar\":{\"outlinewidth\":0,\"ticks\":\"\"},\"colorscale\":[[0.0,\"#0d0887\"],[0.1111111111111111,\"#46039f\"],[0.2222222222222222,\"#7201a8\"],[0.3333333333333333,\"#9c179e\"],[0.4444444444444444,\"#bd3786\"],[0.5555555555555556,\"#d8576b\"],[0.6666666666666666,\"#ed7953\"],[0.7777777777777778,\"#fb9f3a\"],[0.8888888888888888,\"#fdca26\"],[1.0,\"#f0f921\"]]}],\"surface\":[{\"type\":\"surface\",\"colorbar\":{\"outlinewidth\":0,\"ticks\":\"\"},\"colorscale\":[[0.0,\"#0d0887\"],[0.1111111111111111,\"#46039f\"],[0.2222222222222222,\"#7201a8\"],[0.3333333333333333,\"#9c179e\"],[0.4444444444444444,\"#bd3786\"],[0.5555555555555556,\"#d8576b\"],[0.6666666666666666,\"#ed7953\"],[0.7777777777777778,\"#fb9f3a\"],[0.8888888888888888,\"#fdca26\"],[1.0,\"#f0f921\"]]}],\"mesh3d\":[{\"type\":\"mesh3d\",\"colorbar\":{\"outlinewidth\":0,\"ticks\":\"\"}}],\"scatter\":[{\"fillpattern\":{\"fillmode\":\"overlay\",\"size\":10,\"solidity\":0.2},\"type\":\"scatter\"}],\"parcoords\":[{\"type\":\"parcoords\",\"line\":{\"colorbar\":{\"outlinewidth\":0,\"ticks\":\"\"}}}],\"scatterpolargl\":[{\"type\":\"scatterpolargl\",\"marker\":{\"colorbar\":{\"outlinewidth\":0,\"ticks\":\"\"}}}],\"bar\":[{\"error_x\":{\"color\":\"#2a3f5f\"},\"error_y\":{\"color\":\"#2a3f5f\"},\"marker\":{\"line\":{\"color\":\"#E5ECF6\",\"width\":0.5},\"pattern\":{\"fillmode\":\"overlay\",\"size\":10,\"solidity\":0.2}},\"type\":\"bar\"}],\"scattergeo\":[{\"type\":\"scattergeo\",\"marker\":{\"colorbar\":{\"outlinewidth\":0,\"ticks\":\"\"}}}],\"scatterpolar\":[{\"type\":\"scatterpolar\",\"marker\":{\"colorbar\":{\"outlinewidth\":0,\"ticks\":\"\"}}}],\"histogram\":[{\"marker\":{\"pattern\":{\"fillmode\":\"overlay\",\"size\":10,\"solidity\":0.2}},\"type\":\"histogram\"}],\"scattergl\":[{\"type\":\"scattergl\",\"marker\":{\"colorbar\":{\"outlinewidth\":0,\"ticks\":\"\"}}}],\"scatter3d\":[{\"type\":\"scatter3d\",\"line\":{\"colorbar\":{\"outlinewidth\":0,\"ticks\":\"\"}},\"marker\":{\"colorbar\":{\"outlinewidth\":0,\"ticks\":\"\"}}}],\"scattermapbox\":[{\"type\":\"scattermapbox\",\"marker\":{\"colorbar\":{\"outlinewidth\":0,\"ticks\":\"\"}}}],\"scatterternary\":[{\"type\":\"scatterternary\",\"marker\":{\"colorbar\":{\"outlinewidth\":0,\"ticks\":\"\"}}}],\"scattercarpet\":[{\"type\":\"scattercarpet\",\"marker\":{\"colorbar\":{\"outlinewidth\":0,\"ticks\":\"\"}}}],\"carpet\":[{\"aaxis\":{\"endlinecolor\":\"#2a3f5f\",\"gridcolor\":\"white\",\"linecolor\":\"white\",\"minorgridcolor\":\"white\",\"startlinecolor\":\"#2a3f5f\"},\"baxis\":{\"endlinecolor\":\"#2a3f5f\",\"gridcolor\":\"white\",\"linecolor\":\"white\",\"minorgridcolor\":\"white\",\"startlinecolor\":\"#2a3f5f\"},\"type\":\"carpet\"}],\"table\":[{\"cells\":{\"fill\":{\"color\":\"#EBF0F8\"},\"line\":{\"color\":\"white\"}},\"header\":{\"fill\":{\"color\":\"#C8D4E3\"},\"line\":{\"color\":\"white\"}},\"type\":\"table\"}],\"barpolar\":[{\"marker\":{\"line\":{\"color\":\"#E5ECF6\",\"width\":0.5},\"pattern\":{\"fillmode\":\"overlay\",\"size\":10,\"solidity\":0.2}},\"type\":\"barpolar\"}],\"pie\":[{\"automargin\":true,\"type\":\"pie\"}]},\"layout\":{\"autotypenumbers\":\"strict\",\"colorway\":[\"#636efa\",\"#EF553B\",\"#00cc96\",\"#ab63fa\",\"#FFA15A\",\"#19d3f3\",\"#FF6692\",\"#B6E880\",\"#FF97FF\",\"#FECB52\"],\"font\":{\"color\":\"#2a3f5f\"},\"hovermode\":\"closest\",\"hoverlabel\":{\"align\":\"left\"},\"paper_bgcolor\":\"white\",\"plot_bgcolor\":\"#E5ECF6\",\"polar\":{\"bgcolor\":\"#E5ECF6\",\"angularaxis\":{\"gridcolor\":\"white\",\"linecolor\":\"white\",\"ticks\":\"\"},\"radialaxis\":{\"gridcolor\":\"white\",\"linecolor\":\"white\",\"ticks\":\"\"}},\"ternary\":{\"bgcolor\":\"#E5ECF6\",\"aaxis\":{\"gridcolor\":\"white\",\"linecolor\":\"white\",\"ticks\":\"\"},\"baxis\":{\"gridcolor\":\"white\",\"linecolor\":\"white\",\"ticks\":\"\"},\"caxis\":{\"gridcolor\":\"white\",\"linecolor\":\"white\",\"ticks\":\"\"}},\"coloraxis\":{\"colorbar\":{\"outlinewidth\":0,\"ticks\":\"\"}},\"colorscale\":{\"sequential\":[[0.0,\"#0d0887\"],[0.1111111111111111,\"#46039f\"],[0.2222222222222222,\"#7201a8\"],[0.3333333333333333,\"#9c179e\"],[0.4444444444444444,\"#bd3786\"],[0.5555555555555556,\"#d8576b\"],[0.6666666666666666,\"#ed7953\"],[0.7777777777777778,\"#fb9f3a\"],[0.8888888888888888,\"#fdca26\"],[1.0,\"#f0f921\"]],\"sequentialminus\":[[0.0,\"#0d0887\"],[0.1111111111111111,\"#46039f\"],[0.2222222222222222,\"#7201a8\"],[0.3333333333333333,\"#9c179e\"],[0.4444444444444444,\"#bd3786\"],[0.5555555555555556,\"#d8576b\"],[0.6666666666666666,\"#ed7953\"],[0.7777777777777778,\"#fb9f3a\"],[0.8888888888888888,\"#fdca26\"],[1.0,\"#f0f921\"]],\"diverging\":[[0,\"#8e0152\"],[0.1,\"#c51b7d\"],[0.2,\"#de77ae\"],[0.3,\"#f1b6da\"],[0.4,\"#fde0ef\"],[0.5,\"#f7f7f7\"],[0.6,\"#e6f5d0\"],[0.7,\"#b8e186\"],[0.8,\"#7fbc41\"],[0.9,\"#4d9221\"],[1,\"#276419\"]]},\"xaxis\":{\"gridcolor\":\"white\",\"linecolor\":\"white\",\"ticks\":\"\",\"title\":{\"standoff\":15},\"zerolinecolor\":\"white\",\"automargin\":true,\"zerolinewidth\":2},\"yaxis\":{\"gridcolor\":\"white\",\"linecolor\":\"white\",\"ticks\":\"\",\"title\":{\"standoff\":15},\"zerolinecolor\":\"white\",\"automargin\":true,\"zerolinewidth\":2},\"scene\":{\"xaxis\":{\"backgroundcolor\":\"#E5ECF6\",\"gridcolor\":\"white\",\"linecolor\":\"white\",\"showbackground\":true,\"ticks\":\"\",\"zerolinecolor\":\"white\",\"gridwidth\":2},\"yaxis\":{\"backgroundcolor\":\"#E5ECF6\",\"gridcolor\":\"white\",\"linecolor\":\"white\",\"showbackground\":true,\"ticks\":\"\",\"zerolinecolor\":\"white\",\"gridwidth\":2},\"zaxis\":{\"backgroundcolor\":\"#E5ECF6\",\"gridcolor\":\"white\",\"linecolor\":\"white\",\"showbackground\":true,\"ticks\":\"\",\"zerolinecolor\":\"white\",\"gridwidth\":2}},\"shapedefaults\":{\"line\":{\"color\":\"#2a3f5f\"}},\"annotationdefaults\":{\"arrowcolor\":\"#2a3f5f\",\"arrowhead\":0,\"arrowwidth\":1},\"geo\":{\"bgcolor\":\"white\",\"landcolor\":\"#E5ECF6\",\"subunitcolor\":\"white\",\"showland\":true,\"showlakes\":true,\"lakecolor\":\"white\"},\"title\":{\"x\":0.05},\"mapbox\":{\"style\":\"light\"}}},\"xaxis\":{\"anchor\":\"y\",\"domain\":[0.0,1.0],\"title\":{\"text\":\"Cluster\"}},\"yaxis\":{\"anchor\":\"x\",\"domain\":[0.0,1.0],\"title\":{\"text\":\"value\"}},\"legend\":{\"title\":{\"text\":\"Attributes\"},\"tracegroupgap\":0},\"margin\":{\"t\":60},\"barmode\":\"group\",\"title\":{\"text\":\"Cluster Characteristics 1\",\"x\":0.5}},                        {\"responsive\": true}                    ).then(function(){\n",
       "                            \n",
       "var gd = document.getElementById('d062fbda-bce5-45ce-a316-862c53a3703f');\n",
       "var x = new MutationObserver(function (mutations, observer) {{\n",
       "        var display = window.getComputedStyle(gd).display;\n",
       "        if (!display || display === 'none') {{\n",
       "            console.log([gd, 'removed!']);\n",
       "            Plotly.purge(gd);\n",
       "            observer.disconnect();\n",
       "        }}\n",
       "}});\n",
       "\n",
       "// Listen for the removal of the full notebook cells\n",
       "var notebookContainer = gd.closest('#notebook-container');\n",
       "if (notebookContainer) {{\n",
       "    x.observe(notebookContainer, {childList: true});\n",
       "}}\n",
       "\n",
       "// Listen for the clearing of the current output cell\n",
       "var outputEl = gd.closest('.output');\n",
       "if (outputEl) {{\n",
       "    x.observe(outputEl, {childList: true});\n",
       "}}\n",
       "\n",
       "                        })                };                });            </script>        </div>"
      ]
     },
     "metadata": {},
     "output_type": "display_data"
    }
   ],
   "source": [
    "px.bar(dfGrouped_mean[:5],barmode = 'group').update_layout(legend_title = 'Attributes',title = 'Cluster Characteristics 1',title_x=0.5)"
   ]
  }
 ],
 "metadata": {
  "kernelspec": {
   "display_name": "Python 3 (ipykernel)",
   "language": "python",
   "name": "python3"
  },
  "language_info": {
   "codemirror_mode": {
    "name": "ipython",
    "version": 3
   },
   "file_extension": ".py",
   "mimetype": "text/x-python",
   "name": "python",
   "nbconvert_exporter": "python",
   "pygments_lexer": "ipython3",
   "version": "3.12.2"
  }
 },
 "nbformat": 4,
 "nbformat_minor": 5
}
